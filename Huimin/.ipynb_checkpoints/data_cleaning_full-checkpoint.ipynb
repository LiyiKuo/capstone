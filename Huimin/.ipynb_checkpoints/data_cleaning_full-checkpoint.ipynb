{
 "cells": [
  {
   "cell_type": "code",
   "execution_count": 3,
   "metadata": {},
   "outputs": [],
   "source": [
    "import numpy as np\n",
    "import pandas as pd\n",
    "from datetime import datetime as dt\n",
    "from datetime import timedelta\n"
   ]
  },
  {
   "cell_type": "code",
   "execution_count": 4,
   "metadata": {},
   "outputs": [
    {
     "name": "stderr",
     "output_type": "stream",
     "text": [
      "C:\\Users\\Laptop2\\Anaconda3\\lib\\site-packages\\IPython\\core\\interactiveshell.py:3057: DtypeWarning: Columns (0,19,49,59,118,129,130,131,134,135,136,139,145,146,147) have mixed types. Specify dtype option on import or set low_memory=False.\n",
      "  interactivity=interactivity, compiler=compiler, result=result)\n"
     ]
    }
   ],
   "source": [
    "accepted_raw=pd.read_csv('accepted_2007_to_2018Q4.csv.gz')"
   ]
  },
  {
   "cell_type": "code",
   "execution_count": 8,
   "metadata": {},
   "outputs": [],
   "source": [
    "\n",
    "def data_processing(data):\n",
    "\n",
    "#1 to 40\n",
    "    # Drop irrelavant columns \n",
    "    drop_list = ['Unnamed: 0','id','member_id','funded_amnt','url','desc','title']\n",
    "\n",
    "    drop_for_grade_list = ['funded_amnt_inv','int_rate','installment','issue_d','loan_status','pymnt_plan','out_prncp','out_prncp_inv']\n",
    "\n",
    "    data = data.drop(drop_list, axis=1)\n",
    "    data = data.drop(drop_for_grade_list, axis=1)\n",
    "\n",
    "    # Convert categorical to numerical \n",
    "    data['term'] = data['term'].apply(lambda x: int(x.split()[0]))\n",
    "    data['emp_length'] = data['emp_length'].str.extract('(\\d+)') \n",
    "    #10 means more than 10 years \n",
    "\n",
    "    # Convert to Datetime\n",
    "    data['earliest_cr_line'] = pd.to_datetime(data['earliest_cr_line'])\n",
    "\n",
    "    # Missing Values \n",
    "\n",
    "    data.mths_since_last_record = data.mths_since_last_record.fillna(0)\n",
    "    data.mths_since_last_delinq = data.mths_since_last_delinq.fillna(0)\n",
    "\n",
    "    data.emp_title = data.emp_title.fillna('None')\n",
    "    data.emp_length = data.emp_length.fillna(0)\n",
    "\n",
    "    data.revol_util = data.revol_util.fillna(0)\n",
    "\n",
    "    data.dti = data.dti.fillna(data.revol_bal / data.annual_inc)\n",
    "\n",
    "\n",
    "#41-80\n",
    "    data['last_pymnt_d']= pd.to_datetime(data['last_pymnt_d'])\n",
    "    data['last_credit_pull_d']= pd.to_datetime(data['last_credit_pull_d'])\n",
    "    data['next_pymnt_d']= pd.to_datetime(data['next_pymnt_d'])\n",
    "    data.drop(['annual_inc_joint', 'dti_joint', 'verification_status_joint'], axis=1)\n",
    "    data[['last_pymnt_d', 'next_pymnt_d', 'next_pymnt_d']] = data[['last_pymnt_d', 'next_pymnt_d', 'next_pymnt_d']].replace(np.NaN, 'NA')\n",
    "    data[['collections_12_mths_ex_med', 'mths_since_last_major_derog']]= data[['collections_12_mths_ex_med', 'mths_since_last_major_derog']].replace(np.NaN, 0)\n",
    "    data[['acc_now_delinq','tot_coll_amt','open_acc_6m','open_il_6m','open_il_12m']]=data[['acc_now_delinq','tot_coll_amt','open_acc_6m','open_il_6m','open_il_12m']].replace(np.NaN, 0)\n",
    "    data[['tot_cur_bal']]=data[['tot_cur_bal']].replace(np.NAN, 'NA')\n",
    "    data[['open_il_24m','open_rv_12m','open_rv_24m','inq_fi']]=data[['open_il_24m','open_rv_12m','open_rv_24m','inq_fi']].replace(np.NaN, 0)\n",
    "    data['mths_since_rcnt_il'].fillna((data['mths_since_rcnt_il'].mean()), inplace=True)\n",
    "    data['total_bal_il'].fillna((data['total_bal_il'].mean()), inplace=True)\n",
    "    data['max_bal_bc'].fillna((data['max_bal_bc'].mean()), inplace=True)\n",
    "    data['total_rev_hi_lim'].fillna((data['total_rev_hi_lim'].mean()), inplace=True)\n",
    "    data[['total_cu_tl','inq_last_12m','acc_open_past_24mths','chargeoff_within_12_mths','delinq_amnt']]=data[['total_cu_tl','inq_last_12m','acc_open_past_24mths','chargeoff_within_12_mths','delinq_amnt']].replace(np.NaN, 0)\n",
    "    data['avg_cur_bal'].fillna((data['avg_cur_bal'].mean()), inplace=True)\n",
    "    data['bc_open_to_buy'].fillna((data['bc_open_to_buy'].mean()), inplace=True)\n",
    "    data['bc_util'].fillna((data['bc_util'].mean()), inplace=True)\n",
    "    data['mo_sin_old_il_acct'].fillna((data['mo_sin_old_il_acct'].mean()), inplace=True)\n",
    "    data['mo_sin_old_rev_tl_op'].fillna((data['mo_sin_old_rev_tl_op'].mean()), inplace=True)\n",
    "\n",
    "\n",
    "#81 to 120\n",
    "    \n",
    "\n",
    "    #columns to drop\n",
    "    data.drop(['revol_bal_joint', 'sec_app_fico_range_low','sec_app_fico_range_high','sec_app_earliest_cr_line','sec_app_inq_last_6mths'\n",
    "                 ,'sec_app_mort_acc'], axis=1, inplace=True)\n",
    "\n",
    "    #columns to fillna with 0\n",
    "    fill =data[['bc_util','chargeoff_within_12_mths',\n",
    "                    'delinq_amnt','mort_acc','mths_since_recent_bc','mths_since_recent_bc_dlq',\n",
    "                     'num_tl_90g_dpd_24m','num_tl_op_past_12m','pub_rec_bankruptcies','tax_liens']]\n",
    "\n",
    "    for column in fill:\n",
    "        data[column].fillna(0)\n",
    "\n",
    "\n",
    "#120 to rest\n",
    "\n",
    "    #Drop rows with missing information\n",
    "    row_to_drop=data[data.issue_d.isna()].index.tolist()\n",
    "    data=data.drop(data.index[row_to_drop])\n",
    "    \n",
    "    #IMPUTE MISSING VALUES\n",
    "    #for the secondary applicant group, nan is for no secondary applicant. \n",
    "    #sec_: numerical columns, -999 is used to distinguish data\n",
    "    data.sec_app_inq_last_6mths=data.sec_app_inq_last_6mths.fillna(-999)\n",
    "    data.sec_app_mort_acc=data.sec_app_mort_acc.fillna(-999)\n",
    "    data.sec_app_open_acc=data.sec_app_open_acc.fillna(-999)\n",
    "    data.sec_app_revol_util=data.sec_app_revol_util.fillna(-999)\n",
    "    data.sec_app_open_act_il=data.sec_app_open_act_il.fillna(-999)\n",
    "    data.sec_app_num_rev_accts=data.sec_app_num_rev_accts.fillna(-999)\n",
    "    data.sec_app_chargeoff_within_12_mths=data.sec_app_chargeoff_within_12_mths.fillna(-999)\n",
    "    data.sec_app_collections_12_mths_ex_med=data.sec_app_collections_12_mths_ex_med.fillna(-999)\n",
    "    data.sec_app_mths_since_last_major_derog=data.sec_app_mths_since_last_major_derog.fillna(-999)\n",
    "    \n",
    "    \n",
    "    columns_after_loan_issued=['hardship_flag',\n",
    "     'hardship_type',\n",
    "     'hardship_reason',\n",
    "     'hardship_status',\n",
    "     'deferral_term',\n",
    "     'hardship_amount',\n",
    "     'hardship_start_date',\n",
    "     'hardship_end_date',\n",
    "     'payment_plan_start_date',\n",
    "     'hardship_length',\n",
    "     'hardship_dpd',\n",
    "     'hardship_loan_status',\n",
    "     'orig_projected_additional_accrued_interest',\n",
    "     'hardship_payoff_balance_amount',\n",
    "     'hardship_last_payment_amount',\n",
    "     'disbursement_method',\n",
    "     'debt_settlement_flag',\n",
    "     'debt_settlement_flag_date',\n",
    "     'settlement_status',\n",
    "     'settlement_date',\n",
    "     'settlement_amount',\n",
    "     'settlement_percentage',\n",
    "     'settlement_term']\n",
    "    \n",
    "    #Drop Columns after loan issued\n",
    "    data=data.drop(columns_after_loan_issued, axis=1)\n",
    "    \n",
    "    return data\n"
   ]
  },
  {
   "cell_type": "code",
   "execution_count": 9,
   "metadata": {},
   "outputs": [
    {
     "ename": "KeyError",
     "evalue": "\"['Unnamed: 0'] not found in axis\"",
     "output_type": "error",
     "traceback": [
      "\u001b[1;31m---------------------------------------------------------------------------\u001b[0m",
      "\u001b[1;31mKeyError\u001b[0m                                  Traceback (most recent call last)",
      "\u001b[1;32m<ipython-input-9-6a47d9c5deda>\u001b[0m in \u001b[0;36m<module>\u001b[1;34m\u001b[0m\n\u001b[1;32m----> 1\u001b[1;33m \u001b[0mdata_processing\u001b[0m\u001b[1;33m(\u001b[0m\u001b[0maccepted_raw\u001b[0m\u001b[1;33m)\u001b[0m\u001b[1;33m\u001b[0m\u001b[1;33m\u001b[0m\u001b[0m\n\u001b[0m",
      "\u001b[1;32m<ipython-input-8-bcb98576a656>\u001b[0m in \u001b[0;36mdata_processing\u001b[1;34m(data)\u001b[0m\n\u001b[0;32m      7\u001b[0m     \u001b[0mdrop_for_grade_list\u001b[0m \u001b[1;33m=\u001b[0m \u001b[1;33m[\u001b[0m\u001b[1;34m'funded_amnt_inv'\u001b[0m\u001b[1;33m,\u001b[0m\u001b[1;34m'int_rate'\u001b[0m\u001b[1;33m,\u001b[0m\u001b[1;34m'installment'\u001b[0m\u001b[1;33m,\u001b[0m\u001b[1;34m'issue_d'\u001b[0m\u001b[1;33m,\u001b[0m\u001b[1;34m'loan_status'\u001b[0m\u001b[1;33m,\u001b[0m\u001b[1;34m'pymnt_plan'\u001b[0m\u001b[1;33m,\u001b[0m\u001b[1;34m'out_prncp'\u001b[0m\u001b[1;33m,\u001b[0m\u001b[1;34m'out_prncp_inv'\u001b[0m\u001b[1;33m]\u001b[0m\u001b[1;33m\u001b[0m\u001b[1;33m\u001b[0m\u001b[0m\n\u001b[0;32m      8\u001b[0m \u001b[1;33m\u001b[0m\u001b[0m\n\u001b[1;32m----> 9\u001b[1;33m     \u001b[0mdata\u001b[0m \u001b[1;33m=\u001b[0m \u001b[0mdata\u001b[0m\u001b[1;33m.\u001b[0m\u001b[0mdrop\u001b[0m\u001b[1;33m(\u001b[0m\u001b[0mdrop_list\u001b[0m\u001b[1;33m,\u001b[0m \u001b[0maxis\u001b[0m\u001b[1;33m=\u001b[0m\u001b[1;36m1\u001b[0m\u001b[1;33m)\u001b[0m\u001b[1;33m\u001b[0m\u001b[1;33m\u001b[0m\u001b[0m\n\u001b[0m\u001b[0;32m     10\u001b[0m     \u001b[0mdata\u001b[0m \u001b[1;33m=\u001b[0m \u001b[0mdata\u001b[0m\u001b[1;33m.\u001b[0m\u001b[0mdrop\u001b[0m\u001b[1;33m(\u001b[0m\u001b[0mdrop_for_grade_list\u001b[0m\u001b[1;33m,\u001b[0m \u001b[0maxis\u001b[0m\u001b[1;33m=\u001b[0m\u001b[1;36m1\u001b[0m\u001b[1;33m)\u001b[0m\u001b[1;33m\u001b[0m\u001b[1;33m\u001b[0m\u001b[0m\n\u001b[0;32m     11\u001b[0m \u001b[1;33m\u001b[0m\u001b[0m\n",
      "\u001b[1;32m~\\Anaconda3\\lib\\site-packages\\pandas\\core\\frame.py\u001b[0m in \u001b[0;36mdrop\u001b[1;34m(self, labels, axis, index, columns, level, inplace, errors)\u001b[0m\n\u001b[0;32m   3938\u001b[0m                                            \u001b[0mindex\u001b[0m\u001b[1;33m=\u001b[0m\u001b[0mindex\u001b[0m\u001b[1;33m,\u001b[0m \u001b[0mcolumns\u001b[0m\u001b[1;33m=\u001b[0m\u001b[0mcolumns\u001b[0m\u001b[1;33m,\u001b[0m\u001b[1;33m\u001b[0m\u001b[1;33m\u001b[0m\u001b[0m\n\u001b[0;32m   3939\u001b[0m                                            \u001b[0mlevel\u001b[0m\u001b[1;33m=\u001b[0m\u001b[0mlevel\u001b[0m\u001b[1;33m,\u001b[0m \u001b[0minplace\u001b[0m\u001b[1;33m=\u001b[0m\u001b[0minplace\u001b[0m\u001b[1;33m,\u001b[0m\u001b[1;33m\u001b[0m\u001b[1;33m\u001b[0m\u001b[0m\n\u001b[1;32m-> 3940\u001b[1;33m                                            errors=errors)\n\u001b[0m\u001b[0;32m   3941\u001b[0m \u001b[1;33m\u001b[0m\u001b[0m\n\u001b[0;32m   3942\u001b[0m     @rewrite_axis_style_signature('mapper', [('copy', True),\n",
      "\u001b[1;32m~\\Anaconda3\\lib\\site-packages\\pandas\\core\\generic.py\u001b[0m in \u001b[0;36mdrop\u001b[1;34m(self, labels, axis, index, columns, level, inplace, errors)\u001b[0m\n\u001b[0;32m   3778\u001b[0m         \u001b[1;32mfor\u001b[0m \u001b[0maxis\u001b[0m\u001b[1;33m,\u001b[0m \u001b[0mlabels\u001b[0m \u001b[1;32min\u001b[0m \u001b[0maxes\u001b[0m\u001b[1;33m.\u001b[0m\u001b[0mitems\u001b[0m\u001b[1;33m(\u001b[0m\u001b[1;33m)\u001b[0m\u001b[1;33m:\u001b[0m\u001b[1;33m\u001b[0m\u001b[1;33m\u001b[0m\u001b[0m\n\u001b[0;32m   3779\u001b[0m             \u001b[1;32mif\u001b[0m \u001b[0mlabels\u001b[0m \u001b[1;32mis\u001b[0m \u001b[1;32mnot\u001b[0m \u001b[1;32mNone\u001b[0m\u001b[1;33m:\u001b[0m\u001b[1;33m\u001b[0m\u001b[1;33m\u001b[0m\u001b[0m\n\u001b[1;32m-> 3780\u001b[1;33m                 \u001b[0mobj\u001b[0m \u001b[1;33m=\u001b[0m \u001b[0mobj\u001b[0m\u001b[1;33m.\u001b[0m\u001b[0m_drop_axis\u001b[0m\u001b[1;33m(\u001b[0m\u001b[0mlabels\u001b[0m\u001b[1;33m,\u001b[0m \u001b[0maxis\u001b[0m\u001b[1;33m,\u001b[0m \u001b[0mlevel\u001b[0m\u001b[1;33m=\u001b[0m\u001b[0mlevel\u001b[0m\u001b[1;33m,\u001b[0m \u001b[0merrors\u001b[0m\u001b[1;33m=\u001b[0m\u001b[0merrors\u001b[0m\u001b[1;33m)\u001b[0m\u001b[1;33m\u001b[0m\u001b[1;33m\u001b[0m\u001b[0m\n\u001b[0m\u001b[0;32m   3781\u001b[0m \u001b[1;33m\u001b[0m\u001b[0m\n\u001b[0;32m   3782\u001b[0m         \u001b[1;32mif\u001b[0m \u001b[0minplace\u001b[0m\u001b[1;33m:\u001b[0m\u001b[1;33m\u001b[0m\u001b[1;33m\u001b[0m\u001b[0m\n",
      "\u001b[1;32m~\\Anaconda3\\lib\\site-packages\\pandas\\core\\generic.py\u001b[0m in \u001b[0;36m_drop_axis\u001b[1;34m(self, labels, axis, level, errors)\u001b[0m\n\u001b[0;32m   3810\u001b[0m                 \u001b[0mnew_axis\u001b[0m \u001b[1;33m=\u001b[0m \u001b[0maxis\u001b[0m\u001b[1;33m.\u001b[0m\u001b[0mdrop\u001b[0m\u001b[1;33m(\u001b[0m\u001b[0mlabels\u001b[0m\u001b[1;33m,\u001b[0m \u001b[0mlevel\u001b[0m\u001b[1;33m=\u001b[0m\u001b[0mlevel\u001b[0m\u001b[1;33m,\u001b[0m \u001b[0merrors\u001b[0m\u001b[1;33m=\u001b[0m\u001b[0merrors\u001b[0m\u001b[1;33m)\u001b[0m\u001b[1;33m\u001b[0m\u001b[1;33m\u001b[0m\u001b[0m\n\u001b[0;32m   3811\u001b[0m             \u001b[1;32melse\u001b[0m\u001b[1;33m:\u001b[0m\u001b[1;33m\u001b[0m\u001b[1;33m\u001b[0m\u001b[0m\n\u001b[1;32m-> 3812\u001b[1;33m                 \u001b[0mnew_axis\u001b[0m \u001b[1;33m=\u001b[0m \u001b[0maxis\u001b[0m\u001b[1;33m.\u001b[0m\u001b[0mdrop\u001b[0m\u001b[1;33m(\u001b[0m\u001b[0mlabels\u001b[0m\u001b[1;33m,\u001b[0m \u001b[0merrors\u001b[0m\u001b[1;33m=\u001b[0m\u001b[0merrors\u001b[0m\u001b[1;33m)\u001b[0m\u001b[1;33m\u001b[0m\u001b[1;33m\u001b[0m\u001b[0m\n\u001b[0m\u001b[0;32m   3813\u001b[0m             \u001b[0mresult\u001b[0m \u001b[1;33m=\u001b[0m \u001b[0mself\u001b[0m\u001b[1;33m.\u001b[0m\u001b[0mreindex\u001b[0m\u001b[1;33m(\u001b[0m\u001b[1;33m**\u001b[0m\u001b[1;33m{\u001b[0m\u001b[0maxis_name\u001b[0m\u001b[1;33m:\u001b[0m \u001b[0mnew_axis\u001b[0m\u001b[1;33m}\u001b[0m\u001b[1;33m)\u001b[0m\u001b[1;33m\u001b[0m\u001b[1;33m\u001b[0m\u001b[0m\n\u001b[0;32m   3814\u001b[0m \u001b[1;33m\u001b[0m\u001b[0m\n",
      "\u001b[1;32m~\\Anaconda3\\lib\\site-packages\\pandas\\core\\indexes\\base.py\u001b[0m in \u001b[0;36mdrop\u001b[1;34m(self, labels, errors)\u001b[0m\n\u001b[0;32m   4963\u001b[0m             \u001b[1;32mif\u001b[0m \u001b[0merrors\u001b[0m \u001b[1;33m!=\u001b[0m \u001b[1;34m'ignore'\u001b[0m\u001b[1;33m:\u001b[0m\u001b[1;33m\u001b[0m\u001b[1;33m\u001b[0m\u001b[0m\n\u001b[0;32m   4964\u001b[0m                 raise KeyError(\n\u001b[1;32m-> 4965\u001b[1;33m                     '{} not found in axis'.format(labels[mask]))\n\u001b[0m\u001b[0;32m   4966\u001b[0m             \u001b[0mindexer\u001b[0m \u001b[1;33m=\u001b[0m \u001b[0mindexer\u001b[0m\u001b[1;33m[\u001b[0m\u001b[1;33m~\u001b[0m\u001b[0mmask\u001b[0m\u001b[1;33m]\u001b[0m\u001b[1;33m\u001b[0m\u001b[1;33m\u001b[0m\u001b[0m\n\u001b[0;32m   4967\u001b[0m         \u001b[1;32mreturn\u001b[0m \u001b[0mself\u001b[0m\u001b[1;33m.\u001b[0m\u001b[0mdelete\u001b[0m\u001b[1;33m(\u001b[0m\u001b[0mindexer\u001b[0m\u001b[1;33m)\u001b[0m\u001b[1;33m\u001b[0m\u001b[1;33m\u001b[0m\u001b[0m\n",
      "\u001b[1;31mKeyError\u001b[0m: \"['Unnamed: 0'] not found in axis\""
     ]
    }
   ],
   "source": [
    "data_processing(accepted_raw)"
   ]
  },
  {
   "cell_type": "code",
   "execution_count": null,
   "metadata": {},
   "outputs": [],
   "source": []
  }
 ],
 "metadata": {
  "kernelspec": {
   "display_name": "Python 3",
   "language": "python",
   "name": "python3"
  },
  "language_info": {
   "codemirror_mode": {
    "name": "ipython",
    "version": 3
   },
   "file_extension": ".py",
   "mimetype": "text/x-python",
   "name": "python",
   "nbconvert_exporter": "python",
   "pygments_lexer": "ipython3",
   "version": "3.7.3"
  }
 },
 "nbformat": 4,
 "nbformat_minor": 2
}
