{
 "cells": [
  {
   "cell_type": "markdown",
   "metadata": {},
   "source": [
    "\n",
    "###Project Idea 1:\n",
    "\n",
    "    Make a simplifying assumption between the loan issuance date and application dates, convert the approved loans into the formats of rejected loan applications.\n",
    "\n",
    "    Use supervised technique and clustering, describe (reverse engineering) the loan approval criterion of Lending Club.\n",
    "        Challenges: The aggregated data has more than $20M$ samples. This is beyond the coverage of many ML algorithms. How do you design an apporach which allows you to train on such a large size data? The problem is particularly serious for training pooled models.\n",
    "        When you apply supervised technique, it might involve imbalanced classification. How would you handle 'im-balanced dataset' like this?\n",
    "\n",
    "    Are there poor performing approved loans which should be rejected?\n",
    "    What is the business impact (pros and cons) of rejecting such non-performing loans?\n",
    "\n"
   ]
  },
  {
   "cell_type": "code",
   "execution_count": 66,
   "metadata": {},
   "outputs": [],
   "source": [
    "import numpy as np\n",
    "import pandas as pd\n",
    "\n",
    "pd.options.display.max_columns = None\n",
    "pd.options.display.max_rows = 100\n",
    "\n",
    "# from sklearn.preprocessing import OrdinalEncoder\n",
    "# from sklearn.preprocessing import OneHotEncoder\n",
    "# from sklearn.preprocessing import LabelEncoder\n",
    "\n",
    "# from sklearn.model_selection import train_test_split\n",
    "# from sklearn.linear_model import LinearRegression \n",
    "# from sklearn.preprocessing import StandardScaler, MinMaxScaler, MaxAbsScaler"
   ]
  },
  {
   "cell_type": "code",
   "execution_count": 9,
   "metadata": {},
   "outputs": [
    {
     "name": "stderr",
     "output_type": "stream",
     "text": [
      "C:\\Users\\Laptop2\\Anaconda3\\lib\\site-packages\\IPython\\core\\interactiveshell.py:3057: DtypeWarning: Columns (0,19,49,59,118,129,130,131,134,135,136,139,145,146,147) have mixed types. Specify dtype option on import or set low_memory=False.\n",
      "  interactivity=interactivity, compiler=compiler, result=result)\n"
     ]
    }
   ],
   "source": [
    "df_raw_accepted = pd.read_csv('accepted_2007_to_2018Q4.csv.gz')\n",
    "df_raw_rejected = pd.read_csv('rejected_2007_to_2018Q4.csv.gz')"
   ]
  },
  {
   "cell_type": "code",
   "execution_count": 15,
   "metadata": {},
   "outputs": [],
   "source": [
    "df_raw_accepted['issue_year']=pd.to_datetime(df_raw_accepted.issue_d).dt.year"
   ]
  },
  {
   "cell_type": "code",
   "execution_count": 25,
   "metadata": {},
   "outputs": [],
   "source": [
    "#drop rows with missing informations, 33 of them\n",
    "row_to_drop=df_raw_accepted[df_raw_accepted.issue_d.isna()].index.tolist()\n",
    "df_raw_accepted=df_raw_accepted.drop(df_raw_accepted.index[row_to_drop])"
   ]
  },
  {
   "cell_type": "code",
   "execution_count": 26,
   "metadata": {},
   "outputs": [
    {
     "data": {
      "text/plain": [
       "[2015.0,\n",
       " 2018.0,\n",
       " 2017.0,\n",
       " 2016.0,\n",
       " 2014.0,\n",
       " 2011.0,\n",
       " 2010.0,\n",
       " 2009.0,\n",
       " 2008.0,\n",
       " 2007.0,\n",
       " 2013.0,\n",
       " 2012.0]"
      ]
     },
     "execution_count": 26,
     "metadata": {},
     "output_type": "execute_result"
    }
   ],
   "source": [
    "years=df_raw_accepted.issue_year.unique().tolist()\n",
    "years"
   ]
  },
  {
   "cell_type": "code",
   "execution_count": 47,
   "metadata": {},
   "outputs": [],
   "source": [
    "#subset dataframe by issue_year for resample\n",
    "accept2007=df_raw_accepted.loc[df_raw_accepted.issue_year==2007]\n",
    "accept2008=df_raw_accepted.loc[df_raw_accepted.issue_year==2008]\n",
    "accept2009=df_raw_accepted.loc[df_raw_accepted.issue_year==2009]\n",
    "accept2010=df_raw_accepted.loc[df_raw_accepted.issue_year==2010]\n",
    "accept2011=df_raw_accepted.loc[df_raw_accepted.issue_year==2011]\n",
    "accept2012=df_raw_accepted.loc[df_raw_accepted.issue_year==2012]\n",
    "accept2013=df_raw_accepted.loc[df_raw_accepted.issue_year==2013]\n",
    "accept2014=df_raw_accepted.loc[df_raw_accepted.issue_year==2014]\n",
    "accept2015=df_raw_accepted.loc[df_raw_accepted.issue_year==2015]\n",
    "accept2016=df_raw_accepted.loc[df_raw_accepted.issue_year==2016]\n",
    "accept2017=df_raw_accepted.loc[df_raw_accepted.issue_year==2017]\n",
    "accept2018=df_raw_accepted.loc[df_raw_accepted.issue_year==2018]\n"
   ]
  },
  {
   "cell_type": "code",
   "execution_count": 60,
   "metadata": {},
   "outputs": [
    {
     "name": "stdout",
     "output_type": "stream",
     "text": [
      "2007 (603, 152)\n",
      "2008 (2393, 152)\n",
      "2009 (5281, 152)\n",
      "2010 (12537, 152)\n",
      "2011 (21721, 152)\n",
      "2012 (53367, 152)\n",
      "2013 (134814, 152)\n",
      "2014 (235629, 152)\n",
      "2015 (421095, 152)\n",
      "2016 (434407, 152)\n",
      "2017 (443579, 152)\n",
      "2018 (495242, 152)\n"
     ]
    }
   ],
   "source": [
    "print ('2007', accepted2007.shape)\n",
    "print('2008',accepted2008.shape)\n",
    "print('2009',accepted2009.shape)\n",
    "print('2010',accepted2010.shape)\n",
    "print('2011',accepted2011.shape)\n",
    "print('2012',accepted2012.shape)\n",
    "print('2013',accepted2013.shape)\n",
    "print('2014',accepted2014.shape)\n",
    "print('2015',accepted2015.shape)\n",
    "print('2016',accepted2016.shape)\n",
    "print('2017',accepted2017.shape)\n",
    "print('2018',accepted2018.shape)\n"
   ]
  },
  {
   "cell_type": "code",
   "execution_count": 61,
   "metadata": {},
   "outputs": [
    {
     "ename": "KeyboardInterrupt",
     "evalue": "",
     "output_type": "error",
     "traceback": [
      "\u001b[1;31m---------------------------------------------------------------------------\u001b[0m",
      "\u001b[1;31mKeyboardInterrupt\u001b[0m                         Traceback (most recent call last)",
      "\u001b[1;32m<ipython-input-61-68c35633b381>\u001b[0m in \u001b[0;36m<module>\u001b[1;34m\u001b[0m\n\u001b[1;32m----> 1\u001b[1;33m \u001b[0mdf_raw_rejected\u001b[0m\u001b[1;33m[\u001b[0m\u001b[1;34m'issue_year'\u001b[0m\u001b[1;33m]\u001b[0m\u001b[1;33m=\u001b[0m\u001b[0mpd\u001b[0m\u001b[1;33m.\u001b[0m\u001b[0mto_datetime\u001b[0m\u001b[1;33m(\u001b[0m\u001b[0mdf_raw_rejected\u001b[0m\u001b[1;33m[\u001b[0m\u001b[1;34m'Application Date'\u001b[0m\u001b[1;33m]\u001b[0m\u001b[1;33m)\u001b[0m\u001b[1;33m.\u001b[0m\u001b[0mdt\u001b[0m\u001b[1;33m.\u001b[0m\u001b[0myear\u001b[0m\u001b[1;33m\u001b[0m\u001b[1;33m\u001b[0m\u001b[0m\n\u001b[0m",
      "\u001b[1;32m~\\Anaconda3\\lib\\site-packages\\pandas\\core\\tools\\datetimes.py\u001b[0m in \u001b[0;36mto_datetime\u001b[1;34m(arg, errors, dayfirst, yearfirst, utc, box, format, exact, unit, infer_datetime_format, origin, cache)\u001b[0m\n\u001b[0;32m    590\u001b[0m         \u001b[1;32melse\u001b[0m\u001b[1;33m:\u001b[0m\u001b[1;33m\u001b[0m\u001b[1;33m\u001b[0m\u001b[0m\n\u001b[0;32m    591\u001b[0m             \u001b[1;32mfrom\u001b[0m \u001b[0mpandas\u001b[0m \u001b[1;32mimport\u001b[0m \u001b[0mSeries\u001b[0m\u001b[1;33m\u001b[0m\u001b[1;33m\u001b[0m\u001b[0m\n\u001b[1;32m--> 592\u001b[1;33m             \u001b[0mvalues\u001b[0m \u001b[1;33m=\u001b[0m \u001b[0mconvert_listlike\u001b[0m\u001b[1;33m(\u001b[0m\u001b[0marg\u001b[0m\u001b[1;33m.\u001b[0m\u001b[0m_values\u001b[0m\u001b[1;33m,\u001b[0m \u001b[1;32mTrue\u001b[0m\u001b[1;33m,\u001b[0m \u001b[0mformat\u001b[0m\u001b[1;33m)\u001b[0m\u001b[1;33m\u001b[0m\u001b[1;33m\u001b[0m\u001b[0m\n\u001b[0m\u001b[0;32m    593\u001b[0m             \u001b[0mresult\u001b[0m \u001b[1;33m=\u001b[0m \u001b[0mSeries\u001b[0m\u001b[1;33m(\u001b[0m\u001b[0mvalues\u001b[0m\u001b[1;33m,\u001b[0m \u001b[0mindex\u001b[0m\u001b[1;33m=\u001b[0m\u001b[0marg\u001b[0m\u001b[1;33m.\u001b[0m\u001b[0mindex\u001b[0m\u001b[1;33m,\u001b[0m \u001b[0mname\u001b[0m\u001b[1;33m=\u001b[0m\u001b[0marg\u001b[0m\u001b[1;33m.\u001b[0m\u001b[0mname\u001b[0m\u001b[1;33m)\u001b[0m\u001b[1;33m\u001b[0m\u001b[1;33m\u001b[0m\u001b[0m\n\u001b[0;32m    594\u001b[0m     \u001b[1;32melif\u001b[0m \u001b[0misinstance\u001b[0m\u001b[1;33m(\u001b[0m\u001b[0marg\u001b[0m\u001b[1;33m,\u001b[0m \u001b[1;33m(\u001b[0m\u001b[0mABCDataFrame\u001b[0m\u001b[1;33m,\u001b[0m \u001b[0mcompat\u001b[0m\u001b[1;33m.\u001b[0m\u001b[0mMutableMapping\u001b[0m\u001b[1;33m)\u001b[0m\u001b[1;33m)\u001b[0m\u001b[1;33m:\u001b[0m\u001b[1;33m\u001b[0m\u001b[1;33m\u001b[0m\u001b[0m\n",
      "\u001b[1;32m~\\Anaconda3\\lib\\site-packages\\pandas\\core\\tools\\datetimes.py\u001b[0m in \u001b[0;36m_convert_listlike_datetimes\u001b[1;34m(arg, box, format, name, tz, unit, errors, infer_datetime_format, dayfirst, yearfirst, exact)\u001b[0m\n\u001b[0;32m    300\u001b[0m             \u001b[0marg\u001b[0m\u001b[1;33m,\u001b[0m \u001b[0mdayfirst\u001b[0m\u001b[1;33m=\u001b[0m\u001b[0mdayfirst\u001b[0m\u001b[1;33m,\u001b[0m \u001b[0myearfirst\u001b[0m\u001b[1;33m=\u001b[0m\u001b[0myearfirst\u001b[0m\u001b[1;33m,\u001b[0m\u001b[1;33m\u001b[0m\u001b[1;33m\u001b[0m\u001b[0m\n\u001b[0;32m    301\u001b[0m             \u001b[0mutc\u001b[0m\u001b[1;33m=\u001b[0m\u001b[0mutc\u001b[0m\u001b[1;33m,\u001b[0m \u001b[0merrors\u001b[0m\u001b[1;33m=\u001b[0m\u001b[0merrors\u001b[0m\u001b[1;33m,\u001b[0m \u001b[0mrequire_iso8601\u001b[0m\u001b[1;33m=\u001b[0m\u001b[0mrequire_iso8601\u001b[0m\u001b[1;33m,\u001b[0m\u001b[1;33m\u001b[0m\u001b[1;33m\u001b[0m\u001b[0m\n\u001b[1;32m--> 302\u001b[1;33m             allow_object=True)\n\u001b[0m\u001b[0;32m    303\u001b[0m \u001b[1;33m\u001b[0m\u001b[0m\n\u001b[0;32m    304\u001b[0m     \u001b[1;32mif\u001b[0m \u001b[0mtz_parsed\u001b[0m \u001b[1;32mis\u001b[0m \u001b[1;32mnot\u001b[0m \u001b[1;32mNone\u001b[0m\u001b[1;33m:\u001b[0m\u001b[1;33m\u001b[0m\u001b[1;33m\u001b[0m\u001b[0m\n",
      "\u001b[1;32m~\\Anaconda3\\lib\\site-packages\\pandas\\core\\arrays\\datetimes.py\u001b[0m in \u001b[0;36mobjects_to_datetime64ns\u001b[1;34m(data, dayfirst, yearfirst, utc, errors, require_iso8601, allow_object)\u001b[0m\n\u001b[0;32m   1855\u001b[0m             \u001b[0mdayfirst\u001b[0m\u001b[1;33m=\u001b[0m\u001b[0mdayfirst\u001b[0m\u001b[1;33m,\u001b[0m\u001b[1;33m\u001b[0m\u001b[1;33m\u001b[0m\u001b[0m\n\u001b[0;32m   1856\u001b[0m             \u001b[0myearfirst\u001b[0m\u001b[1;33m=\u001b[0m\u001b[0myearfirst\u001b[0m\u001b[1;33m,\u001b[0m\u001b[1;33m\u001b[0m\u001b[1;33m\u001b[0m\u001b[0m\n\u001b[1;32m-> 1857\u001b[1;33m             \u001b[0mrequire_iso8601\u001b[0m\u001b[1;33m=\u001b[0m\u001b[0mrequire_iso8601\u001b[0m\u001b[1;33m\u001b[0m\u001b[1;33m\u001b[0m\u001b[0m\n\u001b[0m\u001b[0;32m   1858\u001b[0m         )\n\u001b[0;32m   1859\u001b[0m     \u001b[1;32mexcept\u001b[0m \u001b[0mValueError\u001b[0m \u001b[1;32mas\u001b[0m \u001b[0me\u001b[0m\u001b[1;33m:\u001b[0m\u001b[1;33m\u001b[0m\u001b[1;33m\u001b[0m\u001b[0m\n",
      "\u001b[1;31mKeyboardInterrupt\u001b[0m: "
     ]
    }
   ],
   "source": [
    "df_raw_rejected['issue_year']=pd.to_datetime(df_raw_rejected['Application Date']).dt.year"
   ]
  },
  {
   "cell_type": "code",
   "execution_count": 65,
   "metadata": {},
   "outputs": [],
   "source": [
    "#subset dataframe by issue_year for resample\n",
    "accepted2007=df_raw_accepted.loc[df_raw_accepted.issue_year==2007]\n",
    "accepted2008=df_raw_accepted.loc[df_raw_accepted.issue_year==2008]\n",
    "accepted2009=df_raw_accepted.loc[df_raw_accepted.issue_year==2009]\n",
    "accepted2010=df_raw_accepted.loc[df_raw_accepted.issue_year==2010]\n",
    "accepted2011=df_raw_accepted.loc[df_raw_accepted.issue_year==2011]\n",
    "accepted2012=df_raw_accepted.loc[df_raw_accepted.issue_year==2012]\n",
    "accepted2013=df_raw_accepted.loc[df_raw_accepted.issue_year==2013]\n",
    "accepted2014=df_raw_accepted.loc[df_raw_accepted.issue_year==2014]\n",
    "accepted2015=df_raw_accepted.loc[df_raw_accepted.issue_year==2015]\n",
    "accepted2016=df_raw_accepted.loc[df_raw_accepted.issue_year==2016]\n",
    "accepted2017=df_raw_accepted.loc[df_raw_accepted.issue_year==2017]\n",
    "accepted2018=df_raw_accepted.loc[df_raw_accepted.issue_year==2018]\n"
   ]
  },
  {
   "cell_type": "code",
   "execution_count": 64,
   "metadata": {},
   "outputs": [],
   "source": [
    "# #Down Sampling for df_raw_accepted based on year\n",
    "\n",
    "# df_majority_downsampled = resample(df_majority, \n",
    "#                                  replace=False,    # sample without replacement\n",
    "#                                  n_samples=49,     # to match minority class\n",
    "#                                  random_state=123) # reproducible results"
   ]
  },
  {
   "cell_type": "code",
   "execution_count": 62,
   "metadata": {},
   "outputs": [],
   "source": [
    "#subset dataframe by issue_year for resample\n",
    "rejected2007=df_raw_rejected.loc[df_raw_rejected.issue_year==2007]\n",
    "rejected2008=df_raw_rejected.loc[df_raw_rejected.issue_year==2008]\n",
    "rejected2009=df_raw_rejected.loc[df_raw_rejected.issue_year==2009]\n",
    "rejected2010=df_raw_rejected.loc[df_raw_rejected.issue_year==2010]\n",
    "rejected2011=df_raw_rejected.loc[df_raw_rejected.issue_year==2011]\n",
    "rejected2012=df_raw_rejected.loc[df_raw_rejected.issue_year==2012]\n",
    "rejected2013=df_raw_rejected.loc[df_raw_rejected.issue_year==2013]\n",
    "rejected2014=df_raw_rejected.loc[df_raw_rejected.issue_year==2014]\n",
    "rejected2015=df_raw_rejected.loc[df_raw_rejected.issue_year==2015]\n",
    "rejected2016=df_raw_rejected.loc[df_raw_rejected.issue_year==2016]\n",
    "rejected2017=df_raw_rejected.loc[df_raw_rejected.issue_year==2017]\n",
    "rejected2018=df_raw_rejected.loc[df_raw_rejected.issue_year==2018]\n"
   ]
  },
  {
   "cell_type": "code",
   "execution_count": 63,
   "metadata": {},
   "outputs": [],
   "source": [
    "print ('2007', rejected2007.shape)\n",
    "print('2008',rejected2008.shape)\n",
    "print('2009',rejected2009.shape)\n",
    "print('2010',rejected2010.shape)\n",
    "print('2011',rejected2011.shape)\n",
    "print('2012',rejected2012.shape)\n",
    "print('2013',rejected2013.shape)\n",
    "print('2014',rejected2014.shape)\n",
    "print('2015',rejected2015.shape)\n",
    "print('2016',rejected2016.shape)\n",
    "print('2017',rejected2017.shape)\n",
    "print('2018',rejected2018.shape)\n"
   ]
  },
  {
   "cell_type": "code",
   "execution_count": null,
   "metadata": {},
   "outputs": [],
   "source": []
  }
 ],
 "metadata": {
  "kernelspec": {
   "display_name": "Python 3",
   "language": "python",
   "name": "python3"
  },
  "language_info": {
   "codemirror_mode": {
    "name": "ipython",
    "version": 3
   },
   "file_extension": ".py",
   "mimetype": "text/x-python",
   "name": "python",
   "nbconvert_exporter": "python",
   "pygments_lexer": "ipython3",
   "version": "3.7.3"
  }
 },
 "nbformat": 4,
 "nbformat_minor": 2
}
