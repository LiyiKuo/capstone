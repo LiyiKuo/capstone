{
 "cells": [
  {
   "cell_type": "markdown",
   "metadata": {},
   "source": [
    "# Project Idea 1: \n",
    "\n",
    "- Make a simplifying assumption between the **loan issuance date** and application dates,\n",
    "convert the approved loans into the formats of rejected loan applications.\n",
    "- Use supervised technique and clustering, describe (reverse engineering) \n",
    "the loan approval criterion of **Lending Club**.\n",
    "\n",
    "    - Challenges: The aggregated data has more than $20M$ samples. This is\n",
    "        beyond the coverage of many ML algorithms. How do you design an apporach \n",
    "        which allows you to train on such a large size data? The problem is\n",
    "        particularly serious for training **pooled** models.\n",
    "    - When you apply supervised technique, it might involve imbalanced classification.\n",
    "    How would you handle 'im-balanced dataset' like this?\n",
    "    \n",
    "- Are there poor performing approved loans which should be rejected?\n",
    "- What is the business impact (pros and cons) of rejecting such non-performing loans?\n",
    "</a><br>\n",
    "# Structure: \n",
    "- <a href=\"#preprocessing\">Data Processing Function\n",
    "- <a href=\"#imbalance\">Handling Imbalanced Data</a><br>\n",
    "\n",
    "- <a href=\"#ml\">Machine Learning</a><br>\n",
    "    - Unsupervised Machine Learning  \n",
    "        - <a href=\"#kmeans\">K Means</a><br> \n",
    "    - Supervised Machine Learning      \n",
    "        - <a href=\"#decision\">Decision Tree</a><br>\n",
    "        - <a href=\"#rf\">Random Forest</a><br>\n",
    "        - <a href=\"#svm\">SVM</a><br>\n",
    "        - <a href=\"#xgboost\">XGBoost</a><br>\n",
    "        - <a href=\"#logistic\">Logistic Regression</a><br>\n",
    "        - <a href=\"#naive\">Naive Bayes Classifier</a><br>\n",
    "        - <a href=\"#neighbor\">Nearest Neighbor</a><br>\n"
   ]
  },
  {
   "cell_type": "code",
   "execution_count": 2,
   "metadata": {},
   "outputs": [],
   "source": [
    "import numpy as np\n",
    "import pandas as pd\n",
    "import matplotlib as plt\n",
    "from sklearn.utils import resample\n",
    "\n",
    "%matplotlib inline\n",
    "pd.options.display.max_columns = None\n",
    "pd.options.display.max_rows = 100\n",
    "\n",
    "pd.options.display.max_columns = None\n",
    "pd.options.display.max_rows = 100\n",
    "from sklearn.metrics import roc_curve, auc\n",
    "import matplotlib.pyplot as plt\n",
    "plt.style.use('ggplot')\n",
    "%matplotlib inline\n",
    "from sklearn.linear_model import LogisticRegression\n",
    "\n",
    "from sklearn.model_selection import train_test_split\n",
    "\n"
   ]
  },
  {
   "cell_type": "code",
   "execution_count": 18,
   "metadata": {},
   "outputs": [
    {
     "name": "stderr",
     "output_type": "stream",
     "text": [
      "C:\\Users\\Laptop2\\Anaconda3\\lib\\site-packages\\IPython\\core\\interactiveshell.py:3057: DtypeWarning: Columns (0,19,49,59,118,129,130,131,134,135,136,139,145,146,147) have mixed types. Specify dtype option on import or set low_memory=False.\n",
      "  interactivity=interactivity, compiler=compiler, result=result)\n"
     ]
    }
   ],
   "source": [
    "df_raw_accepted = pd.read_csv('accepted_2007_to_2018Q4.csv.gz')\n",
    "df_raw_rejected = pd.read_csv('rejected_2007_to_2018Q4.csv.gz')"
   ]
  },
  {
   "cell_type": "markdown",
   "metadata": {},
   "source": [
    "# Data Processing Function"
   ]
  },
  {
   "cell_type": "code",
   "execution_count": 1,
   "metadata": {},
   "outputs": [],
   "source": [
    "def data_process(df_accepted,df_rejected):\n",
    "    \n",
    "    accepted = df_accepted.copy()\n",
    "    rejected = df_rejected.copy()\n",
    "    \n",
    "    # Processing accepted data \n",
    "    accepted = accepted[['loan_amnt', 'purpose', 'dti',\n",
    "       'addr_state', 'emp_length', 'issue_d',\n",
    "       'loan_status', 'last_fico_range_high','last_fico_range_low']]\n",
    "    \n",
    "    accepted['issue_d'] = pd.to_datetime(accepted['issue_d'])\n",
    "    accepted['app_year'] = accepted['issue_d'].dt.year\n",
    "    accepted['app_month'] = accepted['issue_d'].dt.month\n",
    "\n",
    "    accepted['risk_score'] = (accepted['last_fico_range_high'] + accepted['last_fico_range_low'])/2\n",
    "    accepted = accepted.drop(columns = ['issue_d','last_fico_range_high','last_fico_range_low'])\n",
    "\n",
    "\n",
    "    accepted['loan_status'] =1\n",
    "            \n",
    "    \n",
    "    # Processing rejected data \n",
    "    rejected = rejected.iloc[:,1:9]\n",
    "    rejected = rejected.rename(columns={\"Amount Requested\": \"loan_amnt\", \"Application Date\": \"app_date\", \"Loan Title\": \"purpose\",\n",
    "                             \"Risk_Score\": \"risk_score\", \"Debt-To-Income Ratio\": \"dti\", \"Zip Code\": \"zip_code\",\n",
    "                             \"State\": \"addr_state\", \"Employment Length\": \"emp_length\"})\n",
    "    rejected['loan_status'] = 0\n",
    "    \n",
    "    rejected['purpose'] = rejected['purpose'].str.replace(r'(^.*consolidation.*$)', 'debt_consolidation')\n",
    "    rejected['purpose'] = rejected['purpose'].str.replace(r'(^.*loan.*$)', 'debt_consolidation')\n",
    "    rejected['purpose'] = rejected['purpose'].str.replace(r'(^.*debt.*$)', 'debt_consolidation')\n",
    "    rejected['purpose'] = rejected['purpose'].str.replace(r'(^.*card.*$)', 'credit_card')\n",
    "    rejected['purpose'] = rejected['purpose'].str.replace(r'(^.*credit.*$)', 'credit_card')\n",
    "    rejected['purpose'] = rejected['purpose'].str.replace(r'(^.*house.*$)', 'house')\n",
    "    rejected['purpose'] = rejected['purpose'].str.replace(r'(^.*business.*$)', 'small_business')\n",
    "    rejected['purpose'] = rejected['purpose'].str.replace(r'(^.*car.*$)', 'car')\n",
    "    rejected['purpose'] = rejected['purpose'].str.replace(r'(^.*education.*$)', 'education')\n",
    "    \n",
    "    \n",
    "    rejected['purpose'] = np.where(rejected['purpose'].isin(['house', 'credit_card', 'major_purchase', 'debt_consolidation',\n",
    "       'other', 'moving', 'small_business', 'home_improvement',\n",
    "       'vacation', 'medical', 'renewable_energy', 'car', 'wedding']), rejected['purpose'], 'other')\n",
    "\n",
    "    rejected['app_date'] = pd.to_datetime(rejected['app_date'])\n",
    "    rejected['app_year'] = rejected['app_date'].dt.year\n",
    "    rejected['app_month'] = rejected['app_date'].dt.month\n",
    "\n",
    "    rejected = rejected.drop(columns = 'app_date')\n",
    "    rejected = rejected.drop(columns = 'zip_code')\n",
    "    \n",
    "    rejected['dti'] = rejected['dti'].str.replace('%','')\n",
    "    \n",
    "    # Merge accepted and rejected data for later process\n",
    "    df_processed = pd.concat([accepted, rejected], sort=True)\n",
    "    \n",
    "\n",
    "    # Convert categorical to numerical-- 10 means more than 10 years \n",
    "    df_processed['emp_length'] = df_processed['emp_length'].str.extract('(\\d+)')\n",
    "\n",
    "\n",
    "    # Missing Values: risk_score, emp_length, dti\n",
    "    df_processed['emp_length'] = df_processed['emp_length'].fillna(0)\n",
    "    df_processed['emp_length'] = df_processed['emp_length'].astype(int)\n",
    "    df_processed['risk_score'] = df_processed['risk_score'].fillna(0)\n",
    "    df_processed['dti'] = df_processed['dti'].fillna(0)\n",
    "    df_processed['dti'] = df_processed['dti'].astype(float)\n",
    "    df_processed = df_processed.dropna()\n",
    "\n",
    "    df_processed = pd.get_dummies(df_processed)\n",
    "\n",
    "    return df_processed"
   ]
  },
  {
   "cell_type": "code",
   "execution_count": null,
   "metadata": {},
   "outputs": [],
   "source": []
  },
  {
   "cell_type": "markdown",
   "metadata": {},
   "source": [
    "# Handling Imbalanced Data\n",
    "#### Handle Inbalanced data by downsampling the majority class (which is the rejected)."
   ]
  },
  {
   "cell_type": "code",
   "execution_count": null,
   "metadata": {},
   "outputs": [],
   "source": [
    "#reject is the majority class. downsample reject to treat the imbalanced classification problem. \n",
    "\n",
    "reject_downsampled = resample(df_raw_rejected,\n",
    "                                replace = False, # sample without replacement\n",
    "                                n_samples = len(df_raw_accepted), # match minority n\n",
    "                                random_state = 27) # reproducible results\n",
    "reject_downsampled.to_csv('reject_downsampled.csv')\n",
    "\n"
   ]
  },
  {
   "cell_type": "code",
   "execution_count": null,
   "metadata": {},
   "outputs": [],
   "source": [
    "reject_downsampled=pd.read_csv('reject_downsampled.csv')"
   ]
  },
  {
   "cell_type": "markdown",
   "metadata": {},
   "source": [
    "#### Split train and test set. Test set will be used for testing result of the best model selected in the future.  "
   ]
  },
  {
   "cell_type": "code",
   "execution_count": null,
   "metadata": {},
   "outputs": [],
   "source": [
    "train_set_from_reject_downsampled= reject_downsampled.sample(frac=0.75, random_state=0)\n",
    "test_set_from_reject_downsampled = reject_downsampled.drop(train_set_from_reject_downsampled.index)"
   ]
  },
  {
   "cell_type": "code",
   "execution_count": null,
   "metadata": {},
   "outputs": [],
   "source": [
    "train_set_from_reject_downsampled.to_csv('train_set_from_reject_downsampled.csv')\n",
    "test_set_from_reject_downsampled.to_csv('test_set_from_reject_downsampled.csv')"
   ]
  },
  {
   "cell_type": "code",
   "execution_count": 3,
   "metadata": {},
   "outputs": [
    {
     "name": "stderr",
     "output_type": "stream",
     "text": [
      "C:\\Users\\Laptop2\\Anaconda3\\lib\\site-packages\\numpy\\lib\\arraysetops.py:569: FutureWarning: elementwise comparison failed; returning scalar instead, but in the future will perform elementwise comparison\n",
      "  mask |= (ar1 == a)\n"
     ]
    }
   ],
   "source": [
    "train_set_from_reject_downsampled=pd.read_csv('train_set_from_reject_downsampled.csv', index_col=0)\n",
    "test_set_from_reject_downsampled=pd.read_csv('test_set_from_reject_downsampled.csv', index_col=0)"
   ]
  },
  {
   "cell_type": "code",
   "execution_count": null,
   "metadata": {},
   "outputs": [],
   "source": [
    "train_set_from_accepted_raw= df_raw_accepted.sample(frac=0.75, random_state=0)\n",
    "test_set_from_accepted_raw = df_raw_accepted.drop(train_set_from_accepted_raw.index)"
   ]
  },
  {
   "cell_type": "code",
   "execution_count": 5,
   "metadata": {},
   "outputs": [],
   "source": [
    "train_set_from_accepted_raw.to_csv('train_set_from_accepted_raw.csv')\n",
    "test_set_from_accepted_raw.to_csv('test_set_from_accepted_raw.csv')"
   ]
  },
  {
   "cell_type": "code",
   "execution_count": 6,
   "metadata": {
    "scrolled": true
   },
   "outputs": [
    {
     "name": "stderr",
     "output_type": "stream",
     "text": [
      "C:\\Users\\Laptop2\\Anaconda3\\lib\\site-packages\\IPython\\core\\interactiveshell.py:3057: DtypeWarning: Columns (1) have mixed types. Specify dtype option on import or set low_memory=False.\n",
      "  interactivity=interactivity, compiler=compiler, result=result)\n",
      "C:\\Users\\Laptop2\\Anaconda3\\lib\\site-packages\\IPython\\core\\interactiveshell.py:3057: DtypeWarning: Columns (1,20,50,60,119,130,131,132,135,136,137,140,146,147,148) have mixed types. Specify dtype option on import or set low_memory=False.\n",
      "  interactivity=interactivity, compiler=compiler, result=result)\n"
     ]
    }
   ],
   "source": [
    "train_set_from_accepted_raw=pd.read_csv('train_set_from_accepted_raw.csv',index_col=0)\n",
    "test_set_from_accepted_raw=pd.read_csv('test_set_from_accepted_raw.csv',index_col=0)"
   ]
  },
  {
   "cell_type": "markdown",
   "metadata": {},
   "source": [
    "#### Work on the train set for model selection"
   ]
  },
  {
   "cell_type": "code",
   "execution_count": 7,
   "metadata": {},
   "outputs": [],
   "source": [
    "df_processed = data_process(train_set_from_accepted_raw, train_set_from_reject_downsampled)"
   ]
  },
  {
   "cell_type": "code",
   "execution_count": null,
   "metadata": {},
   "outputs": [],
   "source": [
    "#if there is no enough memory, you can write to csv \n",
    "#and restart kernel to read file instead\n",
    "df_processed.to_csv('df_processed.csv',index=False )"
   ]
  },
  {
   "cell_type": "code",
   "execution_count": null,
   "metadata": {},
   "outputs": [],
   "source": [
    "df_processed=pd.read_csv('df_processed.csv')"
   ]
  },
  {
   "cell_type": "code",
   "execution_count": 8,
   "metadata": {},
   "outputs": [],
   "source": [
    "#sub sample the df_processed to prepare for the machine learning model\n",
    "sampled_df_processed=df_processed.sample(frac=0.06, random_state=0)"
   ]
  },
  {
   "cell_type": "code",
   "execution_count": 9,
   "metadata": {},
   "outputs": [],
   "source": [
    "# # The predicted column is \"loan_status\" , split the data into training and test sets.\n",
    "x_m = sampled_df_processed.drop(['loan_status'], axis=1)\n",
    "y_m = sampled_df_processed.loc[:,'loan_status']\n",
    "X_train, X_test, y_train, y_test = train_test_split(x_m, y_m, test_size=0.2, random_state=42)"
   ]
  },
  {
   "cell_type": "code",
   "execution_count": null,
   "metadata": {},
   "outputs": [],
   "source": []
  },
  {
   "cell_type": "markdown",
   "metadata": {},
   "source": [
    " <p><a name=\"ml\"></a></p>\n",
    " \n",
    " # Machine Learning\n",
    " \n",
    "- Unsupervised Machine Learning  \n",
    "    - <a href=\"#kmeans\">K Means</a><br> \n",
    "    \n",
    "- Supervised Machine Learning      \n",
    "    - <a href=\"#decision\">Decision Tree</a><br>\n",
    "    - <a href=\"#rf\">Random Forest</a><br>\n",
    "    - <a href=\"#svm\">SVM</a><br>\n",
    "    - <a href=\"#xgboost\">XGBoost</a><br>\n",
    "    - <a href=\"#logistic\">Logistic Regression</a><br>\n",
    "    - <a href=\"#naive\">Naive Bayes Classifier</a><br>\n",
    "    - <a href=\"#neighbor\">Nearest Neighbor</a><br>\n",
    "</a><br>\n",
    "- Working on\n",
    "    Neural Networks\n",
    "</a><br>\n",
    "- Links: \n",
    "    - https://github.com/perryrjohnson/Walk-Score/blob/master/feature%20engineering.ipynb\n",
    "    - https://towardsdatascience.com/an-implementation-and-explanation-of-the-random-forest-in-python-77bf308a9b76"
   ]
  },
  {
   "cell_type": "code",
   "execution_count": 10,
   "metadata": {},
   "outputs": [],
   "source": [
    "from sklearn.model_selection import train_test_split, RandomizedSearchCV, GridSearchCV, cross_val_score\n",
    "\n",
    "\n",
    "from sklearn.cluster import KMeans\n",
    "from sklearn.tree import DecisionTreeClassifier\n",
    "from sklearn.ensemble import RandomForestRegressor, GradientBoostingRegressor\n",
    "from xgboost import XGBRegressor\n",
    "from sklearn.svm import LinearSVC\n",
    "from sklearn.naive_bayes import GaussianNB\n",
    "\n",
    "from sklearn import metrics\n",
    "from sklearn.metrics import confusion_matrix, roc_auc_score, f1_score, recall_score, precision_score, accuracy_score, roc_curve\n",
    "from sklearn.metrics import classification_report\n",
    "\n",
    "import seaborn as sns\n",
    "import matplotlib.pyplot as plt"
   ]
  },
  {
   "cell_type": "markdown",
   "metadata": {},
   "source": [
    " <p><a name=\"kmeans\"></a></p>\n",
    " \n",
    " ### K Means\n",
    " \n",
    " Link: https://towardsdatascience.com/machine-learning-algorithms-part-9-k-means-example-in-python-f2ad05ed5203\n",
    "</a></p> http://benalexkeen.com/k-means-clustering-in-python/\n",
    " \n",
    " k-means clustering is very sensitive to scale due to its reliance on Euclidean distance so be sure to normalize data if there are likely to be scaling problems.\n",
    "If there are some symmetries in your data, some of the labels may be mis-labelled\n",
    "It is recommended to do the same k-means with different initial centroids and take the most common label."
   ]
  },
  {
   "cell_type": "code",
   "execution_count": null,
   "metadata": {},
   "outputs": [],
   "source": [
    "from sklearn.cluster import KMeans\n",
    "from sklearn.preprocessing import MinMaxScaler"
   ]
  },
  {
   "cell_type": "code",
   "execution_count": null,
   "metadata": {},
   "outputs": [],
   "source": [
    "scaler = MinMaxScaler()\n",
    "scaled_df = scaler.fit_transform(X_train)\n",
    "X_train = pd.DataFrame(scaled_df, columns=X_train.columns)\n",
    "\n",
    "wcss = []\n",
    "for i in range(1, 11):\n",
    "    kmeans = KMeans(n_clusters=i, init='k-means++', max_iter=300, n_init=10, random_state=0)\n",
    "    kmeans.fit(X_train)\n",
    "    wcss.append(kmeans.inertia_)\n",
    "plt.plot(range(1, 11), wcss)\n",
    "plt.title('Elbow Method')\n",
    "plt.xlabel('Number of clusters')\n",
    "plt.ylabel('WCSS')\n",
    "plt.show()\n",
    "\n",
    "\n",
    "kmeans = KMeans(n_clusters=4, init='k-means++', max_iter=300, n_init=10, random_state=0)\n",
    "kmeans = kmeans.fit(X_train)\n",
    "labels = kmeans.predict(X_train)\n",
    "C = kmeans.cluster_centers_\n",
    "\n",
    "y_pred_kmeans = kmeans.predict(X_test)\n"
   ]
  },
  {
   "cell_type": "code",
   "execution_count": null,
   "metadata": {},
   "outputs": [],
   "source": []
  },
  {
   "cell_type": "markdown",
   "metadata": {},
   "source": [
    " <p><a name=\"decision\"></a></p>\n",
    " \n",
    " ### Decision Tree "
   ]
  },
  {
   "cell_type": "code",
   "execution_count": 11,
   "metadata": {},
   "outputs": [
    {
     "name": "stdout",
     "output_type": "stream",
     "text": [
      "Model Accuracy: 1.0\n",
      "Test Accuracy: 0.9506303295407073\n"
     ]
    }
   ],
   "source": [
    "from sklearn.tree import DecisionTreeClassifier\n",
    "\n",
    "# Make a decision tree and train\n",
    "tree = DecisionTreeClassifier()\n",
    "tree.fit(X_train, y_train)\n",
    "\n",
    "print(f'Model Accuracy: {tree.score(X_train, y_train)}')\n",
    "\n",
    "y_pred = tree.predict(X_test)\n",
    "print(\"Test Accuracy:\",metrics.accuracy_score(y_test, y_pred))"
   ]
  },
  {
   "cell_type": "code",
   "execution_count": 12,
   "metadata": {},
   "outputs": [
    {
     "name": "stdout",
     "output_type": "stream",
     "text": [
      "[[19443   938]\n",
      " [ 1071 19241]]\n",
      "              precision    recall  f1-score   support\n",
      "\n",
      "           0       0.95      0.95      0.95     20381\n",
      "           1       0.95      0.95      0.95     20312\n",
      "\n",
      "    accuracy                           0.95     40693\n",
      "   macro avg       0.95      0.95      0.95     40693\n",
      "weighted avg       0.95      0.95      0.95     40693\n",
      "\n"
     ]
    }
   ],
   "source": [
    "from sklearn.metrics import confusion_matrix\n",
    "\n",
    "confusion_matrix = confusion_matrix(y_test, y_pred)\n",
    "print(confusion_matrix)\n",
    "print(classification_report(y_test, y_pred))\n"
   ]
  },
  {
   "cell_type": "code",
   "execution_count": 13,
   "metadata": {},
   "outputs": [
    {
     "data": {
      "image/png": "[encoded data removed]",
      "text/plain": [
       "<Figure size 432x288 with 1 Axes>"
      ]
     },
     "metadata": {
      "needs_background": "light"
     },
     "output_type": "display_data"
    }
   ],
   "source": [
    "from sklearn.metrics import roc_curve, auc\n",
    "import matplotlib.pyplot as plt\n",
    "plt.style.use('ggplot')\n",
    "%matplotlib inline\n",
    "\n",
    "y_predict_probabilities = tree.predict_proba(X_test)[:,1]\n",
    "\n",
    "fpr, tpr, _ = roc_curve(y_test, y_predict_probabilities)\n",
    "roc_auc = auc(fpr, tpr)\n",
    "\n",
    "plt.figure()\n",
    "plt.plot(fpr, tpr, color='darkorange',\n",
    "         lw=2, label='ROC curve (area = %0.2f)' % roc_auc)\n",
    "plt.plot([0, 1], [0, 1], color='navy', lw=2, linestyle='--')\n",
    "plt.xlim([0.0, 1.0])\n",
    "plt.ylim([0.0, 1.05])\n",
    "plt.xlabel('False Positive Rate')\n",
    "plt.ylabel('True Positive Rate')\n",
    "plt.title('ROC Curve')\n",
    "plt.legend(loc=\"lower right\")\n",
    "plt.show()"
   ]
  },
  {
   "cell_type": "code",
   "execution_count": 15,
   "metadata": {},
   "outputs": [
    {
     "data": {
      "image/png": "[encoded data removed]",
      "text/plain": [
       "<Figure size 360x504 with 1 Axes>"
      ]
     },
     "metadata": {
      "needs_background": "light"
     },
     "output_type": "display_data"
    }
   ],
   "source": [
    "#print feature importance\n",
    "features = X_train.columns\n",
    "tree_importance=tree.feature_importances_\n",
    "\n",
    "indices = np.argsort(tree_importance)[-12:]\n",
    "plt.figure(figsize=(5, 7))\n",
    "plt.title(\"Feature importances\", fontsize = 18)\n",
    "plt.barh(features[indices], tree_importance[indices],\n",
    "       color=\"b\",  align=\"center\")\n",
    "plt.tick_params(labelsize=14);\n",
    "\n",
    "plt.show()"
   ]
  },
  {
   "cell_type": "code",
   "execution_count": 19,
   "metadata": {},
   "outputs": [
    {
     "data": {
      "text/html": [
       "<div>\n",
       "<style scoped>\n",
       "    .dataframe tbody tr th:only-of-type {\n",
       "        vertical-align: middle;\n",
       "    }\n",
       "\n",
       "    .dataframe tbody tr th {\n",
       "        vertical-align: top;\n",
       "    }\n",
       "\n",
       "    .dataframe thead th {\n",
       "        text-align: right;\n",
       "    }\n",
       "</style>\n",
       "<table border=\"1\" class=\"dataframe\">\n",
       "  <thead>\n",
       "    <tr style=\"text-align: right;\">\n",
       "      <th></th>\n",
       "      <th>Feature</th>\n",
       "      <th>Importance</th>\n",
       "    </tr>\n",
       "  </thead>\n",
       "  <tbody>\n",
       "    <tr>\n",
       "      <th>5</th>\n",
       "      <td>risk_score</td>\n",
       "      <td>0.592208</td>\n",
       "    </tr>\n",
       "    <tr>\n",
       "      <th>3</th>\n",
       "      <td>emp_length</td>\n",
       "      <td>0.227695</td>\n",
       "    </tr>\n",
       "    <tr>\n",
       "      <th>2</th>\n",
       "      <td>dti</td>\n",
       "      <td>0.049024</td>\n",
       "    </tr>\n",
       "    <tr>\n",
       "      <th>1</th>\n",
       "      <td>app_year</td>\n",
       "      <td>0.022364</td>\n",
       "    </tr>\n",
       "    <tr>\n",
       "      <th>4</th>\n",
       "      <td>loan_amnt</td>\n",
       "      <td>0.021279</td>\n",
       "    </tr>\n",
       "    <tr>\n",
       "      <th>58</th>\n",
       "      <td>purpose_credit_card</td>\n",
       "      <td>0.020208</td>\n",
       "    </tr>\n",
       "    <tr>\n",
       "      <th>0</th>\n",
       "      <td>app_month</td>\n",
       "      <td>0.015658</td>\n",
       "    </tr>\n",
       "    <tr>\n",
       "      <th>66</th>\n",
       "      <td>purpose_other</td>\n",
       "      <td>0.009049</td>\n",
       "    </tr>\n",
       "    <tr>\n",
       "      <th>57</th>\n",
       "      <td>purpose_car</td>\n",
       "      <td>0.008930</td>\n",
       "    </tr>\n",
       "    <tr>\n",
       "      <th>59</th>\n",
       "      <td>purpose_debt_consolidation</td>\n",
       "      <td>0.004412</td>\n",
       "    </tr>\n",
       "    <tr>\n",
       "      <th>49</th>\n",
       "      <td>addr_state_TX</td>\n",
       "      <td>0.001581</td>\n",
       "    </tr>\n",
       "    <tr>\n",
       "      <th>15</th>\n",
       "      <td>addr_state_FL</td>\n",
       "      <td>0.001528</td>\n",
       "    </tr>\n",
       "  </tbody>\n",
       "</table>\n",
       "</div>"
      ],
      "text/plain": [
       "                       Feature  Importance\n",
       "5                   risk_score    0.592208\n",
       "3                   emp_length    0.227695\n",
       "2                          dti    0.049024\n",
       "1                     app_year    0.022364\n",
       "4                    loan_amnt    0.021279\n",
       "58         purpose_credit_card    0.020208\n",
       "0                    app_month    0.015658\n",
       "66               purpose_other    0.009049\n",
       "57                 purpose_car    0.008930\n",
       "59  purpose_debt_consolidation    0.004412\n",
       "49               addr_state_TX    0.001581\n",
       "15               addr_state_FL    0.001528"
      ]
     },
     "execution_count": 19,
     "metadata": {},
     "output_type": "execute_result"
    }
   ],
   "source": [
    "#feature importance\n",
    "features = X_train.columns\n",
    "tree_importance\n",
    "tree_Top_15_feature=pd.DataFrame(list(zip(features,tree_importance)),columns=['Feature','Importance']).sort_values(by='Importance',ascending=False).head(12)\n",
    "tree_Top_15_feature"
   ]
  },
  {
   "cell_type": "code",
   "execution_count": null,
   "metadata": {},
   "outputs": [],
   "source": []
  },
  {
   "cell_type": "code",
   "execution_count": null,
   "metadata": {},
   "outputs": [],
   "source": []
  },
  {
   "cell_type": "markdown",
   "metadata": {},
   "source": [
    " <p><a name=\"rf\"></a></p>\n",
    " \n",
    " ### Random Forest"
   ]
  },
  {
   "cell_type": "code",
   "execution_count": 20,
   "metadata": {},
   "outputs": [
    {
     "name": "stdout",
     "output_type": "stream",
     "text": [
      "Model Accuracy: 0.9507151282807431\n",
      "Test Accuracy: 0.9492050229769248\n"
     ]
    }
   ],
   "source": [
    "\n",
    "from sklearn.ensemble import RandomForestClassifier\n",
    "\n",
    "# Create the model with 1000 trees\n",
    "rand = RandomForestClassifier(n_estimators=1000, max_depth=10, n_jobs=-1)\n",
    "\n",
    "# Fit on training data\n",
    "rand.fit(X_train, y_train)\n",
    "y_pred_rand = rand.predict(X_test)\n",
    "\n",
    "print(f'Model Accuracy: {rand.score(X_train, y_train)}')\n",
    "print(\"Test Accuracy:\",metrics.accuracy_score(y_test, y_pred_rand))\n"
   ]
  },
  {
   "cell_type": "code",
   "execution_count": 23,
   "metadata": {},
   "outputs": [
    {
     "name": "stdout",
     "output_type": "stream",
     "text": [
      "[[19421   960]\n",
      " [ 1107 19205]]\n",
      "              precision    recall  f1-score   support\n",
      "\n",
      "           0       0.95      0.95      0.95     20381\n",
      "           1       0.95      0.95      0.95     20312\n",
      "\n",
      "    accuracy                           0.95     40693\n",
      "   macro avg       0.95      0.95      0.95     40693\n",
      "weighted avg       0.95      0.95      0.95     40693\n",
      "\n"
     ]
    },
    {
     "data": {
      "image/png": "[encoded data removed]",
      "text/plain": [
       "<Figure size 360x504 with 1 Axes>"
      ]
     },
     "metadata": {
      "needs_background": "light"
     },
     "output_type": "display_data"
    },
    {
     "data": {
      "image/png": "[encoded data removed]",
      "text/plain": [
       "<Figure size 432x288 with 1 Axes>"
      ]
     },
     "metadata": {
      "needs_background": "light"
     },
     "output_type": "display_data"
    }
   ],
   "source": [
    "\n",
    "from sklearn.metrics import confusion_matrix\n",
    "\n",
    "confusion_matrix = confusion_matrix(y_test, y_pred_rand)\n",
    "print(confusion_matrix)\n",
    "print(classification_report(y_test, y_pred_rand))\n",
    "\n",
    "# Actual class predictions\n",
    "rf_predictions = rand.predict(X_test)\n",
    "# Probabilities for each class\n",
    "rf_probs = rand.predict_proba(X_test)[:, 1]\n",
    "\n",
    "# Calculate roc auc\n",
    "roc_value = roc_auc_score(y_test, rf_probs)\n",
    "roc_value\n",
    "\n",
    "#feature importance\n",
    "features = X_train.columns\n",
    "importance = rand.feature_importances_\n",
    "\n",
    "indices = np.argsort(importance)[-12:]\n",
    "plt.figure(figsize=(5, 7))\n",
    "plt.title(\"Feature importances\", fontsize = 18)\n",
    "plt.barh(features[indices], importance[indices],\n",
    "       color=\"b\",  align=\"center\")\n",
    "plt.tick_params(labelsize=14);\n",
    "\n",
    "plt.show()\n",
    "\n",
    "from sklearn.metrics import roc_curve, auc\n",
    "import matplotlib.pyplot as plt\n",
    "plt.style.use('ggplot')\n",
    "%matplotlib inline\n",
    "\n",
    "y_predict_probabilities = rand.predict_proba(X_test)[:,1]\n",
    "\n",
    "fpr, tpr, _ = roc_curve(y_test, y_predict_probabilities)\n",
    "roc_auc = auc(fpr, tpr)\n",
    "\n",
    "plt.figure()\n",
    "plt.plot(fpr, tpr, color='darkorange',\n",
    "         lw=2, label='ROC curve (area = %0.2f)' % roc_auc)\n",
    "plt.plot([0, 1], [0, 1], color='navy', lw=2, linestyle='--')\n",
    "plt.xlim([0.0, 1.0])\n",
    "plt.ylim([0.0, 1.05])\n",
    "plt.xlabel('False Positive Rate')\n",
    "plt.ylabel('True Positive Rate')\n",
    "plt.title('ROC Curve')\n",
    "plt.legend(loc=\"lower right\")\n",
    "plt.show()"
   ]
  },
  {
   "cell_type": "code",
   "execution_count": 25,
   "metadata": {},
   "outputs": [
    {
     "data": {
      "text/html": [
       "<div>\n",
       "<style scoped>\n",
       "    .dataframe tbody tr th:only-of-type {\n",
       "        vertical-align: middle;\n",
       "    }\n",
       "\n",
       "    .dataframe tbody tr th {\n",
       "        vertical-align: top;\n",
       "    }\n",
       "\n",
       "    .dataframe thead th {\n",
       "        text-align: right;\n",
       "    }\n",
       "</style>\n",
       "<table border=\"1\" class=\"dataframe\">\n",
       "  <thead>\n",
       "    <tr style=\"text-align: right;\">\n",
       "      <th></th>\n",
       "      <th>Feature</th>\n",
       "      <th>Importance</th>\n",
       "    </tr>\n",
       "  </thead>\n",
       "  <tbody>\n",
       "    <tr>\n",
       "      <th>5</th>\n",
       "      <td>risk_score</td>\n",
       "      <td>0.388493</td>\n",
       "    </tr>\n",
       "    <tr>\n",
       "      <th>3</th>\n",
       "      <td>emp_length</td>\n",
       "      <td>0.294803</td>\n",
       "    </tr>\n",
       "    <tr>\n",
       "      <th>58</th>\n",
       "      <td>purpose_credit_card</td>\n",
       "      <td>0.077100</td>\n",
       "    </tr>\n",
       "    <tr>\n",
       "      <th>2</th>\n",
       "      <td>dti</td>\n",
       "      <td>0.075337</td>\n",
       "    </tr>\n",
       "    <tr>\n",
       "      <th>66</th>\n",
       "      <td>purpose_other</td>\n",
       "      <td>0.048814</td>\n",
       "    </tr>\n",
       "    <tr>\n",
       "      <th>57</th>\n",
       "      <td>purpose_car</td>\n",
       "      <td>0.040263</td>\n",
       "    </tr>\n",
       "    <tr>\n",
       "      <th>4</th>\n",
       "      <td>loan_amnt</td>\n",
       "      <td>0.035473</td>\n",
       "    </tr>\n",
       "    <tr>\n",
       "      <th>1</th>\n",
       "      <td>app_year</td>\n",
       "      <td>0.018528</td>\n",
       "    </tr>\n",
       "    <tr>\n",
       "      <th>59</th>\n",
       "      <td>purpose_debt_consolidation</td>\n",
       "      <td>0.009722</td>\n",
       "    </tr>\n",
       "    <tr>\n",
       "      <th>61</th>\n",
       "      <td>purpose_home_improvement</td>\n",
       "      <td>0.004306</td>\n",
       "    </tr>\n",
       "    <tr>\n",
       "      <th>0</th>\n",
       "      <td>app_month</td>\n",
       "      <td>0.002331</td>\n",
       "    </tr>\n",
       "    <tr>\n",
       "      <th>65</th>\n",
       "      <td>purpose_moving</td>\n",
       "      <td>0.000707</td>\n",
       "    </tr>\n",
       "  </tbody>\n",
       "</table>\n",
       "</div>"
      ],
      "text/plain": [
       "                       Feature  Importance\n",
       "5                   risk_score    0.388493\n",
       "3                   emp_length    0.294803\n",
       "58         purpose_credit_card    0.077100\n",
       "2                          dti    0.075337\n",
       "66               purpose_other    0.048814\n",
       "57                 purpose_car    0.040263\n",
       "4                    loan_amnt    0.035473\n",
       "1                     app_year    0.018528\n",
       "59  purpose_debt_consolidation    0.009722\n",
       "61    purpose_home_improvement    0.004306\n",
       "0                    app_month    0.002331\n",
       "65              purpose_moving    0.000707"
      ]
     },
     "execution_count": 25,
     "metadata": {},
     "output_type": "execute_result"
    }
   ],
   "source": [
    "#feature importance\n",
    "features = X_train.columns\n",
    "rand_importance=list(rand.feature_importances_)\n",
    "rand_Top_15_feature=pd.DataFrame(list(zip(features,rand_importance)),columns=['Feature','Importance']).sort_values(by='Importance',ascending=False).head(12)\n",
    "rand_Top_15_feature"
   ]
  },
  {
   "cell_type": "markdown",
   "metadata": {},
   "source": [
    "#### random forest grid search\n"
   ]
  },
  {
   "cell_type": "code",
   "execution_count": null,
   "metadata": {},
   "outputs": [],
   "source": [
    "#random search grid search\n",
    "from sklearn.metrics import make_scorer, accuracy_score\n",
    "clf = RandomForestClassifier()\n",
    "\n",
    "parameters = {'n_estimators': [1000,1050], \n",
    "              'max_features': [7,10], \n",
    "              'criterion': [ 'gini'],\n",
    "              'max_depth': [10]\n",
    "             }\n",
    "\n",
    "acc_scorer = make_scorer(accuracy_score)\n",
    "\n",
    "grid_obj = GridSearchCV(clf, parameters, scoring=acc_scorer)\n",
    "grid_obj = grid_obj.fit(X_train, y_train)\n",
    "best_est = grid_obj.best_estimator_\n",
    "print (best_est)\n",
    "\n",
    "print(f'Model Accuracy: {grid_obj.score(X_train, y_train)}')\n",
    "y_pred_random = grid_obj.predict(X_test)\n",
    "print('test accuracy:',accuracy_score(y_test, y_pred_random))\n",
    "\n",
    "from sklearn.metrics import confusion_matrix\n",
    "\n",
    "confusion_matrix = confusion_matrix(y_test, y_pred_random)\n",
    "print(confusion_matrix)\n",
    "print(classification_report(y_test, y_pred_random))"
   ]
  },
  {
   "cell_type": "markdown",
   "metadata": {},
   "source": [
    " <p><a name=\"svm\"></a></p>\n",
    " \n",
    " ### SVM"
   ]
  },
  {
   "cell_type": "code",
   "execution_count": 26,
   "metadata": {},
   "outputs": [
    {
     "name": "stderr",
     "output_type": "stream",
     "text": [
      "C:\\Users\\Laptop2\\Anaconda3\\lib\\site-packages\\sklearn\\svm\\_base.py:947: ConvergenceWarning: Liblinear failed to converge, increase the number of iterations.\n",
      "  \"the number of iterations.\", ConvergenceWarning)\n"
     ]
    },
    {
     "name": "stdout",
     "output_type": "stream",
     "text": [
      "Model Accuracy: 0.8625896982207805\n",
      "test accuracy: 0.8627282333570885\n",
      "[[17199  3182]\n",
      " [ 2404 17908]]\n",
      "              precision    recall  f1-score   support\n",
      "\n",
      "           0       0.88      0.84      0.86     20381\n",
      "           1       0.85      0.88      0.87     20312\n",
      "\n",
      "    accuracy                           0.86     40693\n",
      "   macro avg       0.86      0.86      0.86     40693\n",
      "weighted avg       0.86      0.86      0.86     40693\n",
      "\n"
     ]
    }
   ],
   "source": [
    "svc = LinearSVC()\n",
    "svc.fit(X_train, y_train)\n",
    "y_pred_svc = svc.predict(X_test)\n",
    "\n",
    "print(f'Model Accuracy: {svc.score(X_train, y_train)}')\n",
    "print('test accuracy:',accuracy_score(y_test, y_pred_svc))\n",
    "\n",
    "\n",
    "from sklearn.metrics import confusion_matrix\n",
    "\n",
    "confusion_matrix = confusion_matrix(y_test, y_pred_svc)\n",
    "print(confusion_matrix)\n",
    "print(classification_report(y_test, y_pred_svc))\n"
   ]
  },
  {
   "cell_type": "code",
   "execution_count": 27,
   "metadata": {
    "scrolled": true
   },
   "outputs": [
    {
     "data": {
      "image/png": "[encoded data removed]",
      "text/plain": [
       "<Figure size 432x288 with 1 Axes>"
      ]
     },
     "metadata": {
      "needs_background": "light"
     },
     "output_type": "display_data"
    }
   ],
   "source": [
    "fpr, tpr, _ = roc_curve(y_test, y_pred_svc)\n",
    "roc_auc = auc(fpr, tpr)\n",
    "\n",
    "plt.figure()\n",
    "plt.plot(fpr, tpr, color='darkorange',\n",
    "         lw=2, label='ROC curve (area = %0.2f)' % roc_auc)\n",
    "plt.plot([0, 1], [0, 1], color='navy', lw=2, linestyle='--')\n",
    "plt.xlim([0.0, 1.0])\n",
    "plt.ylim([0.0, 1.05])\n",
    "plt.xlabel('False Positive Rate')\n",
    "plt.ylabel('True Positive Rate')\n",
    "plt.title('ROC Curve')\n",
    "plt.legend(loc=\"lower right\")\n",
    "plt.show()"
   ]
  },
  {
   "cell_type": "code",
   "execution_count": 28,
   "metadata": {},
   "outputs": [
    {
     "data": {
      "text/html": [
       "<div>\n",
       "<style scoped>\n",
       "    .dataframe tbody tr th:only-of-type {\n",
       "        vertical-align: middle;\n",
       "    }\n",
       "\n",
       "    .dataframe tbody tr th {\n",
       "        vertical-align: top;\n",
       "    }\n",
       "\n",
       "    .dataframe thead th {\n",
       "        text-align: right;\n",
       "    }\n",
       "</style>\n",
       "<table border=\"1\" class=\"dataframe\">\n",
       "  <thead>\n",
       "    <tr style=\"text-align: right;\">\n",
       "      <th></th>\n",
       "      <th>Feature</th>\n",
       "      <th>Coef</th>\n",
       "    </tr>\n",
       "  </thead>\n",
       "  <tbody>\n",
       "    <tr>\n",
       "      <th>3</th>\n",
       "      <td>emp_length</td>\n",
       "      <td>0.164993</td>\n",
       "    </tr>\n",
       "    <tr>\n",
       "      <th>58</th>\n",
       "      <td>purpose_credit_card</td>\n",
       "      <td>0.105109</td>\n",
       "    </tr>\n",
       "    <tr>\n",
       "      <th>59</th>\n",
       "      <td>purpose_debt_consolidation</td>\n",
       "      <td>0.032800</td>\n",
       "    </tr>\n",
       "    <tr>\n",
       "      <th>61</th>\n",
       "      <td>purpose_home_improvement</td>\n",
       "      <td>0.028495</td>\n",
       "    </tr>\n",
       "    <tr>\n",
       "      <th>63</th>\n",
       "      <td>purpose_major_purchase</td>\n",
       "      <td>0.015161</td>\n",
       "    </tr>\n",
       "    <tr>\n",
       "      <th>40</th>\n",
       "      <td>addr_state_NY</td>\n",
       "      <td>0.011568</td>\n",
       "    </tr>\n",
       "    <tr>\n",
       "      <th>69</th>\n",
       "      <td>purpose_vacation</td>\n",
       "      <td>0.010905</td>\n",
       "    </tr>\n",
       "    <tr>\n",
       "      <th>9</th>\n",
       "      <td>addr_state_AZ</td>\n",
       "      <td>0.006087</td>\n",
       "    </tr>\n",
       "    <tr>\n",
       "      <th>10</th>\n",
       "      <td>addr_state_CA</td>\n",
       "      <td>0.005721</td>\n",
       "    </tr>\n",
       "    <tr>\n",
       "      <th>11</th>\n",
       "      <td>addr_state_CO</td>\n",
       "      <td>0.005546</td>\n",
       "    </tr>\n",
       "    <tr>\n",
       "      <th>37</th>\n",
       "      <td>addr_state_NJ</td>\n",
       "      <td>0.005280</td>\n",
       "    </tr>\n",
       "    <tr>\n",
       "      <th>64</th>\n",
       "      <td>purpose_medical</td>\n",
       "      <td>0.004680</td>\n",
       "    </tr>\n",
       "  </tbody>\n",
       "</table>\n",
       "</div>"
      ],
      "text/plain": [
       "                       Feature      Coef\n",
       "3                   emp_length  0.164993\n",
       "58         purpose_credit_card  0.105109\n",
       "59  purpose_debt_consolidation  0.032800\n",
       "61    purpose_home_improvement  0.028495\n",
       "63      purpose_major_purchase  0.015161\n",
       "40               addr_state_NY  0.011568\n",
       "69            purpose_vacation  0.010905\n",
       "9                addr_state_AZ  0.006087\n",
       "10               addr_state_CA  0.005721\n",
       "11               addr_state_CO  0.005546\n",
       "37               addr_state_NJ  0.005280\n",
       "64             purpose_medical  0.004680"
      ]
     },
     "execution_count": 28,
     "metadata": {},
     "output_type": "execute_result"
    }
   ],
   "source": [
    "#print feature importance\n",
    "\n",
    "svc_coef=svc.coef_\n",
    "\n",
    "svc_coef_list=list(svc_coef[0])\n",
    "svc_feature=X_train.columns.to_list()\n",
    "svc_Top_15_feature=pd.DataFrame(list(zip(svc_feature,svc_coef_list)),columns=['Feature','Coef']).sort_values(by='Coef',ascending=False).head(12)\n",
    "svc_Top_15_feature\n"
   ]
  },
  {
   "cell_type": "code",
   "execution_count": 29,
   "metadata": {},
   "outputs": [
    {
     "data": {
      "text/plain": [
       "<BarContainer object of 12 artists>"
      ]
     },
     "execution_count": 29,
     "metadata": {},
     "output_type": "execute_result"
    },
    {
     "data": {
      "image/png": "[encoded data removed]",
      "text/plain": [
       "<Figure size 360x504 with 1 Axes>"
      ]
     },
     "metadata": {
      "needs_background": "light"
     },
     "output_type": "display_data"
    }
   ],
   "source": [
    "\n",
    "plt.figure(figsize=(5, 7))\n",
    "plt.title(\"Coefficient of SVC\", fontsize = 18)\n",
    "plt.barh(svc_Top_15_feature[\"Feature\"], svc_Top_15_feature[\"Coef\"], color=\"b\",  align=\"center\")\n"
   ]
  },
  {
   "cell_type": "code",
   "execution_count": null,
   "metadata": {},
   "outputs": [],
   "source": [
    "## Model accuracy for SVM is low so no need for grid search for SVM\n",
    "\n",
    "# #### SVM Grid Search\n",
    "\n",
    "# param_grid = {'C':[1,10,100,1000], 'penalty':['l2'], 'loss':['hinge']}\n",
    "# grid_svm = GridSearchCV(LinearSVC(),param_grid,refit = True, verbose=2)\n",
    "# grid_svm.fit(X_train,y_train)\n",
    "# best_est_svc = grid_svm.best_estimator_\n",
    "# print (best_est_svc)\n",
    "# print(f'Model Accuracy: {grid_svm.score(X_train, y_train)}')\n",
    "# y_pred_svc = grid_svm.predict(X_test)\n",
    "# print('test accuracy:',accuracy_score(y_test, y_pred_svc))\n",
    "# from sklearn.metrics import confusion_matrix\n",
    "\n",
    "# confusion_matrix = confusion_matrix(y_test, y_pred_svc)\n",
    "# print(confusion_matrix)\n",
    "# print(classification_report(y_test, y_pred_svc))\n"
   ]
  },
  {
   "cell_type": "markdown",
   "metadata": {},
   "source": [
    " <p><a name=\"xgboost\"></a></p>\n",
    " \n",
    " ### XGBoost"
   ]
  },
  {
   "cell_type": "code",
   "execution_count": 30,
   "metadata": {},
   "outputs": [],
   "source": [
    "import xgboost as xgb\n"
   ]
  },
  {
   "cell_type": "code",
   "execution_count": 31,
   "metadata": {},
   "outputs": [
    {
     "name": "stderr",
     "output_type": "stream",
     "text": [
      "C:\\Users\\Laptop2\\Anaconda3\\lib\\site-packages\\xgboost\\core.py:587: FutureWarning: Series.base is deprecated and will be removed in a future version\n",
      "  if getattr(data, 'base', None) is not None and \\\n"
     ]
    },
    {
     "name": "stdout",
     "output_type": "stream",
     "text": [
      "Precision = 0.9510130474013685\n",
      "Recall = 0.9509946355426564\n",
      "Accuracy = 0.9509989433072027\n"
     ]
    }
   ],
   "source": [
    "import xgboost as xgb\n",
    "D_train = xgb.DMatrix(X_train, label=y_train)\n",
    "D_test = xgb.DMatrix(X_test, label=y_test)\n",
    "param = {\n",
    "    'eta': 0.3, \n",
    "    'max_depth': 3,  \n",
    "    'objective': 'multi:softprob',  \n",
    "    'num_class': 2} \n",
    "\n",
    "steps = 20  # The number of training iterations\n",
    "\n",
    "xg_model = xgb.train(param, D_train, steps)\n",
    "preds_xg = xg_model.predict(D_test)\n",
    "best_preds_xg = np.asarray([np.argmax(line) for line in preds_xg])\n",
    "\n",
    "print(\"Precision = {}\".format(precision_score(y_test, best_preds_xg, average='macro')))\n",
    "print(\"Recall = {}\".format(recall_score(y_test, best_preds_xg, average='macro')))\n",
    "print(\"Accuracy = {}\".format(accuracy_score(y_test, best_preds_xg)))\n"
   ]
  },
  {
   "cell_type": "code",
   "execution_count": 32,
   "metadata": {},
   "outputs": [
    {
     "name": "stdout",
     "output_type": "stream",
     "text": [
      "[[19434   947]\n",
      " [ 1047 19265]]\n",
      "              precision    recall  f1-score   support\n",
      "\n",
      "           0       0.95      0.95      0.95     20381\n",
      "           1       0.95      0.95      0.95     20312\n",
      "\n",
      "    accuracy                           0.95     40693\n",
      "   macro avg       0.95      0.95      0.95     40693\n",
      "weighted avg       0.95      0.95      0.95     40693\n",
      "\n"
     ]
    }
   ],
   "source": [
    "from sklearn.metrics import confusion_matrix\n",
    "confusion_matrix = confusion_matrix(y_test, best_preds_xg)\n",
    "print(confusion_matrix)\n",
    "print(classification_report(y_test, best_preds_xg))\n"
   ]
  },
  {
   "cell_type": "code",
   "execution_count": 33,
   "metadata": {},
   "outputs": [
    {
     "data": {
      "image/png": "[encoded data removed]",
      "text/plain": [
       "<Figure size 432x288 with 1 Axes>"
      ]
     },
     "metadata": {
      "needs_background": "light"
     },
     "output_type": "display_data"
    }
   ],
   "source": [
    "fpr, tpr, _ = roc_curve(y_test, best_preds_xg)\n",
    "roc_auc = auc(fpr, tpr)\n",
    "\n",
    "plt.figure()\n",
    "plt.plot(fpr, tpr, color='darkorange',\n",
    "         lw=2, label='ROC curve (area = %0.2f)' % roc_auc)\n",
    "plt.plot([0, 1], [0, 1], color='navy', lw=2, linestyle='--')\n",
    "plt.xlim([0.0, 1.0])\n",
    "plt.ylim([0.0, 1.05])\n",
    "plt.xlabel('False Positive Rate')\n",
    "plt.ylabel('True Positive Rate')\n",
    "plt.title('ROC Curve')\n",
    "plt.legend(loc=\"lower right\")\n",
    "plt.show()"
   ]
  },
  {
   "cell_type": "markdown",
   "metadata": {},
   "source": [
    "##### Resources: \n",
    "##### Interprete feature importance in xg boost. https://towardsdatascience.com/be-careful-when-interpreting-your-features-importance-in-xgboost-6e16132588e7"
   ]
  },
  {
   "cell_type": "code",
   "execution_count": 37,
   "metadata": {},
   "outputs": [
    {
     "data": {
      "image/png": "[encoded data removed]",
      "text/plain": [
       "<Figure size 360x504 with 1 Axes>"
      ]
     },
     "metadata": {
      "needs_background": "light"
     },
     "output_type": "display_data"
    }
   ],
   "source": [
    "xg_feature_importance=xg_model.get_score(importance_type='gain')\n",
    "plt.figure(figsize=(5, 7))\n",
    "plt.title(\"Feature importance (GAIN)\", fontsize = 18)\n",
    "plt.barh(range(len(xg_feature_importance)), list(xg_feature_importance.values()),\n",
    "       color=\"b\",  align=\"center\")\n",
    "plt.tick_params(labelsize=14);\n",
    "plt.yticks(range(len(xg_feature_importance)), list(xg_feature_importance.keys()))\n",
    "\n",
    "plt.show()"
   ]
  },
  {
   "cell_type": "markdown",
   "metadata": {},
   "source": [
    "#### grid search xg boost\n"
   ]
  },
  {
   "cell_type": "code",
   "execution_count": null,
   "metadata": {},
   "outputs": [],
   "source": [
    "#grid search xg boost\n",
    "clf = xgb.XGBClassifier()\n",
    "\n",
    "# parameters = {\n",
    "#      \"eta\"    : [0.10, 0.2 ] ,\n",
    "#      \"max_depth\"        : [  12],\n",
    "#      \"min_child_weight\" : [ 3, 5],\n",
    "#      \"gamma\"            : [  0.2 , .5 ],\n",
    "#      \"colsample_bytree\" : [ 0.3, .8 ]\n",
    "#      }\n",
    "\n",
    "parameters = {\n",
    "     \"eta\"    : [ 0.20,.5,.7 ] ,\n",
    "     \"max_depth\"        : [  10,15,20],\n",
    "     \"min_child_weight\" : [ 3, 5 ,7],\n",
    "     \"gamma\"            : [  0.2 , 0.3 ,0.7],\n",
    "     \"colsample_bytree\" : [  0.5 ,.7,.8 ]\n",
    "     }\n",
    "\n",
    "grid = GridSearchCV(clf,\n",
    "                    parameters, n_jobs=4,\n",
    "                    scoring=\"neg_log_loss\",\n",
    "                    cv=3)\n",
    "\n",
    "grid.fit(X_train, y_train)\n"
   ]
  },
  {
   "cell_type": "code",
   "execution_count": null,
   "metadata": {},
   "outputs": [],
   "source": [
    "preds = grid.predict(X_test)\n",
    "best_preds = np.asarray([np.argmax(line) for line in preds])\n",
    "\n",
    "print(\"Precision = {}\".format(precision_score(y_test, best_preds, average='macro')))\n",
    "print(\"Recall = {}\".format(recall_score(y_test, best_preds, average='macro')))\n",
    "print(\"Accuracy = {}\".format(accuracy_score(y_test, best_preds)))"
   ]
  },
  {
   "cell_type": "markdown",
   "metadata": {},
   "source": [
    " <p><a name=\"logistic\"></a></p>\n",
    " \n",
    " ### Logistic Regression\n",
    " \n",
    "- Links: https://towardsdatascience.com/building-a-logistic-regression-in-python-step-by-step-becd4d56c9c8"
   ]
  },
  {
   "cell_type": "code",
   "execution_count": 38,
   "metadata": {},
   "outputs": [
    {
     "name": "stderr",
     "output_type": "stream",
     "text": [
      "C:\\Users\\Laptop2\\Anaconda3\\lib\\site-packages\\sklearn\\linear_model\\_logistic.py:939: ConvergenceWarning: lbfgs failed to converge (status=1):\n",
      "STOP: TOTAL NO. of ITERATIONS REACHED LIMIT.\n",
      "\n",
      "Increase the number of iterations (max_iter) or scale the data as shown in:\n",
      "    https://scikit-learn.org/stable/modules/preprocessing.html.\n",
      "Please also refer to the documentation for alternative solver options:\n",
      "    https://scikit-learn.org/stable/modules/linear_model.html#logistic-regression\n",
      "  extra_warning_msg=_LOGISTIC_SOLVER_CONVERGENCE_MSG)\n"
     ]
    },
    {
     "name": "stdout",
     "output_type": "stream",
     "text": [
      "Accuracy of logistic regression classifier on test set: 0.89\n",
      "[[17714  2667]\n",
      " [ 1765 18547]]\n",
      "              precision    recall  f1-score   support\n",
      "\n",
      "           0       0.91      0.87      0.89     20381\n",
      "           1       0.87      0.91      0.89     20312\n",
      "\n",
      "    accuracy                           0.89     40693\n",
      "   macro avg       0.89      0.89      0.89     40693\n",
      "weighted avg       0.89      0.89      0.89     40693\n",
      "\n"
     ]
    },
    {
     "data": {
      "image/png": "[encoded data removed]",
      "text/plain": [
       "<Figure size 432x288 with 1 Axes>"
      ]
     },
     "metadata": {
      "needs_background": "light"
     },
     "output_type": "display_data"
    }
   ],
   "source": [
    "logreg = LogisticRegression()\n",
    "logreg.fit(X_train, y_train)\n",
    "y_pred = logreg.predict(X_test)\n",
    "print('Accuracy of logistic regression classifier on test set: {:.2f}'.format(logreg.score(X_test, y_test)))\n",
    "\n",
    "from sklearn.metrics import confusion_matrix\n",
    "\n",
    "confusion_matrix = confusion_matrix(y_test, logreg.predict(X_test))\n",
    "\n",
    "print(confusion_matrix)\n",
    "\n",
    "print(classification_report(y_test, y_pred))\n",
    "\n",
    "logit_roc_auc = roc_auc_score(y_test, logreg.predict(X_test))\n",
    "fpr, tpr, thresholds = roc_curve(y_test, logreg.predict_proba(X_test)[:,1])\n",
    "plt.figure()\n",
    "plt.plot(fpr, tpr, label='Logistic Regression (area = %0.2f)' % logit_roc_auc)\n",
    "plt.plot([0, 1], [0, 1],'r--')\n",
    "plt.xlim([0.0, 1.0])\n",
    "plt.ylim([0.0, 1.05])\n",
    "plt.xlabel('False Positive Rate')\n",
    "plt.ylabel('True Positive Rate')\n",
    "plt.title('Receiver operating characteristic')\n",
    "plt.legend(loc=\"lower right\")\n",
    "plt.savefig('Log_ROC')\n",
    "plt.show()\n"
   ]
  },
  {
   "cell_type": "code",
   "execution_count": 42,
   "metadata": {},
   "outputs": [
    {
     "data": {
      "text/plain": [
       "<BarContainer object of 12 artists>"
      ]
     },
     "execution_count": 42,
     "metadata": {},
     "output_type": "execute_result"
    },
    {
     "data": {
      "image/png": "[encoded data removed]",
      "text/plain": [
       "<Figure size 360x504 with 1 Axes>"
      ]
     },
     "metadata": {
      "needs_background": "light"
     },
     "output_type": "display_data"
    }
   ],
   "source": [
    "logistic_coef=logreg.coef_\n",
    "\n",
    "logistic_coef_list=list(logistic_coef[0])\n",
    "logistic_feature=X_train.columns.to_list()\n",
    "Top_15_feature=pd.DataFrame(list(zip(logistic_feature,logistic_coef_list)),columns=['Features','Importance']).sort_values(by='Importance',ascending=False).head(12)\n",
    "\n",
    "\n",
    "plt.figure(figsize=(5, 7))\n",
    "plt.title(\"Coefficient of Logistic Regression\", fontsize = 18)\n",
    "plt.barh(Top_15_feature['Features'], Top_15_feature['Importance'], color=\"b\",  align=\"center\")\n"
   ]
  },
  {
   "cell_type": "code",
   "execution_count": 43,
   "metadata": {},
   "outputs": [
    {
     "data": {
      "text/html": [
       "<div>\n",
       "<style scoped>\n",
       "    .dataframe tbody tr th:only-of-type {\n",
       "        vertical-align: middle;\n",
       "    }\n",
       "\n",
       "    .dataframe tbody tr th {\n",
       "        vertical-align: top;\n",
       "    }\n",
       "\n",
       "    .dataframe thead th {\n",
       "        text-align: right;\n",
       "    }\n",
       "</style>\n",
       "<table border=\"1\" class=\"dataframe\">\n",
       "  <thead>\n",
       "    <tr style=\"text-align: right;\">\n",
       "      <th></th>\n",
       "      <th>Features</th>\n",
       "      <th>Importance</th>\n",
       "    </tr>\n",
       "  </thead>\n",
       "  <tbody>\n",
       "    <tr>\n",
       "      <th>3</th>\n",
       "      <td>emp_length</td>\n",
       "      <td>0.526639</td>\n",
       "    </tr>\n",
       "    <tr>\n",
       "      <th>58</th>\n",
       "      <td>purpose_credit_card</td>\n",
       "      <td>0.063074</td>\n",
       "    </tr>\n",
       "    <tr>\n",
       "      <th>59</th>\n",
       "      <td>purpose_debt_consolidation</td>\n",
       "      <td>0.030546</td>\n",
       "    </tr>\n",
       "    <tr>\n",
       "      <th>61</th>\n",
       "      <td>purpose_home_improvement</td>\n",
       "      <td>0.010154</td>\n",
       "    </tr>\n",
       "    <tr>\n",
       "      <th>5</th>\n",
       "      <td>risk_score</td>\n",
       "      <td>0.009152</td>\n",
       "    </tr>\n",
       "    <tr>\n",
       "      <th>10</th>\n",
       "      <td>addr_state_CA</td>\n",
       "      <td>0.002846</td>\n",
       "    </tr>\n",
       "    <tr>\n",
       "      <th>63</th>\n",
       "      <td>purpose_major_purchase</td>\n",
       "      <td>0.002591</td>\n",
       "    </tr>\n",
       "    <tr>\n",
       "      <th>9</th>\n",
       "      <td>addr_state_AZ</td>\n",
       "      <td>0.001839</td>\n",
       "    </tr>\n",
       "    <tr>\n",
       "      <th>40</th>\n",
       "      <td>addr_state_NY</td>\n",
       "      <td>0.001027</td>\n",
       "    </tr>\n",
       "    <tr>\n",
       "      <th>69</th>\n",
       "      <td>purpose_vacation</td>\n",
       "      <td>0.000887</td>\n",
       "    </tr>\n",
       "    <tr>\n",
       "      <th>20</th>\n",
       "      <td>addr_state_IL</td>\n",
       "      <td>0.000884</td>\n",
       "    </tr>\n",
       "    <tr>\n",
       "      <th>29</th>\n",
       "      <td>addr_state_MN</td>\n",
       "      <td>0.000778</td>\n",
       "    </tr>\n",
       "  </tbody>\n",
       "</table>\n",
       "</div>"
      ],
      "text/plain": [
       "                      Features  Importance\n",
       "3                   emp_length    0.526639\n",
       "58         purpose_credit_card    0.063074\n",
       "59  purpose_debt_consolidation    0.030546\n",
       "61    purpose_home_improvement    0.010154\n",
       "5                   risk_score    0.009152\n",
       "10               addr_state_CA    0.002846\n",
       "63      purpose_major_purchase    0.002591\n",
       "9                addr_state_AZ    0.001839\n",
       "40               addr_state_NY    0.001027\n",
       "69            purpose_vacation    0.000887\n",
       "20               addr_state_IL    0.000884\n",
       "29               addr_state_MN    0.000778"
      ]
     },
     "execution_count": 43,
     "metadata": {},
     "output_type": "execute_result"
    }
   ],
   "source": [
    "Top_15_feature"
   ]
  },
  {
   "cell_type": "markdown",
   "metadata": {},
   "source": [
    "## Naive Bayes"
   ]
  },
  {
   "cell_type": "code",
   "execution_count": 46,
   "metadata": {},
   "outputs": [
    {
     "name": "stdout",
     "output_type": "stream",
     "text": [
      "Accuracy of Naive Bayes on test set: 0.85\n",
      "[[14338  6043]\n",
      " [  228 20084]]\n",
      "              precision    recall  f1-score   support\n",
      "\n",
      "           0       0.98      0.70      0.82     20381\n",
      "           1       0.77      0.99      0.86     20312\n",
      "\n",
      "    accuracy                           0.85     40693\n",
      "   macro avg       0.88      0.85      0.84     40693\n",
      "weighted avg       0.88      0.85      0.84     40693\n",
      "\n"
     ]
    },
    {
     "data": {
      "image/png": "[encoded data removed]",
      "text/plain": [
       "<Figure size 432x288 with 1 Axes>"
      ]
     },
     "metadata": {
      "needs_background": "light"
     },
     "output_type": "display_data"
    }
   ],
   "source": [
    "from sklearn.naive_bayes import GaussianNB\n",
    "\n",
    "#Create a Gaussian Classifier\n",
    "model = GaussianNB()\n",
    "\n",
    "# Train the model using the training sets\n",
    "model.fit(X_train, y_train)\n",
    "\n",
    "#Predict Output\n",
    "y_pred = model.predict(X_test) \n",
    "\n",
    "print('Accuracy of Naive Bayes on test set: {:.2f}'.format(model.score(X_test, y_test)))\n",
    "\n",
    "\n",
    "from sklearn.metrics import confusion_matrix\n",
    "\n",
    "confusion_matrix = confusion_matrix(y_test, y_pred)\n",
    "print(confusion_matrix)\n",
    "print(classification_report(y_test, y_pred))\n",
    "\n",
    "\n",
    "\n",
    "logit_roc_auc = roc_auc_score(y_test, logreg.predict(X_test))\n",
    "fpr, tpr, thresholds = roc_curve(y_test, logreg.predict_proba(X_test)[:,1])\n",
    "plt.figure()\n",
    "plt.plot(fpr, tpr, label='Logistic Regression (area = %0.2f)' % logit_roc_auc)\n",
    "plt.plot([0, 1], [0, 1],'r--')\n",
    "plt.xlim([0.0, 1.0])\n",
    "plt.ylim([0.0, 1.05])\n",
    "plt.xlabel('False Positive Rate')\n",
    "plt.ylabel('True Positive Rate')\n",
    "plt.title('Receiver operating characteristic')\n",
    "plt.legend(loc=\"lower right\")\n",
    "plt.savefig('Log_ROC')\n",
    "plt.show()"
   ]
  },
  {
   "cell_type": "markdown",
   "metadata": {},
   "source": [
    "### Nearest Neighbor"
   ]
  },
  {
   "cell_type": "code",
   "execution_count": 47,
   "metadata": {},
   "outputs": [
    {
     "name": "stdout",
     "output_type": "stream",
     "text": [
      "[[19472   909]\n",
      " [ 2579 17733]]\n",
      "              precision    recall  f1-score   support\n",
      "\n",
      "           0       0.88      0.96      0.92     20381\n",
      "           1       0.95      0.87      0.91     20312\n",
      "\n",
      "    accuracy                           0.91     40693\n",
      "   macro avg       0.92      0.91      0.91     40693\n",
      "weighted avg       0.92      0.91      0.91     40693\n",
      "\n"
     ]
    }
   ],
   "source": [
    "from sklearn import preprocessing\n",
    "scaler = preprocessing.MinMaxScaler()\n",
    "X_train_scaler  = scaler.fit_transform(X_train)\n",
    "X_test_scaler  = scaler.fit_transform(X_test)\n",
    "# from sklearn.decomposition import PCA\n",
    "\n",
    "\n",
    "\n",
    "from sklearn.neighbors import KNeighborsClassifier\n",
    "\n",
    "k = 2\n",
    "\n",
    "knn_model = KNeighborsClassifier(n_neighbors=k)\n",
    "knn_model.fit(X_train_scaler, y_train) \n",
    "y_pred = knn_model.predict(X_test_scaler)\n",
    "from sklearn.metrics import confusion_matrix\n",
    "\n",
    "confusion_matrix = confusion_matrix(y_test, y_pred)\n",
    "print(confusion_matrix)\n",
    "print(classification_report(y_test, y_pred))\n"
   ]
  },
  {
   "cell_type": "markdown",
   "metadata": {},
   "source": [
    "### Use best params found by random forest on the untouched test set. "
   ]
  },
  {
   "cell_type": "code",
   "execution_count": null,
   "metadata": {},
   "outputs": [],
   "source": [
    "#read the test set. note: test set is already balanced. \n",
    "test_set_from_accepted_raw=pd.read_csv('test_set_from_accepted_raw.csv',index_col=0)\n",
    "test_set_from_reject_downsampled=pd.read_csv('test_set_from_reject_downsampled.csv', index_col=0)\n",
    "df_processed = data_process(test_set_from_accepted_raw, test_set_from_reject_downsampled)\n",
    "x_Test=df_processed.drop([\"loan_status\"],axis=1)\n",
    "y_Test=df_processed['loan_status']\n"
   ]
  },
  {
   "cell_type": "code",
   "execution_count": 10,
   "metadata": {},
   "outputs": [],
   "source": [
    "\n",
    "#use the grid search best param from random forest to predict x_Test\n",
    "\n",
    "preds = grid_obj.predict(x_Test)\n",
    "best_preds = np.asarray([np.argmax(line) for line in preds])\n",
    "\n",
    "print(\"Precision = {}\".format(precision_score(y_Test, best_preds, average='macro')))\n",
    "print(\"Recall = {}\".format(recall_score(y_Test, best_preds, average='macro')))\n",
    "print(\"Accuracy = {}\".format(accuracy_score(y_Test, best_preds)))"
   ]
  },
  {
   "cell_type": "markdown",
   "metadata": {},
   "source": [
    "### Use best params found by xg boost on the untouched test set. "
   ]
  },
  {
   "cell_type": "code",
   "execution_count": null,
   "metadata": {},
   "outputs": [],
   "source": [
    "x_Test=df_processed.drop([\"loan_status\"],axis=1)\n",
    "y_Test=df_processed['loan_status']\n",
    "\n",
    "#use the grid search best param from random forest to predict x_Test\n",
    "\n",
    "\n",
    "y_pred_random = grid.predict(x_Test)\n",
    "print('test accuracy:',accuracy_score(y_Test, y_pred_random))\n",
    "\n",
    "from sklearn.metrics import confusion_matrix\n",
    "\n",
    "confusion_matrix = confusion_matrix(y_Test, y_pred_random)\n",
    "print(confusion_matrix)\n",
    "print(classification_report(y_Test, y_pred_random))\n"
   ]
  }
 ],
 "metadata": {
  "kernelspec": {
   "display_name": "Python 3",
   "language": "python",
   "name": "python3"
  },
  "language_info": {
   "codemirror_mode": {
    "name": "ipython",
    "version": 3
   },
   "file_extension": ".py",
   "mimetype": "text/x-python",
   "name": "python",
   "nbconvert_exporter": "python",
   "pygments_lexer": "ipython3",
   "version": "3.7.3"
  }
 },
 "nbformat": 4,
 "nbformat_minor": 2
}
