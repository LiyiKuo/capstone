{
 "cells": [
  {
   "cell_type": "markdown",
   "metadata": {},
   "source": [
    "# Project Idea 5: Survival Time Analysis\n",
    "- A loan which gets repaid within a few months has no value to the investor.\n",
    "- It is negative to the investors beacause of the **opportunity cost** of investing.\n",
    "- A loan which defaults quickly after issuance is even worse. It often induces\n",
    "a larger loss.\n",
    "- Thus it is very important for the loan investor to have an accurate expectation on \n",
    "the loan-performance (in terms of duration or net PnL).\n",
    "It is even more important when the loan is sold by the original investor to\n",
    "the secondary market, a correct expectation on the remaining term of the loan and\n",
    "the default rate is crucial for a correct pricing of the loan.\n",
    "https://www.lendingclub.com/investing/investor-education/are-lendingclub-notes-liquid\n",
    "- Build models to predict loan duration (last_payment_date - issuance_date)\n",
    "for charged off/default loans and for good loans which terminate with 'fully paid' status.\n",
    "- Build models to predict total profits/losses (or total principal/interest)\n",
    "\n",
    "- Show evidences to link the loan-duration and the PnL, which may justify\n",
    "training a joint model predicting multi-regression-targets.\n",
    "\n",
    "- Modeling the survival of loans is a very important topic across different domains.\n",
    "In health care/health insurance it is usually called survival analysis.\n",
    "In modeling product life expectancy, engineers use a different term reliability analysis.\n",
    "The same type of thought can be used on financial instrument default or marketing/customer retention.\n",
    "- Note that there is an add-on survival analysis package 'scikit-survival' on top of **sklearn**.\n",
    "There are a ton of packages in R dedicated to survival analysis, visit\n",
    "https://cran.r-project.org/web/views/Survival.html for a survey.\n",
    "- You can either start from scratch or adapt the traditional approach of\n",
    "survival/hazard analysis. In the latter approach, you need to read research papers effectively."
   ]
  },
  {
   "cell_type": "markdown",
   "metadata": {},
   "source": [
    "## 1. Importing Data\n"
   ]
  },
  {
   "cell_type": "code",
   "execution_count": 1,
   "metadata": {},
   "outputs": [],
   "source": [
    "import pandas as pd\n",
    "import seaborn as sns\n",
    "import numpy as np\n",
    "import matplotlib.pyplot as plt\n",
    "from lifelines import KaplanMeierFitter\n",
    "from datetime import datetime as dt\n",
    "from datetime import timedelta"
   ]
  },
  {
   "cell_type": "code",
   "execution_count": 2,
   "metadata": {},
   "outputs": [
    {
     "name": "stderr",
     "output_type": "stream",
     "text": [
      "/Users/jameskim/opt/anaconda3/lib/python3.7/site-packages/IPython/core/interactiveshell.py:3058: DtypeWarning: Columns (0,19,49,59,118,129,130,131,134,135,136,139,145,146,147) have mixed types. Specify dtype option on import or set low_memory=False.\n",
      "  interactivity=interactivity, compiler=compiler, result=result)\n"
     ]
    }
   ],
   "source": [
    "accepted = pd.read_csv('accepted_2007_to_2018Q4.csv')\n"
   ]
  },
  {
   "cell_type": "code",
   "execution_count": 3,
   "metadata": {},
   "outputs": [
    {
     "data": {
      "text/plain": [
       "(2260701, 151)"
      ]
     },
     "execution_count": 3,
     "metadata": {},
     "output_type": "execute_result"
    }
   ],
   "source": [
    "accepted.shape"
   ]
  },
  {
   "cell_type": "code",
   "execution_count": 4,
   "metadata": {
    "scrolled": false
   },
   "outputs": [
    {
     "data": {
      "text/html": [
       "<div>\n",
       "<style scoped>\n",
       "    .dataframe tbody tr th:only-of-type {\n",
       "        vertical-align: middle;\n",
       "    }\n",
       "\n",
       "    .dataframe tbody tr th {\n",
       "        vertical-align: top;\n",
       "    }\n",
       "\n",
       "    .dataframe thead th {\n",
       "        text-align: right;\n",
       "    }\n",
       "</style>\n",
       "<table border=\"1\" class=\"dataframe\">\n",
       "  <thead>\n",
       "    <tr style=\"text-align: right;\">\n",
       "      <th></th>\n",
       "      <th>id</th>\n",
       "      <th>member_id</th>\n",
       "      <th>loan_amnt</th>\n",
       "      <th>funded_amnt</th>\n",
       "      <th>funded_amnt_inv</th>\n",
       "      <th>term</th>\n",
       "      <th>int_rate</th>\n",
       "      <th>installment</th>\n",
       "      <th>grade</th>\n",
       "      <th>sub_grade</th>\n",
       "      <th>...</th>\n",
       "      <th>hardship_payoff_balance_amount</th>\n",
       "      <th>hardship_last_payment_amount</th>\n",
       "      <th>disbursement_method</th>\n",
       "      <th>debt_settlement_flag</th>\n",
       "      <th>debt_settlement_flag_date</th>\n",
       "      <th>settlement_status</th>\n",
       "      <th>settlement_date</th>\n",
       "      <th>settlement_amount</th>\n",
       "      <th>settlement_percentage</th>\n",
       "      <th>settlement_term</th>\n",
       "    </tr>\n",
       "  </thead>\n",
       "  <tbody>\n",
       "    <tr>\n",
       "      <td>2253903</td>\n",
       "      <td>91159542</td>\n",
       "      <td>NaN</td>\n",
       "      <td>20000.0</td>\n",
       "      <td>20000.0</td>\n",
       "      <td>20000.0</td>\n",
       "      <td>60 months</td>\n",
       "      <td>12.79</td>\n",
       "      <td>452.92</td>\n",
       "      <td>C</td>\n",
       "      <td>C1</td>\n",
       "      <td>...</td>\n",
       "      <td>NaN</td>\n",
       "      <td>NaN</td>\n",
       "      <td>Cash</td>\n",
       "      <td>N</td>\n",
       "      <td>NaN</td>\n",
       "      <td>NaN</td>\n",
       "      <td>NaN</td>\n",
       "      <td>NaN</td>\n",
       "      <td>NaN</td>\n",
       "      <td>NaN</td>\n",
       "    </tr>\n",
       "    <tr>\n",
       "      <td>1694935</td>\n",
       "      <td>99420568</td>\n",
       "      <td>NaN</td>\n",
       "      <td>20175.0</td>\n",
       "      <td>20175.0</td>\n",
       "      <td>20175.0</td>\n",
       "      <td>36 months</td>\n",
       "      <td>13.49</td>\n",
       "      <td>684.55</td>\n",
       "      <td>C</td>\n",
       "      <td>C2</td>\n",
       "      <td>...</td>\n",
       "      <td>NaN</td>\n",
       "      <td>NaN</td>\n",
       "      <td>Cash</td>\n",
       "      <td>N</td>\n",
       "      <td>NaN</td>\n",
       "      <td>NaN</td>\n",
       "      <td>NaN</td>\n",
       "      <td>NaN</td>\n",
       "      <td>NaN</td>\n",
       "      <td>NaN</td>\n",
       "    </tr>\n",
       "    <tr>\n",
       "      <td>1935516</td>\n",
       "      <td>1134180</td>\n",
       "      <td>NaN</td>\n",
       "      <td>4500.0</td>\n",
       "      <td>4500.0</td>\n",
       "      <td>4500.0</td>\n",
       "      <td>36 months</td>\n",
       "      <td>7.51</td>\n",
       "      <td>140.00</td>\n",
       "      <td>A</td>\n",
       "      <td>A3</td>\n",
       "      <td>...</td>\n",
       "      <td>NaN</td>\n",
       "      <td>NaN</td>\n",
       "      <td>Cash</td>\n",
       "      <td>N</td>\n",
       "      <td>NaN</td>\n",
       "      <td>NaN</td>\n",
       "      <td>NaN</td>\n",
       "      <td>NaN</td>\n",
       "      <td>NaN</td>\n",
       "      <td>NaN</td>\n",
       "    </tr>\n",
       "    <tr>\n",
       "      <td>1457632</td>\n",
       "      <td>142054292</td>\n",
       "      <td>NaN</td>\n",
       "      <td>1000.0</td>\n",
       "      <td>1000.0</td>\n",
       "      <td>1000.0</td>\n",
       "      <td>36 months</td>\n",
       "      <td>26.31</td>\n",
       "      <td>40.46</td>\n",
       "      <td>E</td>\n",
       "      <td>E4</td>\n",
       "      <td>...</td>\n",
       "      <td>NaN</td>\n",
       "      <td>NaN</td>\n",
       "      <td>Cash</td>\n",
       "      <td>N</td>\n",
       "      <td>NaN</td>\n",
       "      <td>NaN</td>\n",
       "      <td>NaN</td>\n",
       "      <td>NaN</td>\n",
       "      <td>NaN</td>\n",
       "      <td>NaN</td>\n",
       "    </tr>\n",
       "    <tr>\n",
       "      <td>227875</td>\n",
       "      <td>54513928</td>\n",
       "      <td>NaN</td>\n",
       "      <td>12000.0</td>\n",
       "      <td>12000.0</td>\n",
       "      <td>12000.0</td>\n",
       "      <td>36 months</td>\n",
       "      <td>6.89</td>\n",
       "      <td>369.93</td>\n",
       "      <td>A</td>\n",
       "      <td>A3</td>\n",
       "      <td>...</td>\n",
       "      <td>NaN</td>\n",
       "      <td>NaN</td>\n",
       "      <td>Cash</td>\n",
       "      <td>Y</td>\n",
       "      <td>Apr-2017</td>\n",
       "      <td>COMPLETE</td>\n",
       "      <td>Mar-2017</td>\n",
       "      <td>3403.53</td>\n",
       "      <td>40.0</td>\n",
       "      <td>1.0</td>\n",
       "    </tr>\n",
       "  </tbody>\n",
       "</table>\n",
       "<p>5 rows × 151 columns</p>\n",
       "</div>"
      ],
      "text/plain": [
       "                id  member_id  loan_amnt  funded_amnt  funded_amnt_inv  \\\n",
       "2253903   91159542        NaN    20000.0      20000.0          20000.0   \n",
       "1694935   99420568        NaN    20175.0      20175.0          20175.0   \n",
       "1935516    1134180        NaN     4500.0       4500.0           4500.0   \n",
       "1457632  142054292        NaN     1000.0       1000.0           1000.0   \n",
       "227875    54513928        NaN    12000.0      12000.0          12000.0   \n",
       "\n",
       "               term  int_rate  installment grade sub_grade  ...  \\\n",
       "2253903   60 months     12.79       452.92     C        C1  ...   \n",
       "1694935   36 months     13.49       684.55     C        C2  ...   \n",
       "1935516   36 months      7.51       140.00     A        A3  ...   \n",
       "1457632   36 months     26.31        40.46     E        E4  ...   \n",
       "227875    36 months      6.89       369.93     A        A3  ...   \n",
       "\n",
       "        hardship_payoff_balance_amount hardship_last_payment_amount  \\\n",
       "2253903                            NaN                          NaN   \n",
       "1694935                            NaN                          NaN   \n",
       "1935516                            NaN                          NaN   \n",
       "1457632                            NaN                          NaN   \n",
       "227875                             NaN                          NaN   \n",
       "\n",
       "        disbursement_method  debt_settlement_flag debt_settlement_flag_date  \\\n",
       "2253903                Cash                     N                       NaN   \n",
       "1694935                Cash                     N                       NaN   \n",
       "1935516                Cash                     N                       NaN   \n",
       "1457632                Cash                     N                       NaN   \n",
       "227875                 Cash                     Y                  Apr-2017   \n",
       "\n",
       "        settlement_status settlement_date settlement_amount  \\\n",
       "2253903               NaN             NaN               NaN   \n",
       "1694935               NaN             NaN               NaN   \n",
       "1935516               NaN             NaN               NaN   \n",
       "1457632               NaN             NaN               NaN   \n",
       "227875           COMPLETE        Mar-2017           3403.53   \n",
       "\n",
       "        settlement_percentage settlement_term  \n",
       "2253903                   NaN             NaN  \n",
       "1694935                   NaN             NaN  \n",
       "1935516                   NaN             NaN  \n",
       "1457632                   NaN             NaN  \n",
       "227875                   40.0             1.0  \n",
       "\n",
       "[5 rows x 151 columns]"
      ]
     },
     "execution_count": 4,
     "metadata": {},
     "output_type": "execute_result"
    }
   ],
   "source": [
    "accepted.sample(5)"
   ]
  },
  {
   "cell_type": "markdown",
   "metadata": {},
   "source": [
    "## 2. Data Pre-Processing\n"
   ]
  },
  {
   "cell_type": "code",
   "execution_count": 5,
   "metadata": {},
   "outputs": [],
   "source": [
    "accepted['issue_date'] = pd.to_datetime(accepted['issue_d'])\n",
    "accepted['issue_d'] = accepted['issue_date'].apply(lambda x: str(x)[:7])\n",
    "accepted['last_pymnt_date'] = pd.to_datetime(accepted['last_pymnt_d'])\n",
    "accepted['paid_months'] = (accepted['last_pymnt_date'].dt.year - accepted['issue_date'].dt.year) * 12 + accepted['last_pymnt_date'].dt.month - accepted['issue_date'].dt.month\n"
   ]
  },
  {
   "cell_type": "code",
   "execution_count": 6,
   "metadata": {},
   "outputs": [
    {
     "data": {
      "text/html": [
       "<div>\n",
       "<style scoped>\n",
       "    .dataframe tbody tr th:only-of-type {\n",
       "        vertical-align: middle;\n",
       "    }\n",
       "\n",
       "    .dataframe tbody tr th {\n",
       "        vertical-align: top;\n",
       "    }\n",
       "\n",
       "    .dataframe thead th {\n",
       "        text-align: right;\n",
       "    }\n",
       "</style>\n",
       "<table border=\"1\" class=\"dataframe\">\n",
       "  <thead>\n",
       "    <tr style=\"text-align: right;\">\n",
       "      <th></th>\n",
       "      <th>issue_date</th>\n",
       "      <th>loan_status</th>\n",
       "      <th>paid_months</th>\n",
       "      <th>last_pymnt_date</th>\n",
       "    </tr>\n",
       "  </thead>\n",
       "  <tbody>\n",
       "    <tr>\n",
       "      <td>254426</td>\n",
       "      <td>2015-06-01</td>\n",
       "      <td>Fully Paid</td>\n",
       "      <td>17.0</td>\n",
       "      <td>2016-11-01</td>\n",
       "    </tr>\n",
       "    <tr>\n",
       "      <td>1576464</td>\n",
       "      <td>2018-04-01</td>\n",
       "      <td>Current</td>\n",
       "      <td>11.0</td>\n",
       "      <td>2019-03-01</td>\n",
       "    </tr>\n",
       "    <tr>\n",
       "      <td>2076627</td>\n",
       "      <td>2017-11-01</td>\n",
       "      <td>Current</td>\n",
       "      <td>16.0</td>\n",
       "      <td>2019-03-01</td>\n",
       "    </tr>\n",
       "    <tr>\n",
       "      <td>1567305</td>\n",
       "      <td>2018-05-01</td>\n",
       "      <td>Current</td>\n",
       "      <td>10.0</td>\n",
       "      <td>2019-03-01</td>\n",
       "    </tr>\n",
       "    <tr>\n",
       "      <td>1359783</td>\n",
       "      <td>2018-12-01</td>\n",
       "      <td>Current</td>\n",
       "      <td>3.0</td>\n",
       "      <td>2019-03-01</td>\n",
       "    </tr>\n",
       "    <tr>\n",
       "      <td>2007044</td>\n",
       "      <td>2016-07-01</td>\n",
       "      <td>Charged Off</td>\n",
       "      <td>4.0</td>\n",
       "      <td>2016-11-01</td>\n",
       "    </tr>\n",
       "    <tr>\n",
       "      <td>1790963</td>\n",
       "      <td>2013-10-01</td>\n",
       "      <td>Fully Paid</td>\n",
       "      <td>20.0</td>\n",
       "      <td>2015-06-01</td>\n",
       "    </tr>\n",
       "    <tr>\n",
       "      <td>1584321</td>\n",
       "      <td>2018-04-01</td>\n",
       "      <td>Current</td>\n",
       "      <td>11.0</td>\n",
       "      <td>2019-03-01</td>\n",
       "    </tr>\n",
       "    <tr>\n",
       "      <td>1214248</td>\n",
       "      <td>2014-08-01</td>\n",
       "      <td>Fully Paid</td>\n",
       "      <td>36.0</td>\n",
       "      <td>2017-08-01</td>\n",
       "    </tr>\n",
       "    <tr>\n",
       "      <td>321276</td>\n",
       "      <td>2015-04-01</td>\n",
       "      <td>Fully Paid</td>\n",
       "      <td>36.0</td>\n",
       "      <td>2018-04-01</td>\n",
       "    </tr>\n",
       "  </tbody>\n",
       "</table>\n",
       "</div>"
      ],
      "text/plain": [
       "        issue_date  loan_status  paid_months last_pymnt_date\n",
       "254426  2015-06-01   Fully Paid         17.0      2016-11-01\n",
       "1576464 2018-04-01      Current         11.0      2019-03-01\n",
       "2076627 2017-11-01      Current         16.0      2019-03-01\n",
       "1567305 2018-05-01      Current         10.0      2019-03-01\n",
       "1359783 2018-12-01      Current          3.0      2019-03-01\n",
       "2007044 2016-07-01  Charged Off          4.0      2016-11-01\n",
       "1790963 2013-10-01   Fully Paid         20.0      2015-06-01\n",
       "1584321 2018-04-01      Current         11.0      2019-03-01\n",
       "1214248 2014-08-01   Fully Paid         36.0      2017-08-01\n",
       "321276  2015-04-01   Fully Paid         36.0      2018-04-01"
      ]
     },
     "execution_count": 6,
     "metadata": {},
     "output_type": "execute_result"
    }
   ],
   "source": [
    "accepted[['issue_date','loan_status','paid_months','last_pymnt_date']].sample(10)"
   ]
  },
  {
   "cell_type": "code",
   "execution_count": 7,
   "metadata": {},
   "outputs": [
    {
     "data": {
      "text/plain": [
       "id                             0\n",
       "member_id                2260701\n",
       "loan_amnt                     33\n",
       "funded_amnt                   33\n",
       "funded_amnt_inv               33\n",
       "                          ...   \n",
       "settlement_percentage    2226455\n",
       "settlement_term          2226455\n",
       "issue_date                    33\n",
       "last_pymnt_date             2460\n",
       "paid_months                 2460\n",
       "Length: 154, dtype: int64"
      ]
     },
     "execution_count": 7,
     "metadata": {},
     "output_type": "execute_result"
    }
   ],
   "source": [
    "accepted.isna().sum()"
   ]
  },
  {
   "cell_type": "code",
   "execution_count": 8,
   "metadata": {},
   "outputs": [
    {
     "data": {
      "text/plain": [
       "Fully Paid                                             1076751\n",
       "Current                                                 878317\n",
       "Charged Off                                             268559\n",
       "Late (31-120 days)                                       21467\n",
       "In Grace Period                                           8436\n",
       "Late (16-30 days)                                         4349\n",
       "Does not meet the credit policy. Status:Fully Paid        1988\n",
       "Does not meet the credit policy. Status:Charged Off        761\n",
       "Default                                                     40\n",
       "NaN                                                         33\n",
       "Name: loan_status, dtype: int64"
      ]
     },
     "execution_count": 8,
     "metadata": {},
     "output_type": "execute_result"
    }
   ],
   "source": [
    "accepted['loan_status'].value_counts(dropna=False)"
   ]
  },
  {
   "cell_type": "code",
   "execution_count": 9,
   "metadata": {},
   "outputs": [],
   "source": [
    "loans = accepted.loc[accepted['loan_status'].isin(['Fully Paid', 'Charged Off', 'Default'])]\n"
   ]
  },
  {
   "cell_type": "code",
   "execution_count": 10,
   "metadata": {},
   "outputs": [
    {
     "data": {
      "text/plain": [
       "(1345350, 154)"
      ]
     },
     "execution_count": 10,
     "metadata": {},
     "output_type": "execute_result"
    }
   ],
   "source": [
    "loans.shape"
   ]
  },
  {
   "cell_type": "code",
   "execution_count": 11,
   "metadata": {},
   "outputs": [
    {
     "data": {
      "text/plain": [
       "Fully Paid     0.80035\n",
       "Charged Off    0.19962\n",
       "Default        0.00003\n",
       "Name: loan_status, dtype: float64"
      ]
     },
     "execution_count": 11,
     "metadata": {},
     "output_type": "execute_result"
    }
   ],
   "source": [
    "loans['loan_status'].value_counts(normalize=True,dropna=False)"
   ]
  },
  {
   "cell_type": "code",
   "execution_count": 12,
   "metadata": {},
   "outputs": [],
   "source": [
    "missing_fractions = loans.isnull().mean().sort_values(ascending=False)\n"
   ]
  },
  {
   "cell_type": "code",
   "execution_count": 13,
   "metadata": {},
   "outputs": [
    {
     "data": {
      "text/plain": [
       "member_id                                     1.000000\n",
       "next_pymnt_d                                  0.999970\n",
       "orig_projected_additional_accrued_interest    0.997204\n",
       "hardship_type                                 0.995722\n",
       "hardship_reason                               0.995722\n",
       "dtype: float64"
      ]
     },
     "execution_count": 13,
     "metadata": {},
     "output_type": "execute_result"
    }
   ],
   "source": [
    "missing_fractions.head()"
   ]
  },
  {
   "cell_type": "code",
   "execution_count": 14,
   "metadata": {},
   "outputs": [],
   "source": [
    "keep_list = ['addr_state', 'annual_inc', 'application_type', 'dti', 'earliest_cr_line', 'emp_length', 'emp_title',\n",
    "             'fico_range_high', 'fico_range_low', 'grade', 'home_ownership', 'id', 'initial_list_status', \n",
    "             'installment', 'int_rate', 'issue_d', 'loan_amnt', 'loan_status', 'mort_acc', 'open_acc', 'pub_rec', \n",
    "             'pub_rec_bankruptcies', 'purpose', 'revol_bal', 'revol_util', 'sub_grade', 'term', 'title', 'total_acc',\n",
    "             'verification_status', 'zip_code','paid_months']"
   ]
  },
  {
   "cell_type": "code",
   "execution_count": 15,
   "metadata": {},
   "outputs": [],
   "source": [
    "loans = loans[keep_list]"
   ]
  },
  {
   "cell_type": "code",
   "execution_count": 16,
   "metadata": {},
   "outputs": [
    {
     "data": {
      "text/plain": [
       "(1345350, 32)"
      ]
     },
     "execution_count": 16,
     "metadata": {},
     "output_type": "execute_result"
    }
   ],
   "source": [
    "loans.shape"
   ]
  },
  {
   "cell_type": "code",
   "execution_count": 17,
   "metadata": {
    "scrolled": true
   },
   "outputs": [
    {
     "data": {
      "text/plain": [
       "addr_state                  0\n",
       "annual_inc                  0\n",
       "application_type            0\n",
       "dti                       374\n",
       "earliest_cr_line            0\n",
       "emp_length              78516\n",
       "emp_title               85791\n",
       "fico_range_high             0\n",
       "fico_range_low              0\n",
       "grade                       0\n",
       "home_ownership              0\n",
       "id                          0\n",
       "initial_list_status         0\n",
       "installment                 0\n",
       "int_rate                    0\n",
       "issue_d                     0\n",
       "loan_amnt                   0\n",
       "loan_status                 0\n",
       "mort_acc                47281\n",
       "open_acc                    0\n",
       "pub_rec                     0\n",
       "pub_rec_bankruptcies      697\n",
       "purpose                     0\n",
       "revol_bal                   0\n",
       "revol_util                857\n",
       "sub_grade                   0\n",
       "term                        0\n",
       "title                   16659\n",
       "total_acc                   0\n",
       "verification_status         0\n",
       "zip_code                    1\n",
       "paid_months              2313\n",
       "dtype: int64"
      ]
     },
     "execution_count": 17,
     "metadata": {},
     "output_type": "execute_result"
    }
   ],
   "source": [
    "loans.isna().sum()"
   ]
  },
  {
   "cell_type": "code",
   "execution_count": 18,
   "metadata": {},
   "outputs": [],
   "source": [
    "#dropping rows with na for paid_months and zipcode\n",
    "loans.dropna(axis=0, subset=['paid_months'],inplace=True)\n",
    "loans.dropna(axis=0, subset=['zip_code'],inplace=True)\n"
   ]
  },
  {
   "cell_type": "code",
   "execution_count": 19,
   "metadata": {},
   "outputs": [],
   "source": [
    "loans.drop('id', axis=1, inplace=True)"
   ]
  },
  {
   "cell_type": "code",
   "execution_count": 20,
   "metadata": {},
   "outputs": [],
   "source": [
    "loans.drop('grade', axis=1, inplace=True)"
   ]
  },
  {
   "cell_type": "code",
   "execution_count": 21,
   "metadata": {},
   "outputs": [
    {
     "data": {
      "text/plain": [
       "(1343036, 30)"
      ]
     },
     "execution_count": 21,
     "metadata": {},
     "output_type": "execute_result"
    }
   ],
   "source": [
    "loans.shape"
   ]
  },
  {
   "cell_type": "code",
   "execution_count": 22,
   "metadata": {},
   "outputs": [
    {
     "data": {
      "text/plain": [
       "count     1257498\n",
       "unique     377868\n",
       "top       Teacher\n",
       "freq        21236\n",
       "Name: emp_title, dtype: object"
      ]
     },
     "execution_count": 22,
     "metadata": {},
     "output_type": "execute_result"
    }
   ],
   "source": [
    "loans['emp_title'].describe()"
   ]
  },
  {
   "cell_type": "code",
   "execution_count": 23,
   "metadata": {},
   "outputs": [],
   "source": [
    "loans.drop('emp_title', axis=1, inplace=True)"
   ]
  },
  {
   "cell_type": "code",
   "execution_count": 24,
   "metadata": {},
   "outputs": [],
   "source": [
    "loans['emp_length'].replace(to_replace='10+ years', value='10 years', inplace=True)\n"
   ]
  },
  {
   "cell_type": "code",
   "execution_count": 25,
   "metadata": {},
   "outputs": [],
   "source": [
    "loans['emp_length'].replace('< 1 year', '0 years', inplace=True)\n"
   ]
  },
  {
   "cell_type": "code",
   "execution_count": 26,
   "metadata": {},
   "outputs": [],
   "source": [
    "def emp_length_to_int(s):\n",
    "    if pd.isnull(s):\n",
    "        return s\n",
    "    else:\n",
    "        return np.int8(s.split()[0])"
   ]
  },
  {
   "cell_type": "code",
   "execution_count": 27,
   "metadata": {},
   "outputs": [],
   "source": [
    "loans['emp_length'] = loans['emp_length'].apply(emp_length_to_int)\n"
   ]
  },
  {
   "cell_type": "code",
   "execution_count": 28,
   "metadata": {},
   "outputs": [
    {
     "data": {
      "text/plain": [
       "0.0     107868\n",
       "1.0      88345\n",
       "2.0     121536\n",
       "3.0     107403\n",
       "4.0      80387\n",
       "5.0      83980\n",
       "6.0      62615\n",
       "7.0      59523\n",
       "8.0      60594\n",
       "9.0      50857\n",
       "10.0    441647\n",
       "NaN      78281\n",
       "Name: emp_length, dtype: int64"
      ]
     },
     "execution_count": 28,
     "metadata": {},
     "output_type": "execute_result"
    }
   ],
   "source": [
    "loans['emp_length'].value_counts(dropna=False).sort_index()\n"
   ]
  },
  {
   "cell_type": "code",
   "execution_count": 29,
   "metadata": {},
   "outputs": [],
   "source": [
    "loans.drop('zip_code', axis=1, inplace=True)"
   ]
  },
  {
   "cell_type": "code",
   "execution_count": 30,
   "metadata": {},
   "outputs": [
    {
     "data": {
      "text/plain": [
       "addr_state\n",
       "DC    0.130836\n",
       "ME    0.137148\n",
       "VT    0.138543\n",
       "IA    0.142857\n",
       "OR    0.143031\n",
       "NH    0.144831\n",
       "WV    0.154320\n",
       "CO    0.154557\n",
       "WA    0.156230\n",
       "SC    0.161133\n",
       "KS    0.166385\n",
       "WY    0.166838\n",
       "MT    0.167627\n",
       "UT    0.169676\n",
       "CT    0.172622\n",
       "RI    0.177524\n",
       "IL    0.179870\n",
       "WI    0.182357\n",
       "GA    0.182664\n",
       "ID    0.187796\n",
       "MA    0.189220\n",
       "CA    0.194341\n",
       "AZ    0.195106\n",
       "AK    0.195543\n",
       "DE    0.195548\n",
       "MN    0.195987\n",
       "TX    0.196830\n",
       "VA    0.198030\n",
       "HI    0.200919\n",
       "MI    0.201825\n",
       "ND    0.203252\n",
       "OH    0.204275\n",
       "NC    0.206237\n",
       "PA    0.206658\n",
       "KY    0.208597\n",
       "NJ    0.210017\n",
       "MD    0.211462\n",
       "MO    0.211702\n",
       "SD    0.211803\n",
       "NM    0.212381\n",
       "TN    0.212805\n",
       "FL    0.213047\n",
       "IN    0.213249\n",
       "NV    0.217215\n",
       "NY    0.219013\n",
       "LA    0.230580\n",
       "OK    0.232942\n",
       "AL    0.235046\n",
       "AR    0.239581\n",
       "NE    0.249930\n",
       "MS    0.259428\n",
       "Name: loan_status, dtype: float64"
      ]
     },
     "execution_count": 30,
     "metadata": {},
     "output_type": "execute_result"
    }
   ],
   "source": [
    "loans.groupby('addr_state')['loan_status'].value_counts(normalize=True).loc[:,'Charged Off'].sort_values()"
   ]
  },
  {
   "cell_type": "code",
   "execution_count": 31,
   "metadata": {},
   "outputs": [
    {
     "data": {
      "text/plain": [
       "Index(['addr_state', 'annual_inc', 'application_type', 'dti',\n",
       "       'earliest_cr_line', 'emp_length', 'fico_range_high', 'fico_range_low',\n",
       "       'home_ownership', 'initial_list_status', 'installment', 'int_rate',\n",
       "       'issue_d', 'loan_amnt', 'loan_status', 'mort_acc', 'open_acc',\n",
       "       'pub_rec', 'pub_rec_bankruptcies', 'purpose', 'revol_bal', 'revol_util',\n",
       "       'sub_grade', 'term', 'title', 'total_acc', 'verification_status',\n",
       "       'paid_months'],\n",
       "      dtype='object')"
      ]
     },
     "execution_count": 31,
     "metadata": {},
     "output_type": "execute_result"
    }
   ],
   "source": [
    "loans.columns"
   ]
  },
  {
   "cell_type": "code",
   "execution_count": 32,
   "metadata": {},
   "outputs": [],
   "source": [
    "loans.drop('revol_bal',axis=1,inplace=True)"
   ]
  },
  {
   "cell_type": "code",
   "execution_count": 33,
   "metadata": {},
   "outputs": [],
   "source": [
    "loans['fico_score'] = 0.5*loans['fico_range_low'] + 0.5*loans['fico_range_high']\n"
   ]
  },
  {
   "cell_type": "code",
   "execution_count": 34,
   "metadata": {},
   "outputs": [],
   "source": [
    "loans.drop(['fico_range_high', 'fico_range_low'], axis=1, inplace=True)\n"
   ]
  },
  {
   "cell_type": "code",
   "execution_count": 35,
   "metadata": {},
   "outputs": [],
   "source": [
    "loans.drop('title',axis=1,inplace=True)"
   ]
  },
  {
   "cell_type": "code",
   "execution_count": 36,
   "metadata": {},
   "outputs": [
    {
     "data": {
      "text/plain": [
       "(1343036, 25)"
      ]
     },
     "execution_count": 36,
     "metadata": {},
     "output_type": "execute_result"
    }
   ],
   "source": [
    "loans.shape"
   ]
  },
  {
   "cell_type": "code",
   "execution_count": 37,
   "metadata": {},
   "outputs": [],
   "source": [
    "# loans = pd.get_dummies(loans, columns=['sub_grade', 'home_ownership', 'verification_status', 'purpose', 'addr_state', 'initial_list_status', 'application_type'], drop_first=True)\n"
   ]
  },
  {
   "cell_type": "code",
   "execution_count": 38,
   "metadata": {},
   "outputs": [
    {
     "data": {
      "text/plain": [
       "(1343036, 25)"
      ]
     },
     "execution_count": 38,
     "metadata": {},
     "output_type": "execute_result"
    }
   ],
   "source": [
    "loans.shape"
   ]
  },
  {
   "cell_type": "code",
   "execution_count": 39,
   "metadata": {},
   "outputs": [],
   "source": [
    "loans['term'] = loans['term'].apply(lambda s: np.int8(s.split()[0]))\n"
   ]
  },
  {
   "cell_type": "code",
   "execution_count": 40,
   "metadata": {},
   "outputs": [
    {
     "data": {
      "text/plain": [
       "addr_state                  0\n",
       "annual_inc                  0\n",
       "application_type            0\n",
       "dti                       370\n",
       "earliest_cr_line            0\n",
       "emp_length              78281\n",
       "home_ownership              0\n",
       "initial_list_status         0\n",
       "installment                 0\n",
       "int_rate                    0\n",
       "issue_d                     0\n",
       "loan_amnt                   0\n",
       "loan_status                 0\n",
       "mort_acc                47194\n",
       "open_acc                    0\n",
       "pub_rec                     0\n",
       "pub_rec_bankruptcies      697\n",
       "purpose                     0\n",
       "revol_util                847\n",
       "sub_grade                   0\n",
       "term                        0\n",
       "total_acc                   0\n",
       "verification_status         0\n",
       "paid_months                 0\n",
       "fico_score                  0\n",
       "dtype: int64"
      ]
     },
     "execution_count": 40,
     "metadata": {},
     "output_type": "execute_result"
    }
   ],
   "source": [
    "loans.isna().sum()"
   ]
  },
  {
   "cell_type": "code",
   "execution_count": 41,
   "metadata": {},
   "outputs": [],
   "source": [
    "loans['earliest_cr_line'] = loans['earliest_cr_line'].apply(lambda s: int(s[-4:]))\n"
   ]
  },
  {
   "cell_type": "code",
   "execution_count": 42,
   "metadata": {},
   "outputs": [],
   "source": [
    "loans['issue_d'] = pd.to_datetime(loans['issue_d'])\n"
   ]
  },
  {
   "cell_type": "code",
   "execution_count": 43,
   "metadata": {},
   "outputs": [],
   "source": [
    "loans.drop('issue_d', axis=1, inplace =True)"
   ]
  },
  {
   "cell_type": "code",
   "execution_count": 44,
   "metadata": {},
   "outputs": [
    {
     "data": {
      "text/plain": [
       "addr_state                  0\n",
       "annual_inc                  0\n",
       "application_type            0\n",
       "dti                       370\n",
       "earliest_cr_line            0\n",
       "emp_length              78281\n",
       "home_ownership              0\n",
       "initial_list_status         0\n",
       "installment                 0\n",
       "int_rate                    0\n",
       "loan_amnt                   0\n",
       "loan_status                 0\n",
       "mort_acc                47194\n",
       "open_acc                    0\n",
       "pub_rec                     0\n",
       "pub_rec_bankruptcies      697\n",
       "purpose                     0\n",
       "revol_util                847\n",
       "sub_grade                   0\n",
       "term                        0\n",
       "total_acc                   0\n",
       "verification_status         0\n",
       "paid_months                 0\n",
       "fico_score                  0\n",
       "dtype: int64"
      ]
     },
     "execution_count": 44,
     "metadata": {},
     "output_type": "execute_result"
    }
   ],
   "source": [
    "loans.isna().sum()"
   ]
  },
  {
   "cell_type": "code",
   "execution_count": 45,
   "metadata": {},
   "outputs": [],
   "source": [
    "def acc_paid (row):\n",
    "    if row['loan_status']=='Fully Paid':\n",
    "        return 1\n",
    "    if row['loan_status'] != 'Fully Paid':\n",
    "        return 0"
   ]
  },
  {
   "cell_type": "code",
   "execution_count": 46,
   "metadata": {},
   "outputs": [],
   "source": [
    "loans['loan_status'] = loans.apply (lambda row: acc_paid(row), axis=1)\n"
   ]
  },
  {
   "cell_type": "code",
   "execution_count": 47,
   "metadata": {},
   "outputs": [
    {
     "data": {
      "text/plain": [
       "addr_state                  0\n",
       "annual_inc                  0\n",
       "application_type            0\n",
       "dti                       370\n",
       "earliest_cr_line            0\n",
       "emp_length              78281\n",
       "home_ownership              0\n",
       "initial_list_status         0\n",
       "installment                 0\n",
       "int_rate                    0\n",
       "loan_amnt                   0\n",
       "loan_status                 0\n",
       "mort_acc                47194\n",
       "open_acc                    0\n",
       "pub_rec                     0\n",
       "pub_rec_bankruptcies      697\n",
       "purpose                     0\n",
       "revol_util                847\n",
       "sub_grade                   0\n",
       "term                        0\n",
       "total_acc                   0\n",
       "verification_status         0\n",
       "paid_months                 0\n",
       "fico_score                  0\n",
       "dtype: int64"
      ]
     },
     "execution_count": 47,
     "metadata": {},
     "output_type": "execute_result"
    }
   ],
   "source": []
  },
  {
   "cell_type": "markdown",
   "metadata": {},
   "source": [
    "## 3. Creating Dummy Variables"
   ]
  },
  {
   "cell_type": "code",
   "execution_count": 59,
   "metadata": {},
   "outputs": [],
   "source": [
    "loans = pd.get_dummies(loans, columns=['sub_grade', 'home_ownership', 'verification_status',\n",
    "                                       'purpose', 'addr_state', 'initial_list_status', 'application_type'],\n",
    "                       drop_first=True)"
   ]
  },
  {
   "cell_type": "code",
   "execution_count": 60,
   "metadata": {
    "scrolled": false
   },
   "outputs": [
    {
     "data": {
      "text/plain": [
       "(1294684, 123)"
      ]
     },
     "execution_count": 60,
     "metadata": {},
     "output_type": "execute_result"
    }
   ],
   "source": [
    "loans.shape"
   ]
  },
  {
   "cell_type": "code",
   "execution_count": 61,
   "metadata": {},
   "outputs": [
    {
     "data": {
      "text/plain": [
       "annual_inc                    0\n",
       "dti                           0\n",
       "earliest_cr_line              0\n",
       "emp_length                    0\n",
       "installment                   0\n",
       "                             ..\n",
       "addr_state_WI                 0\n",
       "addr_state_WV                 0\n",
       "addr_state_WY                 0\n",
       "initial_list_status_w         0\n",
       "application_type_Joint App    0\n",
       "Length: 123, dtype: int64"
      ]
     },
     "execution_count": 61,
     "metadata": {},
     "output_type": "execute_result"
    }
   ],
   "source": [
    "loans.isna().sum()"
   ]
  },
  {
   "cell_type": "markdown",
   "metadata": {},
   "source": [
    "## 4. Train/Test Split"
   ]
  },
  {
   "cell_type": "code",
   "execution_count": 62,
   "metadata": {},
   "outputs": [],
   "source": [
    "#running random forest before dummifying categorical columns\n",
    "from sklearn.model_selection import train_test_split\n",
    "from sklearn.ensemble import RandomForestClassifier\n",
    "from sklearn import metrics\n"
   ]
  },
  {
   "cell_type": "code",
   "execution_count": 63,
   "metadata": {},
   "outputs": [],
   "source": [
    "loans.emp_length.fillna(5, inplace=True)"
   ]
  },
  {
   "cell_type": "code",
   "execution_count": 64,
   "metadata": {},
   "outputs": [],
   "source": [
    "loans = loans.dropna()"
   ]
  },
  {
   "cell_type": "code",
   "execution_count": 65,
   "metadata": {},
   "outputs": [],
   "source": [
    "X = loans.drop('loan_status', axis=1)\n",
    "Y = loans['loan_status']"
   ]
  },
  {
   "cell_type": "code",
   "execution_count": 66,
   "metadata": {},
   "outputs": [],
   "source": [
    "X_train, X_test, Y_train, Y_test = train_test_split(X, Y, test_size=0.3, random_state=42)"
   ]
  },
  {
   "cell_type": "code",
   "execution_count": 55,
   "metadata": {},
   "outputs": [],
   "source": [
    "from imblearn.over_sampling import SMOTE\n",
    "sm = SMOTE(random_state = 2) \n",
    "X_train_res, Y_train_res = sm.fit_sample(X_train, Y_train.ravel())"
   ]
  },
  {
   "cell_type": "markdown",
   "metadata": {},
   "source": [
    "## Random Forest Classifier"
   ]
  },
  {
   "cell_type": "code",
   "execution_count": 67,
   "metadata": {
    "scrolled": true
   },
   "outputs": [
    {
     "data": {
      "text/plain": [
       "RandomForestClassifier(bootstrap=True, ccp_alpha=0.0, class_weight='balanced',\n",
       "                       criterion='gini', max_depth=2, max_features='auto',\n",
       "                       max_leaf_nodes=None, max_samples=None,\n",
       "                       min_impurity_decrease=0.0, min_impurity_split=None,\n",
       "                       min_samples_leaf=1, min_samples_split=2,\n",
       "                       min_weight_fraction_leaf=0.0, n_estimators=100,\n",
       "                       n_jobs=None, oob_score=False, random_state=0, verbose=0,\n",
       "                       warm_start=False)"
      ]
     },
     "execution_count": 67,
     "metadata": {},
     "output_type": "execute_result"
    }
   ],
   "source": [
    "clf = RandomForestClassifier(max_depth=2, random_state=0, class_weight='balanced')\n",
    "clf.fit(X_train, Y_train)\n"
   ]
  },
  {
   "cell_type": "code",
   "execution_count": 68,
   "metadata": {},
   "outputs": [],
   "source": [
    "y_pred=clf.predict(X_test)"
   ]
  },
  {
   "cell_type": "code",
   "execution_count": 69,
   "metadata": {},
   "outputs": [
    {
     "data": {
      "text/plain": [
       "0.6540432405950491"
      ]
     },
     "execution_count": 69,
     "metadata": {},
     "output_type": "execute_result"
    }
   ],
   "source": [
    "clf.score(X_train, Y_train)"
   ]
  },
  {
   "cell_type": "code",
   "execution_count": 70,
   "metadata": {},
   "outputs": [
    {
     "name": "stdout",
     "output_type": "stream",
     "text": [
      "Accuracy: 0.654173725431636\n"
     ]
    }
   ],
   "source": [
    "print(\"Accuracy:\",metrics.accuracy_score(Y_test, y_pred))"
   ]
  },
  {
   "cell_type": "code",
   "execution_count": 71,
   "metadata": {},
   "outputs": [
    {
     "name": "stdout",
     "output_type": "stream",
     "text": [
      "Accuracy of Random Forest classifier on test set: 0.654\n"
     ]
    }
   ],
   "source": [
    "Y_pred = clf.predict(X_test)\n",
    "print('Accuracy of Random Forest classifier on test set: {:.3f}'.format(clf.score(X_test, Y_test)))"
   ]
  },
  {
   "cell_type": "code",
   "execution_count": 72,
   "metadata": {},
   "outputs": [
    {
     "name": "stdout",
     "output_type": "stream",
     "text": [
      "[[ 56098  22059]\n",
      " [112262 197987]]\n"
     ]
    }
   ],
   "source": [
    "from sklearn.metrics import confusion_matrix\n",
    "confusion_matrix = confusion_matrix(Y_test, Y_pred)\n",
    "print(confusion_matrix)\n",
    "#89% precision"
   ]
  },
  {
   "cell_type": "code",
   "execution_count": 60,
   "metadata": {},
   "outputs": [
    {
     "name": "stdout",
     "output_type": "stream",
     "text": [
      "[[ 47144  31013]\n",
      " [ 86873 223376]]\n"
     ]
    }
   ],
   "source": [
    "from sklearn.metrics import confusion_matrix\n",
    "confusion_matrix = confusion_matrix(Y_test, y_pred)\n",
    "print(confusion_matrix)\n",
    "#the True positive over True/False Positive is important \n",
    "\n"
   ]
  },
  {
   "cell_type": "code",
   "execution_count": 59,
   "metadata": {},
   "outputs": [],
   "source": [
    "from sklearn.pipeline import Pipeline\n",
    "from sklearn.preprocessing import Imputer, StandardScaler\n",
    "from sklearn.discriminant_analysis import LinearDiscriminantAnalysis\n",
    "from sklearn.model_selection import GridSearchCV\n"
   ]
  },
  {
   "cell_type": "code",
   "execution_count": 60,
   "metadata": {},
   "outputs": [],
   "source": [
    "from sklearn.linear_model import SGDClassifier\n"
   ]
  },
  {
   "cell_type": "code",
   "execution_count": 64,
   "metadata": {},
   "outputs": [
    {
     "data": {
      "text/plain": [
       "(1294684, 123)"
      ]
     },
     "execution_count": 64,
     "metadata": {},
     "output_type": "execute_result"
    }
   ],
   "source": [
    "loans.shape"
   ]
  },
  {
   "cell_type": "code",
   "execution_count": 393,
   "metadata": {},
   "outputs": [
    {
     "data": {
      "text/plain": [
       "(1218136, 123)"
      ]
     },
     "execution_count": 393,
     "metadata": {},
     "output_type": "execute_result"
    }
   ],
   "source": [
    "loans.shape"
   ]
  },
  {
   "cell_type": "code",
   "execution_count": 443,
   "metadata": {
    "scrolled": true
   },
   "outputs": [],
   "source": [
    "loans1 = loans.drop('paid_months',axis=1)"
   ]
  },
  {
   "cell_type": "code",
   "execution_count": 444,
   "metadata": {},
   "outputs": [
    {
     "data": {
      "text/plain": [
       "(1218136, 122)"
      ]
     },
     "execution_count": 444,
     "metadata": {},
     "output_type": "execute_result"
    }
   ],
   "source": [
    "loans1.shape"
   ]
  },
  {
   "cell_type": "markdown",
   "metadata": {},
   "source": [
    "## Logistic Regression"
   ]
  },
  {
   "cell_type": "code",
   "execution_count": 88,
   "metadata": {},
   "outputs": [
    {
     "data": {
      "text/plain": [
       "(1294684, 122)"
      ]
     },
     "execution_count": 88,
     "metadata": {},
     "output_type": "execute_result"
    }
   ],
   "source": [
    "X.shape"
   ]
  },
  {
   "cell_type": "code",
   "execution_count": 90,
   "metadata": {},
   "outputs": [
    {
     "data": {
      "text/plain": [
       "0          1\n",
       "1          1\n",
       "2          1\n",
       "4          1\n",
       "5          1\n",
       "          ..\n",
       "2260688    1\n",
       "2260690    1\n",
       "2260691    0\n",
       "2260692    1\n",
       "2260697    0\n",
       "Name: loan_status, Length: 1294684, dtype: int64"
      ]
     },
     "execution_count": 90,
     "metadata": {},
     "output_type": "execute_result"
    }
   ],
   "source": [
    "Y"
   ]
  },
  {
   "cell_type": "code",
   "execution_count": 70,
   "metadata": {},
   "outputs": [],
   "source": [
    "from sklearn.feature_selection import RFE\n",
    "from sklearn.linear_model import LogisticRegression"
   ]
  },
  {
   "cell_type": "code",
   "execution_count": 71,
   "metadata": {},
   "outputs": [
    {
     "data": {
      "text/plain": [
       "{'C': 1.0,\n",
       " 'class_weight': None,\n",
       " 'dual': False,\n",
       " 'fit_intercept': True,\n",
       " 'intercept_scaling': 1,\n",
       " 'l1_ratio': None,\n",
       " 'max_iter': 100,\n",
       " 'multi_class': 'auto',\n",
       " 'n_jobs': None,\n",
       " 'penalty': 'l2',\n",
       " 'random_state': None,\n",
       " 'solver': 'lbfgs',\n",
       " 'tol': 0.0001,\n",
       " 'verbose': 0,\n",
       " 'warm_start': False}"
      ]
     },
     "execution_count": 71,
     "metadata": {},
     "output_type": "execute_result"
    }
   ],
   "source": [
    "LogisticRegression().get_params()"
   ]
  },
  {
   "cell_type": "code",
   "execution_count": 100,
   "metadata": {},
   "outputs": [
    {
     "name": "stderr",
     "output_type": "stream",
     "text": [
      "/Users/jameskim/opt/anaconda3/lib/python3.7/site-packages/sklearn/linear_model/_logistic.py:939: ConvergenceWarning: lbfgs failed to converge (status=1):\n",
      "STOP: TOTAL NO. of ITERATIONS REACHED LIMIT.\n",
      "\n",
      "Increase the number of iterations (max_iter) or scale the data as shown in:\n",
      "    https://scikit-learn.org/stable/modules/preprocessing.html.\n",
      "Please also refer to the documentation for alternative solver options:\n",
      "    https://scikit-learn.org/stable/modules/linear_model.html#logistic-regression\n",
      "  extra_warning_msg=_LOGISTIC_SOLVER_CONVERGENCE_MSG)\n"
     ]
    },
    {
     "data": {
      "text/plain": [
       "LogisticRegression(C=1, class_weight='balanced', dual=False, fit_intercept=True,\n",
       "                   intercept_scaling=1, l1_ratio=None, max_iter=100,\n",
       "                   multi_class='auto', n_jobs=None, penalty='l2',\n",
       "                   random_state=None, solver='lbfgs', tol=0.0001, verbose=0,\n",
       "                   warm_start=False)"
      ]
     },
     "execution_count": 100,
     "metadata": {},
     "output_type": "execute_result"
    }
   ],
   "source": [
    "X3_train, X3_test, Y3_train, Y3_test = train_test_split(X, Y, test_size=0.3, random_state=42)\n",
    "logreg = LogisticRegression(C=1,class_weight='balanced')\n",
    "logreg.fit(X3_train, Y3_train)\n"
   ]
  },
  {
   "cell_type": "code",
   "execution_count": 101,
   "metadata": {},
   "outputs": [
    {
     "name": "stdout",
     "output_type": "stream",
     "text": [
      "Accuracy of logistic regression classifier on test set: 0.662\n"
     ]
    }
   ],
   "source": [
    "Y_pred = logreg.predict(X3_test)\n",
    "print('Accuracy of logistic regression classifier on test set: {:.3f}'.format(logreg.score(X3_test, Y3_test)))"
   ]
  },
  {
   "cell_type": "code",
   "execution_count": 102,
   "metadata": {},
   "outputs": [
    {
     "name": "stdout",
     "output_type": "stream",
     "text": [
      "[[ 53317  24840]\n",
      " [106538 203711]]\n"
     ]
    }
   ],
   "source": [
    "from sklearn.metrics import confusion_matrix\n",
    "confusion_matrix = confusion_matrix(Y3_test, Y_pred)\n",
    "print(confusion_matrix)"
   ]
  },
  {
   "cell_type": "code",
   "execution_count": 71,
   "metadata": {},
   "outputs": [],
   "source": [
    "from sklearn.neighbors import KNeighborsClassifier\n"
   ]
  },
  {
   "cell_type": "code",
   "execution_count": 85,
   "metadata": {},
   "outputs": [],
   "source": [
    "kne = KNeighborsClassifier()"
   ]
  },
  {
   "cell_type": "code",
   "execution_count": 86,
   "metadata": {},
   "outputs": [
    {
     "data": {
      "text/plain": [
       "KNeighborsClassifier(algorithm='auto', leaf_size=30, metric='minkowski',\n",
       "                     metric_params=None, n_jobs=None, n_neighbors=5, p=2,\n",
       "                     weights='uniform')"
      ]
     },
     "execution_count": 86,
     "metadata": {},
     "output_type": "execute_result"
    }
   ],
   "source": [
    "kne.fit(X_train, Y_train)"
   ]
  },
  {
   "cell_type": "code",
   "execution_count": 88,
   "metadata": {},
   "outputs": [
    {
     "data": {
      "text/plain": [
       "0.8319367787809039"
      ]
     },
     "execution_count": 88,
     "metadata": {},
     "output_type": "execute_result"
    }
   ],
   "source": [
    "kne.score(X_train,Y_train)"
   ]
  },
  {
   "cell_type": "code",
   "execution_count": 89,
   "metadata": {},
   "outputs": [
    {
     "name": "stdout",
     "output_type": "stream",
     "text": [
      "Accuracy of logistic regression classifier on test set: 0.773\n"
     ]
    }
   ],
   "source": [
    "Y1_pred = kne.predict(X_test)\n",
    "print('Accuracy of logistic regression classifier on test set: {:.3f}'.format(kne.score(X_test, Y_test)))"
   ]
  },
  {
   "cell_type": "code",
   "execution_count": 92,
   "metadata": {},
   "outputs": [
    {
     "name": "stdout",
     "output_type": "stream",
     "text": [
      "[[ 12700  65457]\n",
      " [ 22618 287631]]\n"
     ]
    }
   ],
   "source": [
    "from sklearn.metrics import confusion_matrix\n",
    "confusion_matrix = confusion_matrix(Y_test, Y1_pred)\n",
    "print(confusion_matrix)"
   ]
  },
  {
   "cell_type": "markdown",
   "metadata": {},
   "source": [
    "## Neural Network using Keras"
   ]
  },
  {
   "cell_type": "code",
   "execution_count": 93,
   "metadata": {},
   "outputs": [
    {
     "name": "stderr",
     "output_type": "stream",
     "text": [
      "Using TensorFlow backend.\n"
     ]
    }
   ],
   "source": [
    "from numpy import loadtxt\n",
    "from keras.models import Sequential\n",
    "from keras.layers import Dense"
   ]
  },
  {
   "cell_type": "code",
   "execution_count": 135,
   "metadata": {},
   "outputs": [],
   "source": [
    "# define the keras model\n",
    "model = Sequential()\n",
    "model.add(Dense(10, input_dim=122, activation='sigmoid'))\n",
    "model.add(Dense(10, activation='sigmoid'))\n",
    "model.add(Dense(5, activation='sigmoid'))\n",
    "model.add(Dense(3, activation='sigmoid'))\n",
    "model.add(Dense(1, activation='sigmoid'))"
   ]
  },
  {
   "cell_type": "code",
   "execution_count": 136,
   "metadata": {},
   "outputs": [],
   "source": [
    "...\n",
    "# compile the keras model\n",
    "model.compile(loss='binary_crossentropy', optimizer='adam', metrics=['accuracy'])"
   ]
  },
  {
   "cell_type": "code",
   "execution_count": 137,
   "metadata": {},
   "outputs": [
    {
     "name": "stdout",
     "output_type": "stream",
     "text": [
      "Epoch 1/10\n",
      "906278/906278 [==============================] - 10s 11us/step - loss: 0.4988 - accuracy: 0.8002\n",
      "Epoch 2/10\n",
      "906278/906278 [==============================] - 10s 11us/step - loss: 0.4958 - accuracy: 0.8002\n",
      "Epoch 3/10\n",
      "906278/906278 [==============================] - 10s 11us/step - loss: 0.4925 - accuracy: 0.8002\n",
      "Epoch 4/10\n",
      "906278/906278 [==============================] - 10s 11us/step - loss: 0.4921 - accuracy: 0.8002\n",
      "Epoch 5/10\n",
      "906278/906278 [==============================] - 10s 11us/step - loss: 0.4926 - accuracy: 0.8002\n",
      "Epoch 6/10\n",
      "906278/906278 [==============================] - 9s 10us/step - loss: 0.4916 - accuracy: 0.8002\n",
      "Epoch 7/10\n",
      "906278/906278 [==============================] - 10s 11us/step - loss: 0.4924 - accuracy: 0.8002\n",
      "Epoch 8/10\n",
      "906278/906278 [==============================] - 9s 10us/step - loss: 0.4990 - accuracy: 0.8002\n",
      "Epoch 9/10\n",
      "906278/906278 [==============================] - 10s 11us/step - loss: 0.4927 - accuracy: 0.8002\n",
      "Epoch 10/10\n",
      "906278/906278 [==============================] - 10s 11us/step - loss: 0.4971 - accuracy: 0.8002\n"
     ]
    },
    {
     "data": {
      "text/plain": [
       "<keras.callbacks.callbacks.History at 0x1a8c7c1610>"
      ]
     },
     "execution_count": 137,
     "metadata": {},
     "output_type": "execute_result"
    }
   ],
   "source": [
    "# fit the keras model on the dataset\n",
    "model.fit(X_train, Y_train, epochs=10, batch_size=200)"
   ]
  },
  {
   "cell_type": "code",
   "execution_count": 138,
   "metadata": {},
   "outputs": [
    {
     "name": "stdout",
     "output_type": "stream",
     "text": [
      "906278/906278 [==============================] - 9s 10us/step\n",
      "Accuracy: 80.02\n"
     ]
    }
   ],
   "source": [
    "# evaluate the keras model\n",
    "_, accuracy = model.evaluate(X_train, Y_train)\n",
    "print('Accuracy: %.2f' % (accuracy*100))"
   ]
  },
  {
   "cell_type": "code",
   "execution_count": 139,
   "metadata": {},
   "outputs": [],
   "source": [
    "Y2_pred = model.predict_classes(X_test)"
   ]
  },
  {
   "cell_type": "code",
   "execution_count": 114,
   "metadata": {},
   "outputs": [
    {
     "name": "stdout",
     "output_type": "stream",
     "text": [
      "X=         annual_inc    dti  earliest_cr_line  emp_length  installment  \\\n",
      "1823815     70000.0  15.86              1992         5.0       337.19   \n",
      "1835593     42000.0  21.86              2004         3.0       492.43   \n",
      "373510     125000.0  27.16              1989        10.0       785.49   \n",
      "1719040     60000.0  19.33              2008         5.0       361.48   \n",
      "1170722     50000.0  20.60              1998         5.0       206.76   \n",
      "...             ...    ...               ...         ...          ...   \n",
      "1681213     83283.0  19.91              2002        10.0      1187.57   \n",
      "541602      72000.0  22.20              1994         5.0       597.95   \n",
      "562359     120000.0  14.24              1998         7.0       361.38   \n",
      "1449984     85000.0  17.10              2005        10.0       495.58   \n",
      "1095331     90000.0   9.88              2008         2.0       672.84   \n",
      "\n",
      "         int_rate  loan_amnt  mort_acc  open_acc  pub_rec  ...  addr_state_TX  \\\n",
      "1823815     13.05    10000.0       3.0      11.0      0.0  ...              0   \n",
      "1835593     12.12    14800.0       0.0      11.0      0.0  ...              0   \n",
      "373510       8.18    25000.0       3.0      25.0      0.0  ...              0   \n",
      "1719040     17.99    10000.0       0.0       8.0      0.0  ...              0   \n",
      "1170722     16.99     5800.0       0.0      10.0      0.0  ...              0   \n",
      "...           ...        ...       ...       ...      ...  ...            ...   \n",
      "1681213     13.49    35000.0       0.0       9.0      1.0  ...              0   \n",
      "541602      22.91    21250.0       1.0      11.0      0.0  ...              0   \n",
      "562359       5.32    12000.0       2.0      16.0      0.0  ...              0   \n",
      "1449984      7.21    16000.0       1.0       8.0      1.0  ...              0   \n",
      "1095331     15.77    19200.0       0.0      14.0      1.0  ...              0   \n",
      "\n",
      "         addr_state_UT  addr_state_VA  addr_state_VT  addr_state_WA  \\\n",
      "1823815              0              0              0              0   \n",
      "1835593              0              0              0              0   \n",
      "373510               0              0              0              0   \n",
      "1719040              0              0              0              0   \n",
      "1170722              0              0              0              0   \n",
      "...                ...            ...            ...            ...   \n",
      "1681213              0              0              0              0   \n",
      "541602               0              0              0              0   \n",
      "562359               0              0              0              0   \n",
      "1449984              0              0              0              1   \n",
      "1095331              0              0              0              0   \n",
      "\n",
      "         addr_state_WI  addr_state_WV  addr_state_WY  initial_list_status_w  \\\n",
      "1823815              0              0              0                      0   \n",
      "1835593              0              0              0                      1   \n",
      "373510               0              0              0                      0   \n",
      "1719040              0              0              0                      0   \n",
      "1170722              0              0              0                      1   \n",
      "...                ...            ...            ...                    ...   \n",
      "1681213              0              0              0                      1   \n",
      "541602               0              0              0                      1   \n",
      "562359               0              0              0                      0   \n",
      "1449984              0              0              0                      1   \n",
      "1095331              0              0              0                      1   \n",
      "\n",
      "         application_type_Joint App  \n",
      "1823815                           0  \n",
      "1835593                           0  \n",
      "373510                            0  \n",
      "1719040                           0  \n",
      "1170722                           0  \n",
      "...                             ...  \n",
      "1681213                           0  \n",
      "541602                            0  \n",
      "562359                            0  \n",
      "1449984                           0  \n",
      "1095331                           0  \n",
      "\n",
      "[388406 rows x 122 columns], Predicted=[[1]\n",
      " [1]\n",
      " [1]\n",
      " ...\n",
      " [1]\n",
      " [1]\n",
      " [1]]\n"
     ]
    }
   ],
   "source": [
    "print(\"X=%s, Predicted=%s\" % (X_test, Y2_pred))"
   ]
  },
  {
   "cell_type": "code",
   "execution_count": 148,
   "metadata": {},
   "outputs": [
    {
     "name": "stdout",
     "output_type": "stream",
     "text": [
      "[[ 12700  65457]\n",
      " [ 22618 287631]]\n"
     ]
    }
   ],
   "source": [
    "from sklearn.metrics import confusion_matrix\n",
    "confusion_matrix = confusion_matrix(Y_test, Y1_pred)\n",
    "print(confusion_matrix)"
   ]
  },
  {
   "cell_type": "code",
   "execution_count": 149,
   "metadata": {},
   "outputs": [
    {
     "name": "stdout",
     "output_type": "stream",
     "text": [
      "[[     0  78157]\n",
      " [     0 310249]]\n"
     ]
    }
   ],
   "source": [
    "from sklearn.metrics import confusion_matrix\n",
    "confusion_matrix = confusion_matrix(Y_test, Y2_pred)\n",
    "print(confusion_matrix)"
   ]
  },
  {
   "cell_type": "code",
   "execution_count": null,
   "metadata": {},
   "outputs": [],
   "source": []
  }
 ],
 "metadata": {
  "kernelspec": {
   "display_name": "Python 3",
   "language": "python",
   "name": "python3"
  },
  "language_info": {
   "codemirror_mode": {
    "name": "ipython",
    "version": 3
   },
   "file_extension": ".py",
   "mimetype": "text/x-python",
   "name": "python",
   "nbconvert_exporter": "python",
   "pygments_lexer": "ipython3",
   "version": "3.7.4"
  }
 },
 "nbformat": 4,
 "nbformat_minor": 2
}
