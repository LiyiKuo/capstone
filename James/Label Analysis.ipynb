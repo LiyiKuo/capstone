{
 "cells": [
  {
   "cell_type": "code",
   "execution_count": 3,
   "metadata": {},
   "outputs": [],
   "source": [
    "import numpy as np\n",
    "import pandas as pd\n",
    "\n",
    "pd.options.display.max_columns = None\n",
    "pd.options.display.max_rows = 100\n",
    "\n",
    "import seaborn as sns\n",
    "sns.set(style=\"whitegrid\")\n",
    "import plotly.graph_objects as go\n",
    "import matplotlib.pyplot as plt\n",
    "import matplotlib as matplotlib\n",
    "%matplotlib inline"
   ]
  },
  {
   "cell_type": "code",
   "execution_count": 6,
   "metadata": {},
   "outputs": [],
   "source": [
    "# Read files \n",
    "\n",
    "df_raw_accepted = pd.read_csv('accepted_2007_to_2018Q4.csv')\n",
    "# sample_accepted = pd.read_csv('sample_accepted.csv')\n",
    "# df_processed = sample_accepted.copy()\n",
    "df_processed = df_raw_accepted.sample(10000)"
   ]
  },
  {
   "cell_type": "code",
   "execution_count": null,
   "metadata": {},
   "outputs": [],
   "source": [
    "# Add Labels - \"charged off + default\", \"settlement involved\", \"hardship\" \n",
    "\n",
    "label_list = ['label_hardship','label_chargedoff_default','label_settlement', 'loan_status' ]\n",
    "chargedoff_default_list = ['Charged Off','Default', 'Does not meet the credit policy. Status:Charged Off']\n",
    "\n",
    "df_processed['label_hardship'] = df_processed['hardship_status'].apply(lambda x: 0 if x  is np.nan else 1)\n",
    "df_processed['label_chargedoff_default'] = df_processed['loan_status'].apply(lambda x: 1 if x in chargedoff_default_list else 0)\n",
    "df_processed['label_settlement'] = df_processed['settlement_status'].apply(lambda x: 0 if x  is np.nan else 1)"
   ]
  },
  {
   "cell_type": "code",
   "execution_count": null,
   "metadata": {},
   "outputs": [],
   "source": [
    "df_label = df_processed[label_list].copy()\n",
    "\n",
    "late_list = ['Late (31-120 days)', 'In Grace Period', 'Late (16-30 days)'] \n",
    "paid_list = ['Fully Paid', 'Does not meet the credit policy. Status:Fully Paid']\n",
    "\n",
    "df_label['loan_status'] = df_label['loan_status'].apply(lambda x: 'Late' if x in late_list else x)\n",
    "df_label['loan_status'] = df_label['loan_status'].apply(lambda x: 'Fully Paid' if x in paid_list else x)\n",
    "df_label['loan_status'] = df_label['loan_status'].apply(lambda x: 'Charged Off' if x in chargedoff_default_list else x)\n",
    "df_label['total_label'] = df_label['label_hardship'] + df_label['label_chargedoff_default'] + df_label['label_settlement']\n",
    "\n",
    "df_label.sample(10)"
   ]
  },
  {
   "cell_type": "code",
   "execution_count": null,
   "metadata": {},
   "outputs": [],
   "source": [
    "df_label.groupby(['total_label', 'label_hardship', 'label_settlement' , 'label_chargedoff_default']).agg({'total_label': 'count'})"
   ]
  },
  {
   "cell_type": "code",
   "execution_count": null,
   "metadata": {},
   "outputs": [],
   "source": [
    "df_settlement = df_label.loc[df_label['label_settlement'] == 1].groupby('loan_status').size().reset_index(name='counts')\n",
    "df_settlement"
   ]
  },
  {
   "cell_type": "code",
   "execution_count": null,
   "metadata": {},
   "outputs": [],
   "source": [
    "settlement_chargedoff = df_settlement.loc[df_settlement['loan_status']=='Charged Off','counts'].iloc[0]\n",
    "settlement_late = df_settlement.loc[df_settlement['loan_status']=='Late','counts'].iloc[0]\n",
    "settlement_current = df_settlement.loc[df_settlement['loan_status']=='Current','counts'].iloc[0]\n",
    "settlement_fully_paid = df_settlement.loc[df_settlement['loan_status']=='Fully Paid','counts'].iloc[0]"
   ]
  },
  {
   "cell_type": "code",
   "execution_count": null,
   "metadata": {},
   "outputs": [],
   "source": [
    "df_hardship = df_label.loc[df_label['label_hardship'] == 1].groupby('loan_status').size().reset_index(name='counts')\n",
    "df_hardship"
   ]
  },
  {
   "cell_type": "code",
   "execution_count": null,
   "metadata": {},
   "outputs": [],
   "source": [
    "hardship_chargedoff = df_hardship.loc[df_hardship['loan_status']=='Charged Off','counts'].iloc[0]\n",
    "hardship_late = df_hardship.loc[df_hardship['loan_status']=='Late','counts'].iloc[0]\n",
    "hardship_current = df_hardshipt.loc[df_hardship['loan_status']=='Current','counts'].iloc[0]\n",
    "hardship_fully_paid = df_hardship.loc[df_hardship['loan_status']=='Fully Paid','counts'].iloc[0]"
   ]
  },
  {
   "cell_type": "code",
   "execution_count": null,
   "metadata": {},
   "outputs": [],
   "source": [
    "df_chargedoff = df_label.loc[df_label['label_chargedoff_default'] == 1].groupby('loan_status').size().reset_index(name='counts')\n",
    "df_chargedoff"
   ]
  },
  {
   "cell_type": "code",
   "execution_count": 78,
   "metadata": {},
   "outputs": [],
   "source": [
    "chargedoff = df_chargedoff.loc[df_chargedoff['loan_status']=='Charged Off','counts'].iloc[0]"
   ]
  },
  {
   "cell_type": "markdown",
   "metadata": {},
   "source": [
    "## Graphs \n",
    "\n",
    "- Link: https://plot.ly/python/sunburst-charts/"
   ]
  },
  {
   "cell_type": "code",
   "execution_count": null,
   "metadata": {},
   "outputs": [],
   "source": [
    "# import plotly.graph_objects as go\n",
    "\n",
    "\n",
    "# fig =go.Figure(go.Sunburst(\n",
    "#     labels=[\"Charged Off\", \"Current\", \"Late\", \"Hardship\", \"Hardship\", \"Hardship\",\"Settlement\",\"Settlement\"],\n",
    "#     parents=[\"Total\", \"Total\", \"Total\", \"Charged Off\", \"Current\", \"Late\", \"Charged Off\", \"Late\" ],\n",
    "#     values=[980, 235, 743, 42, 5, 1, 3, 32, 1],\n",
    "# ))\n",
    "# fig.update_layout(margin = dict(t=0, l=0, r=0, b=0))\n",
    "\n",
    "# fig.show()"
   ]
  },
  {
   "cell_type": "code",
   "execution_count": null,
   "metadata": {},
   "outputs": [],
   "source": [
    "# import plotly.graph_objects as go\n",
    "# from plotly.subplots import make_subplots\n",
    "# import pandas as pd\n",
    "\n",
    "# df = pd.read_csv('https://raw.githubusercontent.com/plotly/datasets/master/sales_success.csv')\n",
    "# print(df.head())\n",
    "\n",
    "# levels = ['salesperson', 'county', 'region'] # levels used for the hierarchical chart\n",
    "# color_columns = ['sales', 'calls']\n",
    "# value_column = 'calls'\n",
    "\n",
    "# def build_hierarchical_dataframe(df, levels, value_column, color_columns=None):\n",
    "#     \"\"\"\n",
    "#     Build a hierarchy of levels for Sunburst or Treemap charts.\n",
    "\n",
    "#     Levels are given starting from the bottom to the top of the hierarchy, \n",
    "#     ie the last level corresponds to the root.\n",
    "#     \"\"\"\n",
    "#     df_all_trees = pd.DataFrame(columns=['id', 'parent', 'value', 'color'])\n",
    "#     for i, level in enumerate(levels):\n",
    "#         df_tree = pd.DataFrame(columns=['id', 'parent', 'value', 'color'])\n",
    "#         dfg = df.groupby(levels[i:]).sum(numerical_only=True)\n",
    "#         dfg = dfg.reset_index()\n",
    "#         df_tree['id'] = dfg[level].copy()\n",
    "#         if i < len(levels) - 1:\n",
    "#             df_tree['parent'] = dfg[levels[i+1]].copy()\n",
    "#         else:\n",
    "#             df_tree['parent'] = 'total'\n",
    "#         df_tree['value'] = dfg[value_column]\n",
    "#         df_tree['color'] = dfg[color_columns[0]] / dfg[color_columns[1]]\n",
    "#         df_all_trees = df_all_trees.append(df_tree, ignore_index=True)\n",
    "#     total = pd.Series(dict(id='total', parent='', \n",
    "#                               value=df[value_column].sum(),\n",
    "#                               color=df[color_columns[0]].sum() / df[color_columns[1]].sum()))\n",
    "#     df_all_trees = df_all_trees.append(total, ignore_index=True)\n",
    "#     return df_all_trees\n",
    "\n",
    "\n",
    "# df_all_trees = build_hierarchical_dataframe(df, levels, value_column, color_columns)\n",
    "# average_score = df['sales'].sum() / df['calls'].sum()\n",
    "\n",
    "# fig = make_subplots(1, 2, specs=[[{\"type\": \"domain\"}, {\"type\": \"domain\"}]],)\n",
    "    \n",
    "# fig.add_trace(go.Sunburst(\n",
    "#     labels=df_all_trees['id'],\n",
    "#     parents=df_all_trees['parent'],\n",
    "#     values=df_all_trees['value'],\n",
    "#     branchvalues='total',\n",
    "#     marker=dict(\n",
    "#         colors=df_all_trees['color'],\n",
    "# #         colorscale='RdBu',\n",
    "#         cmid=average_score\n",
    "#     ),\n",
    "#     hovertemplate='<b>%{label} </b> <br> Sales: %{value}<br> Success rate: %{color:.2f}',\n",
    "#     name=''\n",
    "#     ), 1, 1)\n",
    "\n",
    "# fig.add_trace(go.Sunburst(\n",
    "#     labels=df_all_trees['id'],\n",
    "#     parents=df_all_trees['parent'],\n",
    "#     values=df_all_trees['value'],\n",
    "#     branchvalues='total',\n",
    "#     marker=dict(\n",
    "#         colors=df_all_trees['color'],\n",
    "# #         colorscale='RdBu',\n",
    "#         cmid=average_score\n",
    "#     ),\n",
    "#     hovertemplate='<b>%{label} </b> <br> Sales: %{value}<br> Success rate: %{color:.2f}',\n",
    "#     maxdepth=2\n",
    "#     ), 1, 2)\n",
    "\n",
    "# fig.update_layout(margin=dict(t=10, b=10, r=10, l=10))\n",
    "# fig.show()"
   ]
  },
  {
   "cell_type": "code",
   "execution_count": null,
   "metadata": {},
   "outputs": [],
   "source": []
  }
 ],
 "metadata": {
  "kernelspec": {
   "display_name": "Python 3",
   "language": "python",
   "name": "python3"
  },
  "language_info": {
   "codemirror_mode": {
    "name": "ipython",
    "version": 3
   },
   "file_extension": ".py",
   "mimetype": "text/x-python",
   "name": "python",
   "nbconvert_exporter": "python",
   "pygments_lexer": "ipython3",
   "version": "3.7.4"
  }
 },
 "nbformat": 4,
 "nbformat_minor": 2
}
