{
 "cells": [
  {
   "cell_type": "code",
   "execution_count": 530,
   "metadata": {},
   "outputs": [],
   "source": [
    "import numpy as np\n",
    "import pandas as pd\n",
    "import datetime\n",
    "import os\n",
    "import seaborn as sns\n",
    "import matplotlib.pyplot as plt\n",
    "from patsy import dmatrices, dmatrix\n",
    "import re\n",
    "import pickle\n",
    "from sklearn.model_selection import train_test_split\n",
    "from sklearn.model_selection import StratifiedShuffleSplit\n",
    "from sklearn.preprocessing import StandardScaler\n",
    "from sklearn.neighbors import KNeighborsClassifier\n",
    "from sklearn.model_selection import GridSearchCV\n",
    "from sklearn import linear_model\n",
    "from sklearn import svm\n",
    "from sklearn.naive_bayes import GaussianNB\n",
    "from sklearn.ensemble import RandomForestClassifier\n",
    "import sklearn.metrics as metrics\n",
    "import numpy as np\n",
    "from sklearn.neural_network import MLPClassifier\n",
    "from sklearn.ensemble import BaggingClassifier\n",
    "from sklearn.ensemble import GradientBoostingClassifier\n",
    "\n",
    "os.getcwd() \n",
    "os.chdir(\"/Users/macbook/Downloads/lending-club\")\n",
    "accepted = pd.read_csv('accepted_2007_to_2018Q4.csv')\n",
    "\n",
    "pd.set_option('display.max_columns', 500)\n",
    "pd.set_option('display.width', 1000)\n",
    "\n",
    "# sample = accepted.sample(20)\n",
    "# print(sample.head(5))"
   ]
  },
  {
   "cell_type": "code",
   "execution_count": 531,
   "metadata": {},
   "outputs": [],
   "source": [
    "# convert to Datetime\n",
    "\n",
    "accepted['issue_d'] = pd.to_datetime(accepted['issue_d'])\n",
    "accepted['last_pymnt_d'] = pd.to_datetime(accepted['last_pymnt_d'])\n",
    "accepted['last_credit_pull_d'] = pd.to_datetime(accepted['last_credit_pull_d'])\n",
    "accepted['next_pymnt_d'] = pd.to_datetime(accepted['next_pymnt_d'])\n",
    "accepted['debt_settlement_flag_date'] = pd.to_datetime(accepted['debt_settlement_flag_date'])\n",
    "accepted['settlement_date'] = pd.to_datetime(accepted['settlement_date'])\n",
    "accepted['hardship_start_date'] = pd.to_datetime(accepted['hardship_start_date'])\n",
    "accepted['hardship_end_date'] = pd.to_datetime(accepted['hardship_end_date'])\n",
    "accepted['payment_plan_start_date'] = pd.to_datetime(accepted['payment_plan_start_date'])\n",
    "accepted['debt_settlement_flag_date'] = pd.to_datetime(accepted['debt_settlement_flag_date'])\n",
    "accepted['settlement_date'] = pd.to_datetime(accepted['settlement_date'])"
   ]
  },
  {
   "cell_type": "code",
   "execution_count": 532,
   "metadata": {},
   "outputs": [
    {
     "data": {
      "text/plain": [
       "Fully Paid                                             1076751\n",
       "Current                                                 878317\n",
       "Charged Off                                             268559\n",
       "Late (31-120 days)                                       21467\n",
       "In Grace Period                                           8436\n",
       "Late (16-30 days)                                         4349\n",
       "Does not meet the credit policy. Status:Fully Paid        1988\n",
       "Does not meet the credit policy. Status:Charged Off        761\n",
       "Default                                                     40\n",
       "Name: loan_status, dtype: int64"
      ]
     },
     "execution_count": 532,
     "metadata": {},
     "output_type": "execute_result"
    }
   ],
   "source": [
    "accepted['loan_status'].value_counts()"
   ]
  },
  {
   "cell_type": "code",
   "execution_count": 533,
   "metadata": {},
   "outputs": [],
   "source": [
    "# remove all the loans with status == current \n",
    "\n",
    "accepted = accepted[accepted.loan_status != 'Current']"
   ]
  },
  {
   "cell_type": "code",
   "execution_count": null,
   "metadata": {},
   "outputs": [],
   "source": [
    "# print(sample.columns[:30])\n",
    "# print(sample.columns[31:60])\n",
    "# print(sample.columns[61:90])\n",
    "# print(sample.columns[91:120])\n",
    "# print(sample.columns[121:])"
   ]
  },
  {
   "cell_type": "code",
   "execution_count": 515,
   "metadata": {},
   "outputs": [],
   "source": [
    "# 33 rows out of the whole dataframe has all NaN values, drop\n",
    "\n",
    "rows = list(accepted[['loan_amnt','annual_inc','zip_code','inq_last_6mths']])\n",
    "\n",
    "for row in rows:\n",
    "    accepted = accepted.dropna(axis=0, subset=[row])"
   ]
  },
  {
   "cell_type": "code",
   "execution_count": 516,
   "metadata": {},
   "outputs": [],
   "source": [
    "# Clean up the dataframe\n",
    "\n",
    "# Make my outcome variable 0s and 1s\n",
    "# outcome_var = []\n",
    "# for i in accepted['grade']:\n",
    "#     if i == 'A':\n",
    "#         outcome_var.append(1)\n",
    "#     else:\n",
    "#         outcome_var.append(0)\n",
    "# accepted['outcome_var'] = outcome_var\n",
    "\n",
    "# Find all the mths_since columns\n",
    "mths_since_list = [i for i in accepted.columns if 'mths_since' in i]\n",
    "\n",
    "# Bin the mths_since columns to make them valid inputs\n",
    "for col in mths_since_list:\n",
    "    if col != 'sec_app_mths_since_last_major_derog':\n",
    "        category = list(pd.cut(accepted[col], bins=4, labels=['0', '1', '2', '3']))\n",
    "        for i, val in enumerate(category):\n",
    "            if type(val) != str:\n",
    "                if np.isnan(val):\n",
    "                    category[i] = '4'\n",
    "    accepted[col + '_cat'] = category\n",
    "\n",
    "# Replace nulls in columns with strings (i.e. if no job title, replace null with 'none')\n",
    "ok_list = ['emp_title','emp_length']\n",
    "for col in ok_list:\n",
    "    new_list = []\n",
    "    col_values = list(accepted[col])\n",
    "    for i, val in enumerate(col_values):\n",
    "        if type(val) != str:\n",
    "            if np.isnan(val):\n",
    "                new_list.append('none')\n",
    "            else:\n",
    "                new_list.append(val)\n",
    "        else:\n",
    "            new_list.append(val)\n",
    "    new_col_name = col + '_2'\n",
    "    accepted[new_col_name] = new_list\n",
    "    \n",
    "emp_length_int = []\n",
    "for i in accepted['emp_length_2']:\n",
    "    if i == 'none':\n",
    "        emp_length_int.append(0)\n",
    "    else:\n",
    "        emp_length_int.append(int(re.findall(r'\\d+', i)[0]))\n",
    "accepted['emp_length_int'] = emp_length_int\n",
    "\n",
    "earliest_cr_yrs = []\n",
    "for i in accepted['earliest_cr_line']:\n",
    "    earliest_cr_yrs.append(2019 - int(re.findall(r'\\d+', i)[0]))\n",
    "accepted['earliest_cr_yrs'] = earliest_cr_yrs\n",
    "\n",
    "own_home = []\n",
    "for i in accepted['home_ownership']:\n",
    "    if i == 'OWN':\n",
    "        own_home.append(1)\n",
    "    else:\n",
    "        own_home.append(0)\n",
    "accepted['own_home'] = own_home"
   ]
  },
  {
   "cell_type": "code",
   "execution_count": 517,
   "metadata": {},
   "outputs": [],
   "source": [
    "means = list(accepted[['dti','revol_util','tot_cur_bal','all_util','total_bal_il','tot_coll_amt','avg_cur_bal',\n",
    "                  'bc_open_to_buy','bc_util','total_rev_hi_lim','il_util','max_bal_bc','pct_tl_nvr_dlq',\n",
    "                  'tot_hi_cred_lim','total_bal_ex_mort','total_bc_limit','total_il_high_credit_limit']])\n",
    "\n",
    "for mean in means:\n",
    "    accepted[mean].fillna((accepted[mean].mean()), inplace=True)"
   ]
  },
  {
   "cell_type": "code",
   "execution_count": 518,
   "metadata": {},
   "outputs": [],
   "source": [
    "modes = list(accepted[['open_acc_6m','open_act_il','open_il_12m','collections_12_mths_ex_med','num_actv_rev_tl',\n",
    "                 'open_rv_12m','open_rv_24m','open_act_il','num_actv_rev_tl','open_rv_24m','inq_fi','inq_last_12m',\n",
    "                 'acc_open_past_24mths','num_actv_bc_tl','num_actv_rev_tl','num_bc_tl','num_il_tl','num_op_rev_tl',\n",
    "                 'num_rev_tl_bal_gt_0','num_sats','percent_bc_gt_75']])\n",
    "\n",
    "for mode in modes:\n",
    "    accepted[mode].fillna((accepted[mode].mode()[0]), inplace=True) "
   ]
  },
  {
   "cell_type": "code",
   "execution_count": 519,
   "metadata": {},
   "outputs": [],
   "source": [
    "zeros = list(accepted[['open_acc_6m','open_il_12m','collections_12_mths_ex_med','open_rv_12m','total_cu_tl',\n",
    "                  'chargeoff_within_12_mths','num_accts_ever_120_pd','num_rev_accts','num_tl_120dpd_2m',\n",
    "                 'num_tl_30dpd','num_tl_90g_dpd_24m','num_tl_op_past_12m','pub_rec_bankruptcies','tax_liens']])\n",
    "\n",
    "for zero in zeros:\n",
    "    accepted[zero] = accepted[zero].replace(np.nan, 0)"
   ]
  },
  {
   "cell_type": "code",
   "execution_count": 520,
   "metadata": {},
   "outputs": [],
   "source": [
    "accepted['last_pymnt_d'] = accepted['last_pymnt_d'].fillna('NA') \n",
    "accepted['next_pymnt_d'] = accepted['next_pymnt_d'].fillna('NA') \n",
    "accepted['last_credit_pull_d'] = accepted['last_credit_pull_d'].fillna('NA')"
   ]
  },
  {
   "cell_type": "code",
   "execution_count": 521,
   "metadata": {},
   "outputs": [
    {
     "name": "stdout",
     "output_type": "stream",
     "text": [
      "['sec_app_fico_range_low', 'sec_app_fico_range_high', 'sec_app_earliest_cr_line', 'sec_app_inq_last_6mths', 'sec_app_mort_acc', 'sec_app_open_acc', 'sec_app_revol_util', 'sec_app_open_act_il', 'sec_app_num_rev_accts', 'sec_app_chargeoff_within_12_mths', 'sec_app_collections_12_mths_ex_med', 'sec_app_mths_since_last_major_derog', 'sec_app_mths_since_last_major_derog_cat']\n",
      "['annual_inc_joint', 'dti_joint', 'verification_status_joint', 'revol_bal_joint']\n"
     ]
    }
   ],
   "source": [
    "# find all the joint-features\n",
    "\n",
    "sec_app_list = [i for i in accepted.columns if 'sec_app' in i]\n",
    "print(sec_app_list)\n",
    "\n",
    "join_list = [i for i in accepted.columns if 'joint' in i]\n",
    "print(join_list)\n",
    "\n",
    "# subset the accounts with joint-features \n",
    "\n",
    "sub_joint = accepted[['sec_app_fico_range_low', 'sec_app_fico_range_high', 'sec_app_earliest_cr_line', \n",
    "                     'sec_app_inq_last_6mths', 'sec_app_mort_acc', 'sec_app_open_acc', 'sec_app_revol_util',\n",
    "                     'sec_app_open_act_il', 'sec_app_num_rev_accts', 'sec_app_chargeoff_within_12_mths',\n",
    "                     'sec_app_collections_12_mths_ex_med', 'sec_app_mths_since_last_major_derog', \n",
    "                     'sec_app_mths_since_last_major_derog_cat','annual_inc_joint', 'dti_joint', \n",
    "                     'verification_status_joint', 'revol_bal_joint']]"
   ]
  },
  {
   "cell_type": "code",
   "execution_count": 522,
   "metadata": {},
   "outputs": [],
   "source": [
    "# irrelevant features are dropped\n",
    "\n",
    "accepted = accepted.drop(['id','member_id','desc','title','url','pymnt_plan','debt_settlement_flag_date','settlement_date',\n",
    "               'payment_plan_start_date', 'hardship_type','hardship_reason','hardship_status','deferral_term',\n",
    "               'hardship_amount','hardship_start_date','hardship_end_date','hardship_length','hardship_dpd',\n",
    "               'hardship_loan_status','orig_projected_additional_accrued_interest','hardship_payoff_balance_amount',\n",
    "               'hardship_last_payment_amount','settlement_status','settlement_amount','settlement_percentage',\n",
    "               'settlement_term','mo_sin_old_il_acct','mo_sin_old_rev_tl_op','mo_sin_rcnt_rev_tl_op',\n",
    "               'mo_sin_rcnt_tl'],axis=1,inplace=True)"
   ]
  },
  {
   "cell_type": "code",
   "execution_count": 529,
   "metadata": {},
   "outputs": [
    {
     "ename": "AttributeError",
     "evalue": "'NoneType' object has no attribute 'pivot_table'",
     "output_type": "error",
     "traceback": [
      "\u001b[0;31m---------------------------------------------------------------------------\u001b[0m",
      "\u001b[0;31mAttributeError\u001b[0m                            Traceback (most recent call last)",
      "\u001b[0;32m<ipython-input-529-9d4fe5edb145>\u001b[0m in \u001b[0;36m<module>\u001b[0;34m\u001b[0m\n\u001b[0;32m----> 1\u001b[0;31m \u001b[0maccepted\u001b[0m\u001b[0;34m.\u001b[0m\u001b[0mpivot_table\u001b[0m\u001b[0;34m\u001b[0m\u001b[0;34m\u001b[0m\u001b[0m\n\u001b[0m",
      "\u001b[0;31mAttributeError\u001b[0m: 'NoneType' object has no attribute 'pivot_table'"
     ]
    }
   ],
   "source": [
    "accepted."
   ]
  },
  {
   "cell_type": "code",
   "execution_count": null,
   "metadata": {},
   "outputs": [],
   "source": []
  },
  {
   "cell_type": "code",
   "execution_count": null,
   "metadata": {},
   "outputs": [],
   "source": [
    "# drop_rows = list(accepted[['loan_amnt','annual_inc','earliest_cr_line','inq_last_6mths','delinq_2yrs',\n",
    "#                   'earliest_cr_line','inq_last_6mths','open_acc','pub_rec','total_acc']])\n",
    "\n",
    "# for drop_row in drop_rows:\n",
    "#     accepted = accepted.dropna(axis=0, subset=[drop_row])"
   ]
  },
  {
   "cell_type": "code",
   "execution_count": null,
   "metadata": {},
   "outputs": [],
   "source": [
    "# model_cols = ['outcome_var',\n",
    "#               'loan_amnt', 'annual_inc', 'own_home',\n",
    "#               'verification_status', 'issue_d', 'purpose', 'addr_state', \n",
    "#               'dti', 'delinq_2yrs', 'inq_last_6mths', 'open_acc', 'pub_rec',\n",
    "#               'revol_bal', 'revol_util_float', 'total_acc', 'collections_12_mths_ex_med',\n",
    "#               'acc_now_delinq', 'tot_coll_amt', 'total_rev_hi_lim', 'acc_open_past_24mths', \n",
    "#               'avg_cur_bal', 'bc_open_to_buy', 'chargeoff_within_12_mths', 'delinq_amnt',\n",
    "#               'mo_sin_old_rev_tl_op', 'mo_sin_rcnt_rev_tl_op', 'mo_sin_rcnt_tl', 'mort_acc',\n",
    "#               'mths_since_recent_bc', 'num_accts_ever_120_pd', 'num_actv_bc_tl', 'num_actv_rev_tl',\n",
    "#               'num_bc_sats', 'num_bc_tl', 'num_il_tl', 'num_op_rev_tl', 'num_rev_accts',\n",
    "#               'num_tl_30dpd', 'num_tl_90g_dpd_24m', 'num_tl_op_past_12m',\n",
    "#               'pct_tl_nvr_dlq', 'pub_rec_bankruptcies', 'tax_liens', 'tot_hi_cred_lim', 'total_bal_ex_mort', \n",
    "#               'total_bc_limit', 'total_il_high_credit_limit', 'mths_since_last_delinq_cat',\n",
    "#               'mths_since_last_record_cat', 'mths_since_last_major_derog_cat', 'mths_since_rcnt_il_cat',\n",
    "#               'mths_since_recent_bc_cat', 'mths_since_recent_bc_dlq_cat', 'mths_since_recent_inq_cat',\n",
    "#               'mths_since_recent_revol_delinq_cat', 'emp_length_int', 'earliest_cr_yrs']\n",
    "\n",
    "# model_data = lc_d_2015[model_cols].copy()"
   ]
  },
  {
   "cell_type": "code",
   "execution_count": 523,
   "metadata": {},
   "outputs": [
    {
     "ename": "TypeError",
     "evalue": "'NoneType' object is not subscriptable",
     "output_type": "error",
     "traceback": [
      "\u001b[0;31m---------------------------------------------------------------------------\u001b[0m",
      "\u001b[0;31mTypeError\u001b[0m                                 Traceback (most recent call last)",
      "\u001b[0;32m<ipython-input-523-7cde1c7e7df2>\u001b[0m in \u001b[0;36m<module>\u001b[0;34m\u001b[0m\n\u001b[0;32m----> 1\u001b[0;31m \u001b[0maccepted\u001b[0m\u001b[0;34m[\u001b[0m\u001b[0;34m'grade'\u001b[0m\u001b[0;34m]\u001b[0m\u001b[0;34m.\u001b[0m\u001b[0mvalue_counts\u001b[0m\u001b[0;34m(\u001b[0m\u001b[0;34m)\u001b[0m\u001b[0;34m\u001b[0m\u001b[0;34m\u001b[0m\u001b[0m\n\u001b[0m",
      "\u001b[0;31mTypeError\u001b[0m: 'NoneType' object is not subscriptable"
     ]
    }
   ],
   "source": [
    "accepted['grade'].value_counts()"
   ]
  },
  {
   "cell_type": "code",
   "execution_count": 524,
   "metadata": {},
   "outputs": [
    {
     "ename": "TypeError",
     "evalue": "'NoneType' object is not subscriptable",
     "output_type": "error",
     "traceback": [
      "\u001b[0;31m---------------------------------------------------------------------------\u001b[0m",
      "\u001b[0;31mTypeError\u001b[0m                                 Traceback (most recent call last)",
      "\u001b[0;32m<ipython-input-524-074352abe5c2>\u001b[0m in \u001b[0;36m<module>\u001b[0;34m\u001b[0m\n\u001b[0;32m----> 1\u001b[0;31m \u001b[0maccepted\u001b[0m\u001b[0;34m[\u001b[0m\u001b[0;34m'term'\u001b[0m\u001b[0;34m]\u001b[0m\u001b[0;34m.\u001b[0m\u001b[0mvalue_counts\u001b[0m\u001b[0;34m(\u001b[0m\u001b[0;34m)\u001b[0m\u001b[0;34m\u001b[0m\u001b[0;34m\u001b[0m\u001b[0m\n\u001b[0m",
      "\u001b[0;31mTypeError\u001b[0m: 'NoneType' object is not subscriptable"
     ]
    }
   ],
   "source": [
    "accepted['term'].value_counts()"
   ]
  },
  {
   "cell_type": "code",
   "execution_count": 113,
   "metadata": {},
   "outputs": [],
   "source": [
    "accepted_36m = accepted[accepted.term != '60 months']"
   ]
  },
  {
   "cell_type": "code",
   "execution_count": 114,
   "metadata": {},
   "outputs": [],
   "source": [
    "accepted_60m = accepted[accepted.term != '36 months']"
   ]
  },
  {
   "cell_type": "code",
   "execution_count": null,
   "metadata": {},
   "outputs": [],
   "source": [
    "# from sklearn import preprocessing\n",
    "\n",
    "# dummy = pd.get_dummies(accepted['term'])\n",
    "# accepted = pd.concat([accepted,dummy], axis =1)\n",
    "\n",
    "# #creating labelEncoder\n",
    "# le = preprocessing.LabelEncoder()\n",
    "# # Converting string labels into numbers.\n",
    "\n",
    "# lists = accepted[['grade','sub_grade','emp_title','emp_length','home_ownership','verification_status','issue_d',\n",
    "#                   'loan_status','pymnt_plan','desc','purpose','title','zip_code','addr_state','earliest_cr_line',\n",
    "                 \n",
    "#                  ]]\n",
    "\n",
    "\n",
    "# grade_encoded=le.fit_transform(accepted['grade'])\n",
    "# sub_grade_encoded=le.fit_transform(accepted['sub_grade'])\n",
    "# emp_title_encoded=le.fit_transform(accepted['emp_title'])\n",
    "# emp_length_encoded=le.fit_transform(accepted['emp_length'])\n",
    "# h\n",
    "\n"
   ]
  }
 ],
 "metadata": {
  "kernelspec": {
   "display_name": "Python 3",
   "language": "python",
   "name": "python3"
  },
  "language_info": {
   "codemirror_mode": {
    "name": "ipython",
    "version": 3
   },
   "file_extension": ".py",
   "mimetype": "text/x-python",
   "name": "python",
   "nbconvert_exporter": "python",
   "pygments_lexer": "ipython3",
   "version": "3.7.3"
  }
 },
 "nbformat": 4,
 "nbformat_minor": 2
}
