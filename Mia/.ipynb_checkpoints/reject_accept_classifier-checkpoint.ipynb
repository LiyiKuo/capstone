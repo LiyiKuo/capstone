{
 "cells": [
  {
   "cell_type": "markdown",
   "metadata": {},
   "source": [
    "# Project Idea 1: \n",
    "\n",
    "- Make a simplifying assumption between the **loan issuance date** and application dates,\n",
    "convert the approved loans into the formats of rejected loan applications.\n",
    "- Use supervised technique and clustering, describe (reverse engineering) \n",
    "the loan approval criterion of **Lending Club**.\n",
    "\n",
    "    - Challenges: The aggregated data has more than $20M$ samples. This is\n",
    "        beyond the coverage of many ML algorithms. How do you design an apporach \n",
    "        which allows you to train on such a large size data? The problem is\n",
    "        particularly serious for training **pooled** models.\n",
    "    - When you apply supervised technique, it might involve imbalanced classification.\n",
    "    How would you handle 'im-balanced dataset' like this?\n",
    "    \n",
    "- Are there poor performing approved loans which should be rejected?\n",
    "- What is the business impact (pros and cons) of rejecting such non-performing loans?\n",
    "</a><br>\n",
    "# Structure: \n",
    "- <a href=\"#preprocessing\">Preprocessing</a><br>\n",
    "- <a href=\"#function\">Function</a><br>\n",
    "- <a href=\"#ml\">Machine Learning</a><br>\n",
    "    - <a href=\"#decision\">Decision Tree</a><br>\n",
    "    - <a href=\"#rf\">Random Forest</a><br>\n",
    "    - <a href=\"#svm\">SVM</a><br>\n",
    "    - <a href=\"#xgboost\">XGBoost</a><br>"
   ]
  },
  {
   "cell_type": "code",
   "execution_count": 1,
   "metadata": {},
   "outputs": [],
   "source": [
    "import numpy as np\n",
    "import pandas as pd\n",
    "\n",
    "pd.options.display.max_columns = None\n",
    "pd.options.display.max_rows = 100\n",
    "\n",
    "# from sklearn.preprocessing import OrdinalEncoder\n",
    "# from sklearn.preprocessing import OneHotEncoder\n",
    "# from sklearn.preprocessing import LabelEncoder\n",
    "\n",
    "# from sklearn.model_selection import train_test_split\n",
    "# from sklearn.linear_model import LinearRegression \n",
    "# from sklearn.preprocessing import StandardScaler, MinMaxScaler, MaxAbsScaler \n"
   ]
  },
  {
   "cell_type": "code",
   "execution_count": null,
   "metadata": {},
   "outputs": [],
   "source": [
    "df_raw_accepted = pd.read_csv('accepted_2007_to_2018Q4.csv')\n",
    "df_raw_rejected = pd.read_csv('rejected_2007_to_2018Q4.csv')"
   ]
  },
  {
   "cell_type": "code",
   "execution_count": 2,
   "metadata": {},
   "outputs": [],
   "source": [
    "sample_accepted = pd.read_csv('sample_accepted.csv')\n",
    "sample_rejected = pd.read_csv('sample_rejected.csv')"
   ]
  },
  {
   "cell_type": "markdown",
   "metadata": {},
   "source": [
    " <p><a name=\"preprocessing\"></a></p>\n",
    " \n",
    " ## Preprocessing"
   ]
  },
  {
   "cell_type": "code",
   "execution_count": 73,
   "metadata": {},
   "outputs": [],
   "source": [
    "rejected = sample_rejected.iloc[:,1:9]\n",
    "rejected = rejected.rename(columns={\"Amount Requested\": \"loan_amnt\", \"Application Date\": \"app_date\", \"Loan Title\": \"purpose\",\n",
    "                         \"Risk_Score\": \"risk_score\", \"Debt-To-Income Ratio\": \"dti\", \"Zip Code\": \"zip_code\",\n",
    "                         \"State\": \"addr_state\", \"Employment Length\": \"emp_length\"})\n",
    "rejected['loan_status'] = 0\n",
    "\n",
    "rejected['purpose'] = rejected['purpose'].str.lower().replace(' ', '_')\n",
    "\n",
    "rejected['app_date'] = pd.to_datetime(rejected['app_date'])\n",
    "rejected['app_year'] = rejected['app_date'].dt.year\n",
    "rejected['app_month'] = rejected['app_date'].dt.month\n",
    "\n",
    "rejected['dti'] = rejected['dti'].str.replace('%','')\n",
    "\n",
    "rejected = rejected.drop(columns = 'app_date')"
   ]
  },
  {
   "cell_type": "code",
   "execution_count": 59,
   "metadata": {},
   "outputs": [],
   "source": [
    "accepted = sample_accepted[['loan_amnt', 'purpose', 'dti',\n",
    "       'zip_code', 'addr_state', 'emp_length', 'issue_d',\n",
    "       'loan_status', 'last_fico_range_high','last_fico_range_low']]"
   ]
  },
  {
   "cell_type": "code",
   "execution_count": null,
   "metadata": {},
   "outputs": [],
   "source": [
    "accepted['issue_d'] = pd.to_datetime(accepted['issue_d'])\n",
    "accepted['app_year'] = accepted['issue_d'].dt.year\n",
    "accepted['app_month'] = accepted['issue_d'].dt.month\n",
    "\n",
    "accepted['risk_score'] = (accepted['last_fico_range_high'] + accepted['last_fico_range_low'])/2\n",
    "accepted = accepted.drop(columns = ['issue_d','last_fico_range_high','last_fico_range_low'])\n",
    "\n",
    "accepted = accepted.replace({'loan_status' : { 'Charged Off' : 'rejected', 'Late (16-30 days)' : 'rejected', \n",
    "                                   'Late (31-120 days)' : 'rejected',\n",
    "                                   'Does not meet the credit policy. Status:Charged Off' : 'rejected',\n",
    "                                   'Fully Paid' : 'accepted', 'Current' : 'accepted',\n",
    "                                   'In Grace Period' : 'accepted',\n",
    "                                   'Does not meet the credit policy. Status:Fully Paid' : 'accepted'}})"
   ]
  },
  {
   "cell_type": "code",
   "execution_count": 61,
   "metadata": {},
   "outputs": [],
   "source": [
    "df_processed = pd.concat([accepted, rejected], sort=True)"
   ]
  },
  {
   "cell_type": "code",
   "execution_count": 62,
   "metadata": {},
   "outputs": [
    {
     "data": {
      "text/html": [
       "<div>\n",
       "<style scoped>\n",
       "    .dataframe tbody tr th:only-of-type {\n",
       "        vertical-align: middle;\n",
       "    }\n",
       "\n",
       "    .dataframe tbody tr th {\n",
       "        vertical-align: top;\n",
       "    }\n",
       "\n",
       "    .dataframe thead th {\n",
       "        text-align: right;\n",
       "    }\n",
       "</style>\n",
       "<table border=\"1\" class=\"dataframe\">\n",
       "  <thead>\n",
       "    <tr style=\"text-align: right;\">\n",
       "      <th></th>\n",
       "      <th>Total</th>\n",
       "      <th>Percent</th>\n",
       "    </tr>\n",
       "  </thead>\n",
       "  <tbody>\n",
       "    <tr>\n",
       "      <th>risk_score</th>\n",
       "      <td>2026</td>\n",
       "      <td>0.337667</td>\n",
       "    </tr>\n",
       "    <tr>\n",
       "      <th>emp_length</th>\n",
       "      <td>303</td>\n",
       "      <td>0.050500</td>\n",
       "    </tr>\n",
       "    <tr>\n",
       "      <th>dti</th>\n",
       "      <td>2</td>\n",
       "      <td>0.000333</td>\n",
       "    </tr>\n",
       "    <tr>\n",
       "      <th>zip_code</th>\n",
       "      <td>0</td>\n",
       "      <td>0.000000</td>\n",
       "    </tr>\n",
       "    <tr>\n",
       "      <th>purpose</th>\n",
       "      <td>0</td>\n",
       "      <td>0.000000</td>\n",
       "    </tr>\n",
       "    <tr>\n",
       "      <th>loan_status</th>\n",
       "      <td>0</td>\n",
       "      <td>0.000000</td>\n",
       "    </tr>\n",
       "    <tr>\n",
       "      <th>loan_amnt</th>\n",
       "      <td>0</td>\n",
       "      <td>0.000000</td>\n",
       "    </tr>\n",
       "    <tr>\n",
       "      <th>app_year</th>\n",
       "      <td>0</td>\n",
       "      <td>0.000000</td>\n",
       "    </tr>\n",
       "    <tr>\n",
       "      <th>app_month</th>\n",
       "      <td>0</td>\n",
       "      <td>0.000000</td>\n",
       "    </tr>\n",
       "    <tr>\n",
       "      <th>addr_state</th>\n",
       "      <td>0</td>\n",
       "      <td>0.000000</td>\n",
       "    </tr>\n",
       "  </tbody>\n",
       "</table>\n",
       "</div>"
      ],
      "text/plain": [
       "             Total   Percent\n",
       "risk_score    2026  0.337667\n",
       "emp_length     303  0.050500\n",
       "dti              2  0.000333\n",
       "zip_code         0  0.000000\n",
       "purpose          0  0.000000\n",
       "loan_status      0  0.000000\n",
       "loan_amnt        0  0.000000\n",
       "app_year         0  0.000000\n",
       "app_month        0  0.000000\n",
       "addr_state       0  0.000000"
      ]
     },
     "execution_count": 62,
     "metadata": {},
     "output_type": "execute_result"
    }
   ],
   "source": [
    "total = df_processed.isnull().sum().sort_values(ascending=False)\n",
    "percent = (df_processed.isnull().sum()/df_processed.isnull().count()).sort_values(ascending=False)\n",
    "missing_data = pd.concat([total, percent], axis=1, keys=['Total', 'Percent'])\n",
    "missing_data"
   ]
  },
  {
   "cell_type": "markdown",
   "metadata": {},
   "source": [
    " <p><a name=\"function\"></a></p>\n",
    " \n",
    " ## Function "
   ]
  },
  {
   "cell_type": "code",
   "execution_count": 104,
   "metadata": {},
   "outputs": [],
   "source": [
    "'''\n",
    "For applications prior to November 5, 2013 the risk score is the borrower's FICO score. \n",
    "For applications after November 5, 2013 the risk score is the borrower's Vantage score.\n",
    "'''\n",
    "\n",
    "def data_process(accepted,rejected):\n",
    "    \n",
    "    accepted = sample_accepted.copy()\n",
    "    rejected = sample_rejected.copy()\n",
    "    \n",
    "    # Processing accepted data \n",
    "    accepted = accepted[['loan_amnt', 'purpose', 'dti',\n",
    "       'zip_code', 'addr_state', 'emp_length', 'issue_d',\n",
    "       'loan_status', 'last_fico_range_high','last_fico_range_low']]\n",
    "    \n",
    "    accepted['issue_d'] = pd.to_datetime(accepted['issue_d'])\n",
    "    accepted['app_year'] = accepted['issue_d'].dt.year\n",
    "    accepted['app_month'] = accepted['issue_d'].dt.month\n",
    "\n",
    "    accepted['risk_score'] = (accepted['last_fico_range_high'] + accepted['last_fico_range_low'])/2\n",
    "    accepted = accepted.drop(columns = ['issue_d','last_fico_range_high','last_fico_range_low'])\n",
    "\n",
    "#     if reverse = False:\n",
    "#         accepted = accepted.replace({'loan_status' : { 'Charged Off' : 'rejected', 'Late (16-30 days)' : 'rejected', \n",
    "#                                        'Late (31-120 days)' : 'rejected',\n",
    "#                                        'Does not meet the credit policy. Status:Charged Off' : 'rejected',\n",
    "#                                        'Fully Paid' : 'accepted', 'Current' : 'accepted',\n",
    "#                                        'In Grace Period' : 'accepted',\n",
    "#                                        'Does not meet the credit policy. Status:Fully Paid' : 'accepted'}})\n",
    "\n",
    "    accepted['loan_status'] =1\n",
    "            \n",
    "    \n",
    "    # Processing rejected data \n",
    "    rejected = rejected.iloc[:,1:9]\n",
    "    rejected = rejected.rename(columns={\"Amount Requested\": \"loan_amnt\", \"Application Date\": \"app_date\", \"Loan Title\": \"purpose\",\n",
    "                             \"Risk_Score\": \"risk_score\", \"Debt-To-Income Ratio\": \"dti\", \"Zip Code\": \"zip_code\",\n",
    "                             \"State\": \"addr_state\", \"Employment Length\": \"emp_length\"})\n",
    "    rejected['loan_status'] = 0\n",
    "    \n",
    "    rejected['purpose'] = rejected['purpose'].str.lower().replace(' ','other')\n",
    "    rejected = rejected.replace({'purpose' : { 'debt consolidation' : 'debt_consolidation', 'debt' : 'debt_consolidation', \n",
    "                               'credit' : 'credit_card',\n",
    "                               'business' : 'small_business',\n",
    "                               'home' : 'house', 'medical expenses' : 'medical',\n",
    "                               'home improvement' : 'home_improvement',\n",
    "                               'renewable' : 'renewable_energy',\n",
    "                               'car financing' : 'car',\n",
    "                               'credit card refinancing' : 'credit_card',\n",
    "                               'small' : 'small_business', 'major purchase' : 'major_purchase',\n",
    "                               'moving and relocation' : 'moving',\n",
    "                               'business loan' : 'small_business',              \n",
    "                               'home buying' : 'major_purchase',\n",
    "                               'major' : 'credit_card',\n",
    "                               'green loan' : 'renewable_energy', 'business loan expansion' : 'small_business',\n",
    "                               'mmurov12' : 'other',\n",
    "                               'holiday purchases' : 'other',\n",
    "                               'buying costumes for my store' : 'small_business',              \n",
    "                               'home buying' : 'major_purchase',\n",
    "                               'my loan' : 'debt_consolidation',\n",
    "                               'trying to get out of high interest rates' : 'debt_consolidation', 'lower my cc debt' : 'credit_card',\n",
    "                               'motorcycle' : 'car',\n",
    "                               'pay off debt' : 'debt_consolidation',\n",
    "                               'student loan' : 'other', 'debt free' : 'debt_consolidation',\n",
    "                               'motorcycle' : 'car',\n",
    "                               'to fill up store with groceries' : 'small_business', 'pay off debt ' : 'debt_consolidation'\n",
    "                                             }})\n",
    "\n",
    "    rejected['app_date'] = pd.to_datetime(rejected['app_date'])\n",
    "    rejected['app_year'] = rejected['app_date'].dt.year\n",
    "    rejected['app_month'] = rejected['app_date'].dt.month\n",
    "\n",
    "    rejected = rejected.drop(columns = 'app_date')\n",
    "    \n",
    "    rejected['dti'] = rejected['dti'].str.replace('%','')\n",
    "    \n",
    "    # Merge accepted and rejected data for later process\n",
    "    df_processed = pd.concat([accepted, rejected], sort=True)\n",
    "    \n",
    "\n",
    "    # Convert categorical to numerical-- 10 means more than 10 years \n",
    "    df_processed['emp_length'] = df_processed['emp_length'].str.extract('(\\d+)')\n",
    "\n",
    "\n",
    "    # Missing Values: risk_score, emp_length, dti\n",
    "    df_processed['emp_length'] = df_processed['emp_length'].fillna(0)\n",
    "    df_processed['emp_length'] = df_processed['emp_length'].astype(int)\n",
    "    df_processed['risk_score'] = df_processed['risk_score'].fillna(0)\n",
    "    df_processed['dti'] = df_processed['dti'].fillna(0)\n",
    "    df_processed['dti'] = df_processed['dti'].astype(float)\n",
    "    \n",
    "    df_processed = pd.get_dummies(df_processed)\n",
    "    \n",
    "    return df_processed"
   ]
  },
  {
   "cell_type": "code",
   "execution_count": 105,
   "metadata": {},
   "outputs": [],
   "source": [
    "df_processed = data_process(sample_accepted,sample_rejected)"
   ]
  },
  {
   "cell_type": "code",
   "execution_count": 106,
   "metadata": {},
   "outputs": [
    {
     "data": {
      "text/html": [
       "<div>\n",
       "<style scoped>\n",
       "    .dataframe tbody tr th:only-of-type {\n",
       "        vertical-align: middle;\n",
       "    }\n",
       "\n",
       "    .dataframe tbody tr th {\n",
       "        vertical-align: top;\n",
       "    }\n",
       "\n",
       "    .dataframe thead th {\n",
       "        text-align: right;\n",
       "    }\n",
       "</style>\n",
       "<table border=\"1\" class=\"dataframe\">\n",
       "  <thead>\n",
       "    <tr style=\"text-align: right;\">\n",
       "      <th></th>\n",
       "      <th>addr_state</th>\n",
       "      <th>app_month</th>\n",
       "      <th>app_year</th>\n",
       "      <th>dti</th>\n",
       "      <th>emp_length</th>\n",
       "      <th>loan_amnt</th>\n",
       "      <th>loan_status</th>\n",
       "      <th>purpose</th>\n",
       "      <th>risk_score</th>\n",
       "      <th>zip_code</th>\n",
       "    </tr>\n",
       "  </thead>\n",
       "  <tbody>\n",
       "    <tr>\n",
       "      <th>0</th>\n",
       "      <td>CA</td>\n",
       "      <td>9</td>\n",
       "      <td>2015</td>\n",
       "      <td>29.72</td>\n",
       "      <td>10</td>\n",
       "      <td>33550.0</td>\n",
       "      <td>1</td>\n",
       "      <td>credit_card</td>\n",
       "      <td>727.0</td>\n",
       "      <td>952xx</td>\n",
       "    </tr>\n",
       "    <tr>\n",
       "      <th>1</th>\n",
       "      <td>FL</td>\n",
       "      <td>12</td>\n",
       "      <td>2016</td>\n",
       "      <td>23.20</td>\n",
       "      <td>2</td>\n",
       "      <td>8700.0</td>\n",
       "      <td>1</td>\n",
       "      <td>debt_consolidation</td>\n",
       "      <td>692.0</td>\n",
       "      <td>338xx</td>\n",
       "    </tr>\n",
       "    <tr>\n",
       "      <th>2</th>\n",
       "      <td>OH</td>\n",
       "      <td>5</td>\n",
       "      <td>2018</td>\n",
       "      <td>16.61</td>\n",
       "      <td>0</td>\n",
       "      <td>30000.0</td>\n",
       "      <td>1</td>\n",
       "      <td>credit_card</td>\n",
       "      <td>697.0</td>\n",
       "      <td>450xx</td>\n",
       "    </tr>\n",
       "    <tr>\n",
       "      <th>3</th>\n",
       "      <td>CA</td>\n",
       "      <td>10</td>\n",
       "      <td>2018</td>\n",
       "      <td>22.89</td>\n",
       "      <td>1</td>\n",
       "      <td>30000.0</td>\n",
       "      <td>1</td>\n",
       "      <td>debt_consolidation</td>\n",
       "      <td>757.0</td>\n",
       "      <td>913xx</td>\n",
       "    </tr>\n",
       "    <tr>\n",
       "      <th>4</th>\n",
       "      <td>PA</td>\n",
       "      <td>10</td>\n",
       "      <td>2015</td>\n",
       "      <td>21.18</td>\n",
       "      <td>8</td>\n",
       "      <td>15000.0</td>\n",
       "      <td>1</td>\n",
       "      <td>debt_consolidation</td>\n",
       "      <td>702.0</td>\n",
       "      <td>180xx</td>\n",
       "    </tr>\n",
       "    <tr>\n",
       "      <th>...</th>\n",
       "      <td>...</td>\n",
       "      <td>...</td>\n",
       "      <td>...</td>\n",
       "      <td>...</td>\n",
       "      <td>...</td>\n",
       "      <td>...</td>\n",
       "      <td>...</td>\n",
       "      <td>...</td>\n",
       "      <td>...</td>\n",
       "      <td>...</td>\n",
       "    </tr>\n",
       "    <tr>\n",
       "      <th>2995</th>\n",
       "      <td>PA</td>\n",
       "      <td>9</td>\n",
       "      <td>2015</td>\n",
       "      <td>51.24</td>\n",
       "      <td>1</td>\n",
       "      <td>10000.0</td>\n",
       "      <td>0</td>\n",
       "      <td>debt_consolidation</td>\n",
       "      <td>0.0</td>\n",
       "      <td>150xx</td>\n",
       "    </tr>\n",
       "    <tr>\n",
       "      <th>2996</th>\n",
       "      <td>FL</td>\n",
       "      <td>7</td>\n",
       "      <td>2014</td>\n",
       "      <td>12.59</td>\n",
       "      <td>1</td>\n",
       "      <td>8000.0</td>\n",
       "      <td>0</td>\n",
       "      <td>home_improvement</td>\n",
       "      <td>627.0</td>\n",
       "      <td>337xx</td>\n",
       "    </tr>\n",
       "    <tr>\n",
       "      <th>2997</th>\n",
       "      <td>SC</td>\n",
       "      <td>9</td>\n",
       "      <td>2017</td>\n",
       "      <td>24.92</td>\n",
       "      <td>1</td>\n",
       "      <td>1100.0</td>\n",
       "      <td>0</td>\n",
       "      <td>other</td>\n",
       "      <td>0.0</td>\n",
       "      <td>290xx</td>\n",
       "    </tr>\n",
       "    <tr>\n",
       "      <th>2998</th>\n",
       "      <td>OH</td>\n",
       "      <td>12</td>\n",
       "      <td>2017</td>\n",
       "      <td>30.20</td>\n",
       "      <td>1</td>\n",
       "      <td>10000.0</td>\n",
       "      <td>0</td>\n",
       "      <td>credit_card</td>\n",
       "      <td>643.0</td>\n",
       "      <td>441xx</td>\n",
       "    </tr>\n",
       "    <tr>\n",
       "      <th>2999</th>\n",
       "      <td>TN</td>\n",
       "      <td>7</td>\n",
       "      <td>2015</td>\n",
       "      <td>33.28</td>\n",
       "      <td>1</td>\n",
       "      <td>5000.0</td>\n",
       "      <td>0</td>\n",
       "      <td>debt_consolidation</td>\n",
       "      <td>0.0</td>\n",
       "      <td>381xx</td>\n",
       "    </tr>\n",
       "  </tbody>\n",
       "</table>\n",
       "<p>6000 rows × 10 columns</p>\n",
       "</div>"
      ],
      "text/plain": [
       "     addr_state  app_month  app_year    dti  emp_length  loan_amnt  \\\n",
       "0            CA          9      2015  29.72          10    33550.0   \n",
       "1            FL         12      2016  23.20           2     8700.0   \n",
       "2            OH          5      2018  16.61           0    30000.0   \n",
       "3            CA         10      2018  22.89           1    30000.0   \n",
       "4            PA         10      2015  21.18           8    15000.0   \n",
       "...         ...        ...       ...    ...         ...        ...   \n",
       "2995         PA          9      2015  51.24           1    10000.0   \n",
       "2996         FL          7      2014  12.59           1     8000.0   \n",
       "2997         SC          9      2017  24.92           1     1100.0   \n",
       "2998         OH         12      2017  30.20           1    10000.0   \n",
       "2999         TN          7      2015  33.28           1     5000.0   \n",
       "\n",
       "      loan_status             purpose  risk_score zip_code  \n",
       "0               1         credit_card       727.0    952xx  \n",
       "1               1  debt_consolidation       692.0    338xx  \n",
       "2               1         credit_card       697.0    450xx  \n",
       "3               1  debt_consolidation       757.0    913xx  \n",
       "4               1  debt_consolidation       702.0    180xx  \n",
       "...           ...                 ...         ...      ...  \n",
       "2995            0  debt_consolidation         0.0    150xx  \n",
       "2996            0    home_improvement       627.0    337xx  \n",
       "2997            0               other         0.0    290xx  \n",
       "2998            0         credit_card       643.0    441xx  \n",
       "2999            0  debt_consolidation         0.0    381xx  \n",
       "\n",
       "[6000 rows x 10 columns]"
      ]
     },
     "execution_count": 106,
     "metadata": {},
     "output_type": "execute_result"
    }
   ],
   "source": [
    "df_processed"
   ]
  },
  {
   "cell_type": "markdown",
   "metadata": {},
   "source": [
    " <p><a name=\"ml\"></a></p>\n",
    " \n",
    " # Machine Learning\n",
    "\n",
    "- <a href=\"#decision\">Decision Tree</a><br>\n",
    "- <a href=\"#rf\">Random Forest</a><br>\n",
    "- <a href=\"#svm\">SVM</a><br>\n",
    "- <a href=\"#xgboost\">XGBoost</a><br>\n",
    "\n",
    "    Linear Classifiers: Logistic Regression, Naive Bayes Classifier\n",
    "    Nearest Neighbor\n",
    "    Support Vector Machines\n",
    "    Decision Trees\n",
    "    Boosted Trees\n",
    "    Random Forest\n",
    "    Neural Networks\n",
    "\n",
    "- Links: \n",
    "- https://github.com/perryrjohnson/Walk-Score/blob/master/feature%20engineering.ipynb\n",
    "- https://towardsdatascience.com/an-implementation-and-explanation-of-the-random-forest-in-python-77bf308a9b76"
   ]
  },
  {
   "cell_type": "code",
   "execution_count": 192,
   "metadata": {},
   "outputs": [],
   "source": [
    "from sklearn.ensemble import RandomForestRegressor, GradientBoostingRegressor\n",
    "from xgboost import XGBRegressor\n",
    "from sklearn.model_selection import train_test_split, RandomizedSearchCV, GridSearchCV, cross_val_score\n",
    "from sklearn.svm import LinearSVC\n",
    "from sklearn import metrics\n",
    "from sklearn.metrics import confusion_matrix, roc_auc_score, f1_score, recall_score, precision_score, accuracy_score\n",
    "\n",
    "\n",
    "import seaborn as sns\n",
    "import matplotlib.pyplot as plt"
   ]
  },
  {
   "cell_type": "markdown",
   "metadata": {},
   "source": [
    " <p><a name=\"decision\"></a></p>\n",
    " \n",
    " ### Decision Tree "
   ]
  },
  {
   "cell_type": "code",
   "execution_count": 101,
   "metadata": {},
   "outputs": [],
   "source": [
    "# The predicted column is \"loan_status\" , split the data into training and test sets.\n",
    "x_m = df_processed.drop(['loan_status'], axis=1)\n",
    "y_m = df_processed.loc[:,'loan_status']\n",
    "X_train, X_test, y_train, y_test = train_test_split(x_m, y_m, test_size=0.2, random_state=42)"
   ]
  },
  {
   "cell_type": "code",
   "execution_count": 152,
   "metadata": {},
   "outputs": [
    {
     "name": "stdout",
     "output_type": "stream",
     "text": [
      "Model Accuracy: 1.0\n",
      "Test Accuracy: 0.92\n"
     ]
    }
   ],
   "source": [
    "from sklearn.tree import DecisionTreeClassifier\n",
    "\n",
    "# Make a decision tree and train\n",
    "tree = DecisionTreeClassifier(random_state=42)\n",
    "tree.fit(X_train, y_train)\n",
    "\n",
    "print(f'Model Accuracy: {tree.score(X_train, y_train)}')\n",
    "\n",
    "y_pred = tree.predict(X_test)\n",
    "print(\"Test Accuracy:\",metrics.accuracy_score(y_test, y_pred))"
   ]
  },
  {
   "cell_type": "code",
   "execution_count": 153,
   "metadata": {},
   "outputs": [
    {
     "data": {
      "text/plain": [
       "array([[536,  51],\n",
       "       [ 45, 568]], dtype=int64)"
      ]
     },
     "execution_count": 153,
     "metadata": {},
     "output_type": "execute_result"
    }
   ],
   "source": [
    "confusion_matrix(y_test, y_pred)"
   ]
  },
  {
   "cell_type": "code",
   "execution_count": null,
   "metadata": {},
   "outputs": [],
   "source": [
    "pd.crosstab(y_true, y_pred, rownames=['True'], colnames=['Predicted'], margins=True)"
   ]
  },
  {
   "cell_type": "code",
   "execution_count": null,
   "metadata": {},
   "outputs": [],
   "source": [
    "features = X_train.columns\n",
    "importance = tree.feature_importances_\n",
    "\n",
    "indices = np.argsort(importance)[-12:]\n",
    "plt.figure(figsize=(5, 7))\n",
    "plt.title(\"Feature importances\", fontsize = 18)\n",
    "plt.barh(features[indices], importance[indices],\n",
    "       color=\"b\",  align=\"center\")\n",
    "plt.tick_params(labelsize=14);"
   ]
  },
  {
   "cell_type": "markdown",
   "metadata": {},
   "source": [
    " <p><a name=\"rf\"></a></p>\n",
    " \n",
    " ### Random Forest"
   ]
  },
  {
   "cell_type": "code",
   "execution_count": 158,
   "metadata": {},
   "outputs": [
    {
     "name": "stdout",
     "output_type": "stream",
     "text": [
      "Model Accuracy: 0.9291666666666667\n",
      "Test Accuracy: 0.9225\n"
     ]
    }
   ],
   "source": [
    "from sklearn.ensemble import RandomForestClassifier\n",
    "\n",
    "# Create the model with 1000 trees\n",
    "model = RandomForestClassifier(n_estimators=100, max_depth=10, n_jobs=-1)\n",
    "\n",
    "# Fit on training data\n",
    "model.fit(X_train, y_train)\n",
    "y_pred = model.predict(X_test)\n",
    "\n",
    "print(f'Model Accuracy: {model.score(X_train, y_train)}')\n",
    "print(\"Test Accuracy:\",metrics.accuracy_score(y_test, y_pred))"
   ]
  },
  {
   "cell_type": "code",
   "execution_count": 159,
   "metadata": {},
   "outputs": [],
   "source": [
    "# Actual class predictions\n",
    "rf_predictions = model.predict(X_test)\n",
    "# Probabilities for each class\n",
    "rf_probs = model.predict_proba(X_test)[:, 1]"
   ]
  },
  {
   "cell_type": "code",
   "execution_count": 160,
   "metadata": {},
   "outputs": [
    {
     "data": {
      "text/plain": [
       "0.9654615639008313"
      ]
     },
     "execution_count": 160,
     "metadata": {},
     "output_type": "execute_result"
    }
   ],
   "source": [
    "# Calculate roc auc\n",
    "roc_value = roc_auc_score(y_test, rf_probs)\n",
    "roc_value"
   ]
  },
  {
   "cell_type": "code",
   "execution_count": 161,
   "metadata": {},
   "outputs": [
    {
     "data": {
      "text/plain": [
       "array([[518,  69],\n",
       "       [ 24, 589]], dtype=int64)"
      ]
     },
     "execution_count": 161,
     "metadata": {},
     "output_type": "execute_result"
    }
   ],
   "source": [
    "confusion_matrix(y_test, rf_predictions)"
   ]
  },
  {
   "cell_type": "code",
   "execution_count": 183,
   "metadata": {},
   "outputs": [
    {
     "data": {
      "image/png": "[encoded data removed]",
      "text/plain": [
       "<Figure size 360x504 with 1 Axes>"
      ]
     },
     "metadata": {
      "needs_background": "light"
     },
     "output_type": "display_data"
    }
   ],
   "source": [
    "features = X_train.columns\n",
    "importance = model.feature_importances_\n",
    "\n",
    "indices = np.argsort(importance)[-12:]\n",
    "plt.figure(figsize=(5, 7))\n",
    "plt.title(\"Feature importances\", fontsize = 18)\n",
    "plt.barh(features[indices], importance[indices],\n",
    "       color=\"b\",  align=\"center\")\n",
    "plt.tick_params(labelsize=14);\n",
    "\n",
    "\n",
    "# feature_imp = pd.Series(model.feature_importances_,index=X_train.columns).sort_values(ascending=False)\n",
    "# feature_imp.head(15).plot.barh()"
   ]
  },
  {
   "cell_type": "code",
   "execution_count": 162,
   "metadata": {},
   "outputs": [
    {
     "data": {
      "text/plain": [
       "RandomizedSearchCV(cv=5, error_score='raise-deprecating',\n",
       "                   estimator=RandomForestRegressor(bootstrap=True,\n",
       "                                                   criterion='mse',\n",
       "                                                   max_depth=None,\n",
       "                                                   max_features='auto',\n",
       "                                                   max_leaf_nodes=None,\n",
       "                                                   min_impurity_decrease=0.0,\n",
       "                                                   min_impurity_split=None,\n",
       "                                                   min_samples_leaf=1,\n",
       "                                                   min_samples_split=2,\n",
       "                                                   min_weight_fraction_leaf=0.0,\n",
       "                                                   n_estimators='warn',\n",
       "                                                   n_jobs=2, oob_score=False,\n",
       "                                                   random_state=...ose=0,\n",
       "                                                   warm_start=False),\n",
       "                   iid='warn', n_iter=10, n_jobs=None,\n",
       "                   param_distributions={'max_depth': [20, 22, 24],\n",
       "                                        'max_features': [2, 3, 4, 5, 6, 7],\n",
       "                                        'min_samples_leaf': [2, 3, 4],\n",
       "                                        'min_samples_split': [2, 3, 4, 5],\n",
       "                                        'n_estimators': [300, 400, 500, 600,\n",
       "                                                         700, 800]},\n",
       "                   pre_dispatch='2*n_jobs', random_state=None, refit=True,\n",
       "                   return_train_score=False, scoring='neg_mean_squared_error',\n",
       "                   verbose=0)"
      ]
     },
     "execution_count": 162,
     "metadata": {},
     "output_type": "execute_result"
    }
   ],
   "source": [
    "forest = RandomForestRegressor(n_jobs=2)\n",
    "\n",
    "# Number of trees in random forest\n",
    "n_estimators = [300, 400, 500, 600, 700, 800]\n",
    "# Number of features to consider at every split\n",
    "max_features = [2, 3, 4, 5, 6, 7]\n",
    "# Maximum number of levels in tree\n",
    "max_depth = [20, 22, 24]\n",
    "# Minimum number of samples required to split a node\n",
    "min_samples_split = [2, 3, 4, 5]\n",
    "# Minimum number of samples required at each leaf node\n",
    "min_samples_leaf = [2, 3, 4]\n",
    "# Create the random grid\n",
    "random_grid = {'n_estimators': n_estimators,\n",
    "               'max_features': max_features,\n",
    "              'max_depth': max_depth,\n",
    "               'min_samples_split': min_samples_split,\n",
    "               'min_samples_leaf': min_samples_leaf}\n",
    "\n",
    "forest_grid = RandomizedSearchCV(forest, param_distributions= random_grid, \n",
    "                                 cv = 5, scoring= 'neg_mean_squared_error')\n",
    "\n",
    "forest_grid.fit(X_train, y_train)"
   ]
  },
  {
   "cell_type": "code",
   "execution_count": 179,
   "metadata": {},
   "outputs": [],
   "source": [
    "forest_grid_predictions =forest_grid.best_estimator_.predict(X_test)"
   ]
  },
  {
   "cell_type": "code",
   "execution_count": null,
   "metadata": {},
   "outputs": [],
   "source": [
    "confusion_matrix(y_test, forest_grid_predictions)"
   ]
  },
  {
   "cell_type": "code",
   "execution_count": 184,
   "metadata": {},
   "outputs": [
    {
     "data": {
      "image/png": "[encoded data removed]",
      "text/plain": [
       "<Figure size 360x504 with 1 Axes>"
      ]
     },
     "metadata": {
      "needs_background": "light"
     },
     "output_type": "display_data"
    }
   ],
   "source": [
    "features = X_train.columns\n",
    "importance = forest_grid.best_estimator_.feature_importances_\n",
    "indices = np.argsort(importance)[-12:]\n",
    "plt.figure(figsize=(5, 7))\n",
    "plt.title(\"Feature importances\", fontsize = 18)\n",
    "plt.barh(features[indices], importance[indices],\n",
    "       color=\"b\",  align=\"center\")\n",
    "plt.tick_params(labelsize=14)"
   ]
  },
  {
   "cell_type": "markdown",
   "metadata": {},
   "source": [
    " <p><a name=\"svm\"></a></p>\n",
    " \n",
    " ### SVM"
   ]
  },
  {
   "cell_type": "code",
   "execution_count": 148,
   "metadata": {},
   "outputs": [
    {
     "name": "stderr",
     "output_type": "stream",
     "text": [
      "C:\\Users\\miazh_000\\Anaconda3\\lib\\site-packages\\sklearn\\svm\\base.py:929: ConvergenceWarning: Liblinear failed to converge, increase the number of iterations.\n",
      "  \"the number of iterations.\", ConvergenceWarning)\n"
     ]
    },
    {
     "data": {
      "text/plain": [
       "LinearSVC(C=1.0, class_weight=None, dual=True, fit_intercept=True,\n",
       "          intercept_scaling=1, loss='squared_hinge', max_iter=1000,\n",
       "          multi_class='ovr', penalty='l2', random_state=None, tol=0.0001,\n",
       "          verbose=0)"
      ]
     },
     "execution_count": 148,
     "metadata": {},
     "output_type": "execute_result"
    }
   ],
   "source": [
    "svc = LinearSVC()\n",
    "svc.fit(X_train, y_train)"
   ]
  },
  {
   "cell_type": "code",
   "execution_count": 149,
   "metadata": {},
   "outputs": [],
   "source": [
    "y_pred_svc = svc.predict(X_test)"
   ]
  },
  {
   "cell_type": "code",
   "execution_count": 150,
   "metadata": {},
   "outputs": [
    {
     "data": {
      "text/plain": [
       "array([[314, 273],\n",
       "       [  5, 608]], dtype=int64)"
      ]
     },
     "execution_count": 150,
     "metadata": {},
     "output_type": "execute_result"
    }
   ],
   "source": [
    "confusion_matrix(y_test, y_pred_svc)"
   ]
  },
  {
   "cell_type": "markdown",
   "metadata": {},
   "source": [
    " <p><a name=\"xgboost\"></a></p>\n",
    " \n",
    " ### XGBoost"
   ]
  },
  {
   "cell_type": "code",
   "execution_count": 187,
   "metadata": {},
   "outputs": [],
   "source": [
    "import xgboost as xgb"
   ]
  },
  {
   "cell_type": "code",
   "execution_count": 189,
   "metadata": {},
   "outputs": [
    {
     "name": "stderr",
     "output_type": "stream",
     "text": [
      "C:\\Users\\miazh_000\\Anaconda3\\lib\\site-packages\\xgboost\\core.py:587: FutureWarning: Series.base is deprecated and will be removed in a future version\n",
      "  if getattr(data, 'base', None) is not None and \\\n"
     ]
    }
   ],
   "source": [
    "D_train = xgb.DMatrix(X_train, label=y_train)\n",
    "D_test = xgb.DMatrix(X_test, label=y_test)"
   ]
  },
  {
   "cell_type": "code",
   "execution_count": 190,
   "metadata": {},
   "outputs": [],
   "source": [
    "param = {\n",
    "    'eta': 0.3, \n",
    "    'max_depth': 3,  \n",
    "    'objective': 'multi:softprob',  \n",
    "    'num_class': 2} \n",
    "\n",
    "steps = 20  # The number of training iterations"
   ]
  },
  {
   "cell_type": "code",
   "execution_count": 191,
   "metadata": {},
   "outputs": [],
   "source": [
    "model = xgb.train(param, D_train, steps)"
   ]
  },
  {
   "cell_type": "code",
   "execution_count": 194,
   "metadata": {},
   "outputs": [
    {
     "name": "stdout",
     "output_type": "stream",
     "text": [
      "Precision = 0.9417666048454144\n",
      "Recall = 0.941530885332281\n",
      "Accuracy = 0.9416666666666667\n"
     ]
    }
   ],
   "source": [
    "preds = model.predict(D_test)\n",
    "best_preds = np.asarray([np.argmax(line) for line in preds])\n",
    "\n",
    "print(\"Precision = {}\".format(precision_score(y_test, best_preds, average='macro')))\n",
    "print(\"Recall = {}\".format(recall_score(y_test, best_preds, average='macro')))\n",
    "print(\"Accuracy = {}\".format(accuracy_score(y_test, best_preds)))"
   ]
  },
  {
   "cell_type": "code",
   "execution_count": null,
   "metadata": {},
   "outputs": [],
   "source": [
    "clf = xgb.XGBClassifier()\n",
    "parameters = {\n",
    "     \"eta\"    : [0.05, 0.10, 0.15, 0.20, 0.25, 0.30 ] ,\n",
    "     \"max_depth\"        : [ 3, 4, 5, 6, 8, 10, 12, 15],\n",
    "     \"min_child_weight\" : [ 1, 3, 5, 7 ],\n",
    "     \"gamma\"            : [ 0.0, 0.1, 0.2 , 0.3, 0.4 ],\n",
    "     \"colsample_bytree\" : [ 0.3, 0.4, 0.5 , 0.7 ]\n",
    "     }\n",
    "\n",
    "grid = GridSearchCV(clf,\n",
    "                    parameters, n_jobs=4,\n",
    "                    scoring=\"neg_log_loss\",\n",
    "                    cv=3)\n",
    "\n",
    "grid.fit(X_train, y_train)"
   ]
  },
  {
   "cell_type": "code",
   "execution_count": null,
   "metadata": {},
   "outputs": [],
   "source": [
    "preds = grid.predict(D_test)\n",
    "best_preds = np.asarray([np.argmax(line) for line in preds])\n",
    "\n",
    "print(\"Precision = {}\".format(precision_score(y_test, best_preds, average='macro')))\n",
    "print(\"Recall = {}\".format(recall_score(y_test, best_preds, average='macro')))\n",
    "print(\"Accuracy = {}\".format(accuracy_score(y_test, best_preds)))"
   ]
  }
 ],
 "metadata": {
  "kernelspec": {
   "display_name": "Python 3",
   "language": "python",
   "name": "python3"
  },
  "language_info": {
   "codemirror_mode": {
    "name": "ipython",
    "version": 3
   },
   "file_extension": ".py",
   "mimetype": "text/x-python",
   "name": "python",
   "nbconvert_exporter": "python",
   "pygments_lexer": "ipython3",
   "version": "3.7.3"
  }
 },
 "nbformat": 4,
 "nbformat_minor": 2
}
