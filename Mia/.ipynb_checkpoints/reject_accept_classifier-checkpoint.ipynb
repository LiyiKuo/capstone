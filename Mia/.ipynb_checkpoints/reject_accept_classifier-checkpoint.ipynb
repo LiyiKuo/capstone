{
 "cells": [
  {
   "cell_type": "markdown",
   "metadata": {},
   "source": [
    "# Project Idea 1: \n",
    "\n",
    "- Make a simplifying assumption between the **loan issuance date** and application dates,\n",
    "convert the approved loans into the formats of rejected loan applications.\n",
    "- Use supervised technique and clustering, describe (reverse engineering) \n",
    "the loan approval criterion of **Lending Club**.\n",
    "\n",
    "    - Challenges: The aggregated data has more than $20M$ samples. This is\n",
    "        beyond the coverage of many ML algorithms. How do you design an apporach \n",
    "        which allows you to train on such a large size data? The problem is\n",
    "        particularly serious for training **pooled** models.\n",
    "    - When you apply supervised technique, it might involve imbalanced classification.\n",
    "    How would you handle 'im-balanced dataset' like this?\n",
    "    \n",
    "- Are there poor performing approved loans which should be rejected?\n",
    "- What is the business impact (pros and cons) of rejecting such non-performing loans?\n",
    "</a><br>\n",
    "# Structure: \n",
    "- <a href=\"#preprocessing\">Preprocessing</a><br>\n",
    "- <a href=\"#function\">Function</a><br>\n",
    "- <a href=\"#ml\">Machine Learning</a><br>\n",
    "    - Unsupervised Machine Learning  \n",
    "        - <a href=\"#kmeans\">K Means</a><br> \n",
    "\n",
    "    - Supervised Machine Learning      \n",
    "        - <a href=\"#decision\">Decision Tree</a><br>\n",
    "        - <a href=\"#rf\">Random Forest</a><br>\n",
    "        - <a href=\"#svm\">SVM</a><br>\n",
    "        - <a href=\"#xgboost\">XGBoost</a><br>\n",
    "        - <a href=\"#logistic\">Logistic Regression</a><br>\n",
    "        - <a href=\"#naive\">Naive Bayes Classifier</a><br>\n",
    "        - <a href=\"#neighbor\">Nearest Neighbor</a><br>"
   ]
  },
  {
   "cell_type": "code",
   "execution_count": 2,
   "metadata": {
    "scrolled": true
   },
   "outputs": [],
   "source": [
    "import numpy as np\n",
    "import pandas as pd\n",
    "\n",
    "pd.options.display.max_columns = None\n",
    "pd.options.display.max_rows = 100\n",
    "\n",
    "# from sklearn.preprocessing import OrdinalEncoder\n",
    "# from sklearn.preprocessing import OneHotEncoder\n",
    "# from sklearn.preprocessing import LabelEncoder\n",
    "\n",
    "# from sklearn.model_selection import train_test_split\n",
    "# from sklearn.linear_model import LinearRegression \n",
    "# from sklearn.preprocessing import StandardScaler, MinMaxScaler, MaxAbsScaler \n"
   ]
  },
  {
   "cell_type": "code",
   "execution_count": null,
   "metadata": {
    "scrolled": true
   },
   "outputs": [],
   "source": [
    "df_raw_accepted = pd.read_csv('accepted_2007_to_2018Q4.csv')\n",
    "df_raw_rejected = pd.read_csv('rejected_2007_to_2018Q4.csv')"
   ]
  },
  {
   "cell_type": "code",
   "execution_count": 22,
   "metadata": {
    "scrolled": true
   },
   "outputs": [],
   "source": [
    "sample_accepted = pd.read_csv('sample_accepted.csv')\n",
    "sample_rejected = pd.read_csv('sample_rejected.csv')"
   ]
  },
  {
   "cell_type": "markdown",
   "metadata": {},
   "source": [
    " <p><a name=\"preprocessing\"></a></p>\n",
    " \n",
    " ## Preprocessing Test"
   ]
  },
  {
   "cell_type": "code",
   "execution_count": 29,
   "metadata": {
    "scrolled": true
   },
   "outputs": [],
   "source": [
    "accepted = sample_accepted.copy()\n",
    "rejected = sample_rejected.copy()"
   ]
  },
  {
   "cell_type": "code",
   "execution_count": 30,
   "metadata": {
    "scrolled": true
   },
   "outputs": [],
   "source": [
    "rejected = rejected.iloc[:,1:9]\n",
    "rejected = rejected.rename(columns={\"Amount Requested\": \"loan_amnt\", \"Application Date\": \"app_date\", \"Loan Title\": \"purpose\",\n",
    "                         \"Risk_Score\": \"risk_score\", \"Debt-To-Income Ratio\": \"dti\", \"Zip Code\": \"zip_code\",\n",
    "                         \"State\": \"addr_state\", \"Employment Length\": \"emp_length\"})\n",
    "rejected['loan_status'] = 0\n",
    "\n",
    "rejected['purpose'] = rejected['purpose'].str.replace(r'(^.*consolidation.*$)', 'debt_consolidation')\n",
    "rejected['purpose'] = rejected['purpose'].str.replace(r'(^.*loan.*$)', 'debt_consolidation')\n",
    "rejected['purpose'] = rejected['purpose'].str.replace(r'(^.*debt.*$)', 'debt_consolidation')\n",
    "rejected['purpose'] = rejected['purpose'].str.replace(r'(^.*card.*$)', 'credit_card')\n",
    "rejected['purpose'] = rejected['purpose'].str.replace(r'(^.*credit.*$)', 'credit_card')\n",
    "rejected['purpose'] = rejected['purpose'].str.replace(r'(^.*house.*$)', 'house')\n",
    "rejected['purpose'] = rejected['purpose'].str.replace(r'(^.*business.*$)', 'small_business')\n",
    "rejected['purpose'] = rejected['purpose'].str.replace(r'(^.*car.*$)', 'car')\n",
    "rejected['purpose'] = rejected['purpose'].str.replace(r'(^.*education.*$)', 'education')\n",
    "\n",
    "\n",
    "rejected['purpose'] = np.where(rejected['purpose'].isin(['house', 'credit_card', 'major_purchase', 'debt_consolidation',\n",
    "   'other', 'moving', 'small_business', 'home_improvement',\n",
    "   'vacation', 'medical', 'renewable_energy', 'car', 'wedding']), rejected['purpose'], 'other')\n",
    "\n",
    "rejected['app_date'] = pd.to_datetime(rejected['app_date'])\n",
    "rejected['app_year'] = rejected['app_date'].dt.year\n",
    "rejected['app_month'] = rejected['app_date'].dt.month\n",
    "\n",
    "rejected = rejected.drop(columns = 'app_date')\n",
    "\n",
    "rejected['dti'] = rejected['dti'].str.replace('%','')"
   ]
  },
  {
   "cell_type": "code",
   "execution_count": 5,
   "metadata": {
    "scrolled": true
   },
   "outputs": [],
   "source": [
    "accepted = sample_accepted[['loan_amnt', 'purpose', 'dti',\n",
    "       'zip_code', 'addr_state', 'emp_length', 'issue_d',\n",
    "       'loan_status', 'last_fico_range_high','last_fico_range_low']]"
   ]
  },
  {
   "cell_type": "code",
   "execution_count": null,
   "metadata": {
    "scrolled": true
   },
   "outputs": [],
   "source": [
    "accepted['issue_d'] = pd.to_datetime(accepted['issue_d'])\n",
    "accepted['app_year'] = accepted['issue_d'].dt.year\n",
    "accepted['app_month'] = accepted['issue_d'].dt.month\n",
    "\n",
    "accepted['risk_score'] = (accepted['last_fico_range_high'] + accepted['last_fico_range_low'])/2\n",
    "accepted = accepted.drop(columns = ['issue_d','last_fico_range_high','last_fico_range_low'])\n",
    "\n",
    "accepted = accepted.replace({'loan_status' : { 'Charged Off' : 'rejected', 'Late (16-30 days)' : 'rejected', \n",
    "                                   'Late (31-120 days)' : 'rejected',\n",
    "                                   'Does not meet the credit policy. Status:Charged Off' : 'rejected',\n",
    "                                   'Fully Paid' : 'accepted', 'Current' : 'accepted',\n",
    "                                   'In Grace Period' : 'accepted',\n",
    "                                   'Does not meet the credit policy. Status:Fully Paid' : 'accepted'}})"
   ]
  },
  {
   "cell_type": "code",
   "execution_count": 7,
   "metadata": {
    "scrolled": true
   },
   "outputs": [],
   "source": [
    "df_processed = pd.concat([accepted, rejected], sort=True)"
   ]
  },
  {
   "cell_type": "code",
   "execution_count": 85,
   "metadata": {
    "scrolled": true
   },
   "outputs": [
    {
     "data": {
      "text/html": [
       "<div>\n",
       "<style scoped>\n",
       "    .dataframe tbody tr th:only-of-type {\n",
       "        vertical-align: middle;\n",
       "    }\n",
       "\n",
       "    .dataframe tbody tr th {\n",
       "        vertical-align: top;\n",
       "    }\n",
       "\n",
       "    .dataframe thead th {\n",
       "        text-align: right;\n",
       "    }\n",
       "</style>\n",
       "<table border=\"1\" class=\"dataframe\">\n",
       "  <thead>\n",
       "    <tr style=\"text-align: right;\">\n",
       "      <th></th>\n",
       "      <th>Total</th>\n",
       "      <th>Percent</th>\n",
       "    </tr>\n",
       "  </thead>\n",
       "  <tbody>\n",
       "    <tr>\n",
       "      <th>zip_code</th>\n",
       "      <td>0</td>\n",
       "      <td>0.0</td>\n",
       "    </tr>\n",
       "    <tr>\n",
       "      <th>risk_score</th>\n",
       "      <td>0</td>\n",
       "      <td>0.0</td>\n",
       "    </tr>\n",
       "    <tr>\n",
       "      <th>purpose</th>\n",
       "      <td>0</td>\n",
       "      <td>0.0</td>\n",
       "    </tr>\n",
       "    <tr>\n",
       "      <th>loan_status</th>\n",
       "      <td>0</td>\n",
       "      <td>0.0</td>\n",
       "    </tr>\n",
       "    <tr>\n",
       "      <th>loan_amnt</th>\n",
       "      <td>0</td>\n",
       "      <td>0.0</td>\n",
       "    </tr>\n",
       "    <tr>\n",
       "      <th>emp_length</th>\n",
       "      <td>0</td>\n",
       "      <td>0.0</td>\n",
       "    </tr>\n",
       "    <tr>\n",
       "      <th>dti</th>\n",
       "      <td>0</td>\n",
       "      <td>0.0</td>\n",
       "    </tr>\n",
       "    <tr>\n",
       "      <th>app_year</th>\n",
       "      <td>0</td>\n",
       "      <td>0.0</td>\n",
       "    </tr>\n",
       "    <tr>\n",
       "      <th>app_month</th>\n",
       "      <td>0</td>\n",
       "      <td>0.0</td>\n",
       "    </tr>\n",
       "    <tr>\n",
       "      <th>addr_state</th>\n",
       "      <td>0</td>\n",
       "      <td>0.0</td>\n",
       "    </tr>\n",
       "  </tbody>\n",
       "</table>\n",
       "</div>"
      ],
      "text/plain": [
       "             Total  Percent\n",
       "zip_code         0      0.0\n",
       "risk_score       0      0.0\n",
       "purpose          0      0.0\n",
       "loan_status      0      0.0\n",
       "loan_amnt        0      0.0\n",
       "emp_length       0      0.0\n",
       "dti              0      0.0\n",
       "app_year         0      0.0\n",
       "app_month        0      0.0\n",
       "addr_state       0      0.0"
      ]
     },
     "execution_count": 85,
     "metadata": {},
     "output_type": "execute_result"
    }
   ],
   "source": [
    "total = df_processed.isnull().sum().sort_values(ascending=False)\n",
    "percent = (df_processed.isnull().sum()/df_processed.isnull().count()).sort_values(ascending=False)\n",
    "missing_data = pd.concat([total, percent], axis=1, keys=['Total', 'Percent'])\n",
    "missing_data"
   ]
  },
  {
   "cell_type": "markdown",
   "metadata": {},
   "source": [
    " <p><a name=\"function\"></a></p>\n",
    " \n",
    " ## Processing Function "
   ]
  },
  {
   "cell_type": "code",
   "execution_count": 202,
   "metadata": {
    "scrolled": true
   },
   "outputs": [],
   "source": [
    "'''\n",
    "For applications prior to November 5, 2013 the risk score is the borrower's FICO score. \n",
    "For applications after November 5, 2013 the risk score is the borrower's Vantage score.\n",
    "'''\n",
    "\n",
    "def data_process(df_accepted,df_rejected):\n",
    "    \n",
    "    accepted = df_accepted.copy()\n",
    "    rejected = df_rejected.copy()\n",
    "    \n",
    "    # Processing accepted data \n",
    "    accepted = accepted[['loan_amnt', 'purpose', 'dti',\n",
    "       'zip_code', 'addr_state', 'emp_length', 'issue_d',\n",
    "       'loan_status', 'last_fico_range_high','last_fico_range_low']]\n",
    "    \n",
    "    accepted['issue_d'] = pd.to_datetime(accepted['issue_d'])\n",
    "    accepted['app_year'] = accepted['issue_d'].dt.year\n",
    "    accepted['app_month'] = accepted['issue_d'].dt.month\n",
    "\n",
    "    accepted['risk_score'] = (accepted['last_fico_range_high'] + accepted['last_fico_range_low'])/2\n",
    "    accepted = accepted.drop(columns = ['issue_d','last_fico_range_high','last_fico_range_low'])\n",
    "\n",
    "#     if reverse = False:\n",
    "#         accepted = accepted.replace({'loan_status' : { 'Charged Off' : 'rejected', 'Late (16-30 days)' : 'rejected', \n",
    "#                                        'Late (31-120 days)' : 'rejected',\n",
    "#                                        'Does not meet the credit policy. Status:Charged Off' : 'rejected',\n",
    "#                                        'Fully Paid' : 'accepted', 'Current' : 'accepted',\n",
    "#                                        'In Grace Period' : 'accepted',\n",
    "#                                        'Does not meet the credit policy. Status:Fully Paid' : 'accepted'}})\n",
    "\n",
    "    accepted['loan_status'] =1\n",
    "            \n",
    "    \n",
    "    # Processing rejected data \n",
    "    rejected = rejected.iloc[:,1:9]\n",
    "    rejected = rejected.rename(columns={\"Amount Requested\": \"loan_amnt\", \"Application Date\": \"app_date\", \"Loan Title\": \"purpose\",\n",
    "                             \"Risk_Score\": \"risk_score\", \"Debt-To-Income Ratio\": \"dti\", \"Zip Code\": \"zip_code\",\n",
    "                             \"State\": \"addr_state\", \"Employment Length\": \"emp_length\"})\n",
    "    rejected['loan_status'] = 0\n",
    "    \n",
    "    rejected['purpose'] = rejected['purpose'].str.replace(r'(^.*consolidation.*$)', 'debt_consolidation')\n",
    "    rejected['purpose'] = rejected['purpose'].str.replace(r'(^.*loan.*$)', 'debt_consolidation')\n",
    "    rejected['purpose'] = rejected['purpose'].str.replace(r'(^.*debt.*$)', 'debt_consolidation')\n",
    "    rejected['purpose'] = rejected['purpose'].str.replace(r'(^.*card.*$)', 'credit_card')\n",
    "    rejected['purpose'] = rejected['purpose'].str.replace(r'(^.*credit.*$)', 'credit_card')\n",
    "    rejected['purpose'] = rejected['purpose'].str.replace(r'(^.*house.*$)', 'house')\n",
    "    rejected['purpose'] = rejected['purpose'].str.replace(r'(^.*business.*$)', 'small_business')\n",
    "    rejected['purpose'] = rejected['purpose'].str.replace(r'(^.*car.*$)', 'car')\n",
    "    rejected['purpose'] = rejected['purpose'].str.replace(r'(^.*education.*$)', 'education')\n",
    "    \n",
    "    \n",
    "    rejected['purpose'] = np.where(rejected['purpose'].isin(['house', 'credit_card', 'major_purchase', 'debt_consolidation',\n",
    "       'other', 'moving', 'small_business', 'home_improvement',\n",
    "       'vacation', 'medical', 'renewable_energy', 'car', 'wedding']), rejected['purpose'], 'other')\n",
    "\n",
    "    rejected['app_date'] = pd.to_datetime(rejected['app_date'])\n",
    "    rejected['app_year'] = rejected['app_date'].dt.year\n",
    "    rejected['app_month'] = rejected['app_date'].dt.month\n",
    "\n",
    "    rejected = rejected.drop(columns = 'app_date')\n",
    "    \n",
    "    rejected['dti'] = rejected['dti'].str.replace('%','')\n",
    "    \n",
    "    # Merge accepted and rejected data for later process\n",
    "    df_processed = pd.concat([accepted, rejected], sort=True)\n",
    "    \n",
    "\n",
    "    # Convert categorical to numerical-- 10 means more than 10 years \n",
    "    df_processed['emp_length'] = df_processed['emp_length'].str.extract('(\\d+)')\n",
    "\n",
    "\n",
    "    # Missing Values: risk_score, emp_length, dti\n",
    "    df_processed['emp_length'] = df_processed['emp_length'].fillna(0)\n",
    "    df_processed['emp_length'] = df_processed['emp_length'].astype(int)\n",
    "    df_processed['risk_score'] = df_processed['risk_score'].fillna(0)\n",
    "    df_processed['dti'] = df_processed['dti'].fillna(0)\n",
    "    df_processed['dti'] = df_processed['dti'].astype(float)\n",
    "    \n",
    "    df_processed = pd.get_dummies(df_processed)\n",
    "    \n",
    "    return df_processed\n",
    "\n",
    "df_processed = data_process(sample_accepted,sample_rejected)"
   ]
  },
  {
   "cell_type": "code",
   "execution_count": 171,
   "metadata": {
    "scrolled": true
   },
   "outputs": [],
   "source": [
    "df_processed = data_process(sample_accepted,sample_rejected)"
   ]
  },
  {
   "cell_type": "code",
   "execution_count": null,
   "metadata": {
    "scrolled": true
   },
   "outputs": [],
   "source": [
    "df_processed"
   ]
  },
  {
   "cell_type": "markdown",
   "metadata": {},
   "source": [
    " <p><a name=\"ml\"></a></p>\n",
    " \n",
    " # Machine Learning\n",
    " \n",
    "- Unsupervised Machine Learning  \n",
    "    - <a href=\"#kmeans\">K Means</a><br> \n",
    "    \n",
    "- Supervised Machine Learning      \n",
    "    - <a href=\"#decision\">Decision Tree</a><br>\n",
    "    - <a href=\"#rf\">Random Forest</a><br>\n",
    "    - <a href=\"#svm\">SVM</a><br>\n",
    "    - <a href=\"#xgboost\">XGBoost</a><br>\n",
    "    - <a href=\"#logistic\">Logistic Regression</a><br>\n",
    "    - <a href=\"#naive\">Naive Bayes Classifier</a><br>\n",
    "    - <a href=\"#neighbor\">Nearest Neighbor</a><br>\n",
    "</a><br>\n",
    "- Working on\n",
    "    Neural Networks\n",
    "</a><br>\n",
    "- Links: \n",
    "    - https://github.com/perryrjohnson/Walk-Score/blob/master/feature%20engineering.ipynb\n",
    "    - https://towardsdatascience.com/an-implementation-and-explanation-of-the-random-forest-in-python-77bf308a9b76"
   ]
  },
  {
   "cell_type": "code",
   "execution_count": 107,
   "metadata": {
    "scrolled": true
   },
   "outputs": [],
   "source": [
    "from sklearn.model_selection import train_test_split, RandomizedSearchCV, GridSearchCV, cross_val_score\n",
    "\n",
    "\n",
    "from sklearn.cluster import KMeans\n",
    "from sklearn.tree import DecisionTreeClassifier\n",
    "from sklearn.ensemble import RandomForestRegressor, GradientBoostingRegressor\n",
    "from xgboost import XGBRegressor\n",
    "from sklearn.svm import LinearSVC\n",
    "from sklearn.naive_bayes import GaussianNB\n",
    "\n",
    "from sklearn import metrics\n",
    "from sklearn.metrics import confusion_matrix, roc_auc_score, f1_score, recall_score, precision_score, accuracy_score, roc_curve\n",
    "from sklearn.metrics import classification_report\n",
    "\n",
    "import seaborn as sns\n",
    "import matplotlib.pyplot as plt"
   ]
  },
  {
   "cell_type": "markdown",
   "metadata": {},
   "source": [
    " <p><a name=\"kmeans\"></a></p>\n",
    " \n",
    " ### K Means\n",
    " \n",
    " Link: https://towardsdatascience.com/machine-learning-algorithms-part-9-k-means-example-in-python-f2ad05ed5203"
   ]
  },
  {
   "cell_type": "code",
   "execution_count": 253,
   "metadata": {},
   "outputs": [],
   "source": [
    "from sklearn.cluster import KMeans"
   ]
  },
  {
   "cell_type": "code",
   "execution_count": 254,
   "metadata": {},
   "outputs": [
    {
     "data": {
      "image/png": "[encoded data removed]",
      "text/plain": [
       "<Figure size 432x288 with 1 Axes>"
      ]
     },
     "metadata": {
      "needs_background": "light"
     },
     "output_type": "display_data"
    }
   ],
   "source": [
    "wcss = []\n",
    "for i in range(1, 11):\n",
    "    kmeans = KMeans(n_clusters=i, init='k-means++', max_iter=300, n_init=10, random_state=0)\n",
    "    kmeans.fit(X_train)\n",
    "    wcss.append(kmeans.inertia_)\n",
    "plt.plot(range(1, 11), wcss)\n",
    "plt.title('Elbow Method')\n",
    "plt.xlabel('Number of clusters')\n",
    "plt.ylabel('WCSS')\n",
    "plt.show()"
   ]
  },
  {
   "cell_type": "markdown",
   "metadata": {},
   "source": [
    " <p><a name=\"decision\"></a></p>\n",
    " \n",
    " ### Decision Tree "
   ]
  },
  {
   "cell_type": "code",
   "execution_count": 247,
   "metadata": {
    "scrolled": true
   },
   "outputs": [],
   "source": [
    "# The predicted column is \"loan_status\" , split the data into training and test sets.\n",
    "x_m = df_processed.drop(['loan_status'], axis=1)\n",
    "y_m = df_processed.loc[:,'loan_status']\n",
    "X_train, X_test, y_train, y_test = train_test_split(x_m, y_m, test_size=0.2, random_state=42)"
   ]
  },
  {
   "cell_type": "code",
   "execution_count": 248,
   "metadata": {
    "scrolled": true
   },
   "outputs": [
    {
     "name": "stdout",
     "output_type": "stream",
     "text": [
      "Model Accuracy: 1.0\n",
      "Test Accuracy: 0.971748579070545\n"
     ]
    }
   ],
   "source": [
    "from sklearn.tree import DecisionTreeClassifier\n",
    "\n",
    "# Make a decision tree and train\n",
    "tree = DecisionTreeClassifier(random_state=42)\n",
    "tree.fit(X_train, y_train)\n",
    "\n",
    "print(f'Model Accuracy: {tree.score(X_train, y_train)}')\n",
    "\n",
    "y_pred = tree.predict(X_test)\n",
    "print(\"Test Accuracy:\",metrics.accuracy_score(y_test, y_pred))"
   ]
  },
  {
   "cell_type": "code",
   "execution_count": 249,
   "metadata": {
    "scrolled": true
   },
   "outputs": [
    {
     "name": "stdout",
     "output_type": "stream",
     "text": [
      "[[5486   85]\n",
      " [  84  327]]\n",
      "              precision    recall  f1-score   support\n",
      "\n",
      "           0       0.98      0.98      0.98      5571\n",
      "           1       0.79      0.80      0.79       411\n",
      "\n",
      "    accuracy                           0.97      5982\n",
      "   macro avg       0.89      0.89      0.89      5982\n",
      "weighted avg       0.97      0.97      0.97      5982\n",
      "\n"
     ]
    }
   ],
   "source": [
    "from sklearn.metrics import confusion_matrix\n",
    "\n",
    "confusion_matrix = confusion_matrix(y_test, y_pred)\n",
    "print(confusion_matrix)\n",
    "print(classification_report(y_test, y_pred))\n",
    "# logit_roc_auc = roc_auc_score(y_test, logreg.predict(X_test))\n",
    "# fpr, tpr, thresholds = roc_curve(y_test, logreg.predict_proba(X_test)[:,1])\n",
    "# plt.figure()\n",
    "# plt.plot(fpr, tpr, label='Logistic Regression (area = %0.2f)' % logit_roc_auc)\n",
    "# plt.plot([0, 1], [0, 1],'r--')\n",
    "# plt.xlim([0.0, 1.0])\n",
    "# plt.ylim([0.0, 1.05])\n",
    "# plt.xlabel('False Positive Rate')\n",
    "# plt.ylabel('True Positive Rate')\n",
    "# plt.title('Receiver operating characteristic')\n",
    "# plt.legend(loc=\"lower right\")\n",
    "# plt.savefig('Log_ROC')\n",
    "# plt.show()"
   ]
  },
  {
   "cell_type": "code",
   "execution_count": 250,
   "metadata": {},
   "outputs": [
    {
     "data": {
      "image/png": "[encoded data removed]",
      "text/plain": [
       "<Figure size 432x288 with 1 Axes>"
      ]
     },
     "metadata": {
      "needs_background": "light"
     },
     "output_type": "display_data"
    }
   ],
   "source": [
    "from sklearn.metrics import roc_curve, auc\n",
    "import matplotlib.pyplot as plt\n",
    "plt.style.use('ggplot')\n",
    "%matplotlib inline\n",
    "\n",
    "y_predict_probabilities = tree.predict_proba(X_test)[:,1]\n",
    "\n",
    "fpr, tpr, _ = roc_curve(y_test, y_predict_probabilities)\n",
    "roc_auc = auc(fpr, tpr)\n",
    "\n",
    "plt.figure()\n",
    "plt.plot(fpr, tpr, color='darkorange',\n",
    "         lw=2, label='ROC curve (area = %0.2f)' % roc_auc)\n",
    "plt.plot([0, 1], [0, 1], color='navy', lw=2, linestyle='--')\n",
    "plt.xlim([0.0, 1.0])\n",
    "plt.ylim([0.0, 1.05])\n",
    "plt.xlabel('False Positive Rate')\n",
    "plt.ylabel('True Positive Rate')\n",
    "plt.title('ROC Curve')\n",
    "plt.legend(loc=\"lower right\")\n",
    "plt.show()"
   ]
  },
  {
   "cell_type": "code",
   "execution_count": 148,
   "metadata": {
    "scrolled": true
   },
   "outputs": [
    {
     "data": {
      "image/png": "[encoded data removed]",
      "text/plain": [
       "<Figure size 360x504 with 1 Axes>"
      ]
     },
     "metadata": {
      "needs_background": "light"
     },
     "output_type": "display_data"
    }
   ],
   "source": [
    "features = X_train.columns\n",
    "importance = tree.feature_importances_\n",
    "\n",
    "indices = np.argsort(importance)[-12:]\n",
    "plt.figure(figsize=(5, 7))\n",
    "plt.title(\"Feature importances\", fontsize = 18)\n",
    "plt.barh(features[indices], importance[indices],\n",
    "       color=\"b\",  align=\"center\")\n",
    "plt.tick_params(labelsize=14);"
   ]
  },
  {
   "cell_type": "markdown",
   "metadata": {},
   "source": [
    " <p><a name=\"rf\"></a></p>\n",
    " \n",
    " ### Random Forest"
   ]
  },
  {
   "cell_type": "code",
   "execution_count": 208,
   "metadata": {
    "scrolled": true
   },
   "outputs": [
    {
     "name": "stdout",
     "output_type": "stream",
     "text": [
      "Model Accuracy: 0.9312102975593447\n",
      "Test Accuracy: 0.938649281176864\n"
     ]
    }
   ],
   "source": [
    "from sklearn.ensemble import RandomForestClassifier\n",
    "\n",
    "# Create the model with 1000 trees\n",
    "model = RandomForestClassifier(n_estimators=100, max_depth=10, n_jobs=-1)\n",
    "\n",
    "# Fit on training data\n",
    "model.fit(X_train, y_train)\n",
    "y_pred = model.predict(X_test)\n",
    "\n",
    "print(f'Model Accuracy: {model.score(X_train, y_train)}')\n",
    "print(\"Test Accuracy:\",metrics.accuracy_score(y_test, y_pred))"
   ]
  },
  {
   "cell_type": "code",
   "execution_count": 209,
   "metadata": {
    "scrolled": true
   },
   "outputs": [
    {
     "name": "stdout",
     "output_type": "stream",
     "text": [
      "[[5571    0]\n",
      " [ 367   44]]\n",
      "              precision    recall  f1-score   support\n",
      "\n",
      "           0       0.94      1.00      0.97      5571\n",
      "           1       1.00      0.11      0.19       411\n",
      "\n",
      "    accuracy                           0.94      5982\n",
      "   macro avg       0.97      0.55      0.58      5982\n",
      "weighted avg       0.94      0.94      0.91      5982\n",
      "\n"
     ]
    }
   ],
   "source": [
    "from sklearn.metrics import confusion_matrix\n",
    "\n",
    "confusion_matrix = confusion_matrix(y_test, y_pred)\n",
    "print(confusion_matrix)\n",
    "print(classification_report(y_test, y_pred))\n",
    "# logit_roc_auc = roc_auc_score(y_test, logreg.predict(X_test))\n",
    "# fpr, tpr, thresholds = roc_curve(y_test, logreg.predict_proba(X_test)[:,1])\n",
    "# plt.figure()\n",
    "# plt.plot(fpr, tpr, label='Logistic Regression (area = %0.2f)' % logit_roc_auc)\n",
    "# plt.plot([0, 1], [0, 1],'r--')\n",
    "# plt.xlim([0.0, 1.0])\n",
    "# plt.ylim([0.0, 1.05])\n",
    "# plt.xlabel('False Positive Rate')\n",
    "# plt.ylabel('True Positive Rate')\n",
    "# plt.title('Receiver operating characteristic')\n",
    "# plt.legend(loc=\"lower right\")\n",
    "# plt.savefig('Log_ROC')\n",
    "# plt.show()"
   ]
  },
  {
   "cell_type": "code",
   "execution_count": null,
   "metadata": {},
   "outputs": [],
   "source": []
  },
  {
   "cell_type": "code",
   "execution_count": 211,
   "metadata": {
    "scrolled": true
   },
   "outputs": [],
   "source": [
    "# Actual class predictions\n",
    "rf_predictions = model.predict(X_test)\n",
    "# Probabilities for each class\n",
    "rf_probs = model.predict_proba(X_test)[:, 1]"
   ]
  },
  {
   "cell_type": "code",
   "execution_count": 212,
   "metadata": {
    "scrolled": true
   },
   "outputs": [
    {
     "data": {
      "text/plain": [
       "0.9578666198479177"
      ]
     },
     "execution_count": 212,
     "metadata": {},
     "output_type": "execute_result"
    }
   ],
   "source": [
    "# Calculate roc auc\n",
    "roc_value = roc_auc_score(y_test, rf_probs)\n",
    "roc_value"
   ]
  },
  {
   "cell_type": "code",
   "execution_count": 210,
   "metadata": {
    "scrolled": true
   },
   "outputs": [
    {
     "data": {
      "image/png": "[encoded data removed]",
      "text/plain": [
       "<Figure size 360x504 with 1 Axes>"
      ]
     },
     "metadata": {
      "needs_background": "light"
     },
     "output_type": "display_data"
    }
   ],
   "source": [
    "features = X_train.columns\n",
    "importance = model.feature_importances_\n",
    "\n",
    "indices = np.argsort(importance)[-12:]\n",
    "plt.figure(figsize=(5, 7))\n",
    "plt.title(\"Feature importances\", fontsize = 18)\n",
    "plt.barh(features[indices], importance[indices],\n",
    "       color=\"b\",  align=\"center\")\n",
    "plt.tick_params(labelsize=14);\n",
    "\n",
    "\n",
    "# feature_imp = pd.Series(model.feature_importances_,index=X_train.columns).sort_values(ascending=False)\n",
    "# feature_imp.head(15).plot.barh()"
   ]
  },
  {
   "cell_type": "code",
   "execution_count": null,
   "metadata": {
    "scrolled": true
   },
   "outputs": [],
   "source": [
    "forest = RandomForestRegressor(n_jobs=2)\n",
    "\n",
    "# Number of trees in random forest\n",
    "n_estimators = [300, 400, 500, 600, 700, 800]\n",
    "# Number of features to consider at every split\n",
    "max_features = [2, 3, 4, 5, 6, 7]\n",
    "# Maximum number of levels in tree\n",
    "max_depth = [20, 22, 24]\n",
    "# Minimum number of samples required to split a node\n",
    "min_samples_split = [2, 3, 4, 5]\n",
    "# Minimum number of samples required at each leaf node\n",
    "min_samples_leaf = [2, 3, 4]\n",
    "# Create the random grid\n",
    "random_grid = {'n_estimators': n_estimators,\n",
    "               'max_features': max_features,\n",
    "              'max_depth': max_depth,\n",
    "               'min_samples_split': min_samples_split,\n",
    "               'min_samples_leaf': min_samples_leaf}\n",
    "\n",
    "forest_grid = RandomizedSearchCV(forest, param_distributions= random_grid, \n",
    "                                 cv = 5, scoring= 'neg_mean_squared_error')\n",
    "\n",
    "forest_grid.fit(X_train, y_train)"
   ]
  },
  {
   "cell_type": "code",
   "execution_count": 179,
   "metadata": {
    "scrolled": true
   },
   "outputs": [],
   "source": [
    "forest_grid_predictions =forest_grid.best_estimator_.predict(X_test)"
   ]
  },
  {
   "cell_type": "code",
   "execution_count": null,
   "metadata": {
    "scrolled": true
   },
   "outputs": [],
   "source": [
    "confusion_matrix(y_test, forest_grid_predictions)"
   ]
  },
  {
   "cell_type": "code",
   "execution_count": 184,
   "metadata": {
    "scrolled": true
   },
   "outputs": [
    {
     "data": {
      "image/png": "[encoded data removed]",
      "text/plain": [
       "<Figure size 360x504 with 1 Axes>"
      ]
     },
     "metadata": {
      "needs_background": "light"
     },
     "output_type": "display_data"
    }
   ],
   "source": [
    "features = X_train.columns\n",
    "importance = forest_grid.best_estimator_.feature_importances_\n",
    "indices = np.argsort(importance)[-12:]\n",
    "plt.figure(figsize=(5, 7))\n",
    "plt.title(\"Feature importances\", fontsize = 18)\n",
    "plt.barh(features[indices], importance[indices],\n",
    "       color=\"b\",  align=\"center\")\n",
    "plt.tick_params(labelsize=14)"
   ]
  },
  {
   "cell_type": "markdown",
   "metadata": {},
   "source": [
    " <p><a name=\"svm\"></a></p>\n",
    " \n",
    " ### SVM"
   ]
  },
  {
   "cell_type": "code",
   "execution_count": 213,
   "metadata": {
    "scrolled": true
   },
   "outputs": [
    {
     "name": "stderr",
     "output_type": "stream",
     "text": [
      "C:\\Users\\miazh_000\\Anaconda3\\lib\\site-packages\\sklearn\\svm\\base.py:929: ConvergenceWarning: Liblinear failed to converge, increase the number of iterations.\n",
      "  \"the number of iterations.\", ConvergenceWarning)\n"
     ]
    },
    {
     "data": {
      "text/plain": [
       "LinearSVC(C=1.0, class_weight=None, dual=True, fit_intercept=True,\n",
       "          intercept_scaling=1, loss='squared_hinge', max_iter=1000,\n",
       "          multi_class='ovr', penalty='l2', random_state=None, tol=0.0001,\n",
       "          verbose=0)"
      ]
     },
     "execution_count": 213,
     "metadata": {},
     "output_type": "execute_result"
    }
   ],
   "source": [
    "svc = LinearSVC()\n",
    "svc.fit(X_train, y_train)"
   ]
  },
  {
   "cell_type": "code",
   "execution_count": 214,
   "metadata": {
    "scrolled": true
   },
   "outputs": [],
   "source": [
    "y_pred_svc = svc.predict(X_test)"
   ]
  },
  {
   "cell_type": "code",
   "execution_count": 150,
   "metadata": {
    "scrolled": true
   },
   "outputs": [
    {
     "data": {
      "text/plain": [
       "array([[314, 273],\n",
       "       [  5, 608]], dtype=int64)"
      ]
     },
     "execution_count": 150,
     "metadata": {},
     "output_type": "execute_result"
    }
   ],
   "source": [
    "confusion_matrix(y_test, y_pred_svc)"
   ]
  },
  {
   "cell_type": "code",
   "execution_count": 215,
   "metadata": {},
   "outputs": [
    {
     "name": "stdout",
     "output_type": "stream",
     "text": [
      "[[5534   37]\n",
      " [ 274  137]]\n",
      "              precision    recall  f1-score   support\n",
      "\n",
      "           0       0.95      0.99      0.97      5571\n",
      "           1       0.79      0.33      0.47       411\n",
      "\n",
      "    accuracy                           0.95      5982\n",
      "   macro avg       0.87      0.66      0.72      5982\n",
      "weighted avg       0.94      0.95      0.94      5982\n",
      "\n"
     ]
    }
   ],
   "source": [
    "from sklearn.metrics import confusion_matrix\n",
    "\n",
    "confusion_matrix = confusion_matrix(y_test, y_pred_svc)\n",
    "print(confusion_matrix)\n",
    "print(classification_report(y_test, y_pred_svc))\n",
    "# logit_roc_auc = roc_auc_score(y_pred_svc, logreg.predict(X_test))\n",
    "# fpr, tpr, thresholds = roc_curve(y_pred_svc, logreg.predict_proba(X_test)[:,1])\n",
    "# plt.figure()\n",
    "# plt.plot(fpr, tpr, label='Logistic Regression (area = %0.2f)' % logit_roc_auc)\n",
    "# plt.plot([0, 1], [0, 1],'r--')\n",
    "# plt.xlim([0.0, 1.0])\n",
    "# plt.ylim([0.0, 1.05])\n",
    "# plt.xlabel('False Positive Rate')\n",
    "# plt.ylabel('True Positive Rate')\n",
    "# plt.title('Receiver operating characteristic')\n",
    "# plt.legend(loc=\"lower right\")\n",
    "# plt.savefig('Log_ROC')\n",
    "# plt.show()"
   ]
  },
  {
   "cell_type": "markdown",
   "metadata": {},
   "source": [
    " <p><a name=\"xgboost\"></a></p>\n",
    " \n",
    " ### XGBoost"
   ]
  },
  {
   "cell_type": "code",
   "execution_count": 217,
   "metadata": {
    "scrolled": true
   },
   "outputs": [],
   "source": [
    "import xgboost as xgb"
   ]
  },
  {
   "cell_type": "code",
   "execution_count": 218,
   "metadata": {
    "scrolled": true
   },
   "outputs": [
    {
     "name": "stderr",
     "output_type": "stream",
     "text": [
      "C:\\Users\\miazh_000\\Anaconda3\\lib\\site-packages\\xgboost\\core.py:587: FutureWarning: Series.base is deprecated and will be removed in a future version\n",
      "  if getattr(data, 'base', None) is not None and \\\n"
     ]
    }
   ],
   "source": [
    "D_train = xgb.DMatrix(X_train, label=y_train)\n",
    "D_test = xgb.DMatrix(X_test, label=y_test)"
   ]
  },
  {
   "cell_type": "code",
   "execution_count": 219,
   "metadata": {
    "scrolled": true
   },
   "outputs": [],
   "source": [
    "param = {\n",
    "    'eta': 0.3, \n",
    "    'max_depth': 3,  \n",
    "    'objective': 'multi:softprob',  \n",
    "    'num_class': 2} \n",
    "\n",
    "steps = 20  # The number of training iterations"
   ]
  },
  {
   "cell_type": "code",
   "execution_count": 220,
   "metadata": {
    "scrolled": true
   },
   "outputs": [],
   "source": [
    "model = xgb.train(param, D_train, steps)"
   ]
  },
  {
   "cell_type": "code",
   "execution_count": 221,
   "metadata": {
    "scrolled": true
   },
   "outputs": [
    {
     "name": "stdout",
     "output_type": "stream",
     "text": [
      "Precision = 0.9286461443624665\n",
      "Recall = 0.8887257657289378\n",
      "Accuracy = 0.977432296890672\n"
     ]
    }
   ],
   "source": [
    "preds = model.predict(D_test)\n",
    "best_preds = np.asarray([np.argmax(line) for line in preds])\n",
    "\n",
    "print(\"Precision = {}\".format(precision_score(y_test, best_preds, average='macro')))\n",
    "print(\"Recall = {}\".format(recall_score(y_test, best_preds, average='macro')))\n",
    "print(\"Accuracy = {}\".format(accuracy_score(y_test, best_preds)))"
   ]
  },
  {
   "cell_type": "code",
   "execution_count": 195,
   "metadata": {
    "scrolled": true
   },
   "outputs": [
    {
     "data": {
      "text/plain": [
       "GridSearchCV(cv=3, error_score='raise-deprecating',\n",
       "             estimator=XGBClassifier(base_score=0.5, booster='gbtree',\n",
       "                                     colsample_bylevel=1, colsample_bynode=1,\n",
       "                                     colsample_bytree=1, gamma=0,\n",
       "                                     learning_rate=0.1, max_delta_step=0,\n",
       "                                     max_depth=3, min_child_weight=1,\n",
       "                                     missing=None, n_estimators=100, n_jobs=1,\n",
       "                                     nthread=None, objective='binary:logistic',\n",
       "                                     random_state=0, reg_alpha=0, reg_l...\n",
       "                                     scale_pos_weight=1, seed=None, silent=None,\n",
       "                                     subsample=1, verbosity=1),\n",
       "             iid='warn', n_jobs=4,\n",
       "             param_grid={'colsample_bytree': [0.3, 0.4, 0.5, 0.7],\n",
       "                         'eta': [0.05, 0.1, 0.15, 0.2, 0.25, 0.3],\n",
       "                         'gamma': [0.0, 0.1, 0.2, 0.3, 0.4],\n",
       "                         'max_depth': [3, 4, 5, 6, 8, 10, 12, 15],\n",
       "                         'min_child_weight': [1, 3, 5, 7]},\n",
       "             pre_dispatch='2*n_jobs', refit=True, return_train_score=False,\n",
       "             scoring='neg_log_loss', verbose=0)"
      ]
     },
     "execution_count": 195,
     "metadata": {},
     "output_type": "execute_result"
    }
   ],
   "source": [
    "clf = xgb.XGBClassifier()\n",
    "parameters = {\n",
    "     \"eta\"    : [0.05, 0.10, 0.15, 0.20, 0.25, 0.30 ] ,\n",
    "     \"max_depth\"        : [ 3, 4, 5, 6, 8, 10, 12, 15],\n",
    "     \"min_child_weight\" : [ 1, 3, 5, 7 ],\n",
    "     \"gamma\"            : [ 0.0, 0.1, 0.2 , 0.3, 0.4 ],\n",
    "     \"colsample_bytree\" : [ 0.3, 0.4, 0.5 , 0.7 ]\n",
    "     }\n",
    "\n",
    "grid = GridSearchCV(clf,\n",
    "                    parameters, n_jobs=4,\n",
    "                    scoring=\"neg_log_loss\",\n",
    "                    cv=3)\n",
    "\n",
    "grid.fit(X_train, y_train)"
   ]
  },
  {
   "cell_type": "code",
   "execution_count": null,
   "metadata": {
    "scrolled": true
   },
   "outputs": [],
   "source": [
    "preds = grid.predict(D_test)\n",
    "best_preds = np.asarray([np.argmax(line) for line in preds])\n",
    "\n",
    "print(\"Precision = {}\".format(precision_score(y_test, best_preds, average='macro')))\n",
    "print(\"Recall = {}\".format(recall_score(y_test, best_preds, average='macro')))\n",
    "print(\"Accuracy = {}\".format(accuracy_score(y_test, best_preds)))"
   ]
  },
  {
   "cell_type": "code",
   "execution_count": null,
   "metadata": {
    "scrolled": true
   },
   "outputs": [],
   "source": [
    "confusion_matrix = confusion_matrix(y_test, y_pred)\n",
    "print(confusion_matrix)\n",
    "print(classification_report(y_test, y_pred))\n",
    "logit_roc_auc = roc_auc_score(y_test, logreg.predict(X_test))\n",
    "fpr, tpr, thresholds = roc_curve(y_test, logreg.predict_proba(X_test)[:,1])\n",
    "plt.figure()\n",
    "plt.plot(fpr, tpr, label='Logistic Regression (area = %0.2f)' % logit_roc_auc)\n",
    "plt.plot([0, 1], [0, 1],'r--')\n",
    "plt.xlim([0.0, 1.0])\n",
    "plt.ylim([0.0, 1.05])\n",
    "plt.xlabel('False Positive Rate')\n",
    "plt.ylabel('True Positive Rate')\n",
    "plt.title('Receiver operating characteristic')\n",
    "plt.legend(loc=\"lower right\")\n",
    "plt.savefig('Log_ROC')\n",
    "plt.show()"
   ]
  },
  {
   "cell_type": "markdown",
   "metadata": {},
   "source": [
    " <p><a name=\"logistic\"></a></p>\n",
    " \n",
    " ### Logistic Regression\n",
    " \n",
    "- Links: https://towardsdatascience.com/building-a-logistic-regression-in-python-step-by-step-becd4d56c9c8"
   ]
  },
  {
   "cell_type": "code",
   "execution_count": 222,
   "metadata": {
    "scrolled": true
   },
   "outputs": [],
   "source": [
    "from sklearn.linear_model import LogisticRegression"
   ]
  },
  {
   "cell_type": "code",
   "execution_count": 223,
   "metadata": {
    "scrolled": true
   },
   "outputs": [
    {
     "name": "stderr",
     "output_type": "stream",
     "text": [
      "C:\\Users\\miazh_000\\Anaconda3\\lib\\site-packages\\sklearn\\linear_model\\logistic.py:432: FutureWarning: Default solver will be changed to 'lbfgs' in 0.22. Specify a solver to silence this warning.\n",
      "  FutureWarning)\n"
     ]
    },
    {
     "data": {
      "text/plain": [
       "LogisticRegression(C=1.0, class_weight=None, dual=False, fit_intercept=True,\n",
       "                   intercept_scaling=1, l1_ratio=None, max_iter=100,\n",
       "                   multi_class='warn', n_jobs=None, penalty='l2',\n",
       "                   random_state=None, solver='warn', tol=0.0001, verbose=0,\n",
       "                   warm_start=False)"
      ]
     },
     "execution_count": 223,
     "metadata": {},
     "output_type": "execute_result"
    }
   ],
   "source": [
    "logreg = LogisticRegression()\n",
    "logreg.fit(X_train, y_train)"
   ]
  },
  {
   "cell_type": "code",
   "execution_count": 224,
   "metadata": {
    "scrolled": true
   },
   "outputs": [
    {
     "name": "stdout",
     "output_type": "stream",
     "text": [
      "Accuracy of logistic regression classifier on test set: 0.96\n"
     ]
    }
   ],
   "source": [
    "y_pred = logreg.predict(X_test)\n",
    "print('Accuracy of logistic regression classifier on test set: {:.2f}'.format(logreg.score(X_test, y_test)))"
   ]
  },
  {
   "cell_type": "code",
   "execution_count": 225,
   "metadata": {
    "scrolled": true
   },
   "outputs": [
    {
     "name": "stdout",
     "output_type": "stream",
     "text": [
      "[[5513   58]\n",
      " [ 199  212]]\n"
     ]
    }
   ],
   "source": [
    "from sklearn.metrics import confusion_matrix\n",
    "\n",
    "confusion_matrix = confusion_matrix(y_test, logreg.predict(X_test))\n",
    "\n",
    "print(confusion_matrix)"
   ]
  },
  {
   "cell_type": "code",
   "execution_count": 226,
   "metadata": {
    "scrolled": true
   },
   "outputs": [
    {
     "name": "stdout",
     "output_type": "stream",
     "text": [
      "              precision    recall  f1-score   support\n",
      "\n",
      "           0       0.97      0.99      0.98      5571\n",
      "           1       0.79      0.52      0.62       411\n",
      "\n",
      "    accuracy                           0.96      5982\n",
      "   macro avg       0.88      0.75      0.80      5982\n",
      "weighted avg       0.95      0.96      0.95      5982\n",
      "\n"
     ]
    }
   ],
   "source": [
    "print(classification_report(y_test, y_pred))"
   ]
  },
  {
   "cell_type": "code",
   "execution_count": 227,
   "metadata": {
    "scrolled": true
   },
   "outputs": [
    {
     "data": {
      "image/png": "[encoded data removed]",
      "text/plain": [
       "<Figure size 432x288 with 1 Axes>"
      ]
     },
     "metadata": {
      "needs_background": "light"
     },
     "output_type": "display_data"
    }
   ],
   "source": [
    "logit_roc_auc = roc_auc_score(y_test, logreg.predict(X_test))\n",
    "fpr, tpr, thresholds = roc_curve(y_test, logreg.predict_proba(X_test)[:,1])\n",
    "plt.figure()\n",
    "plt.plot(fpr, tpr, label='Logistic Regression (area = %0.2f)' % logit_roc_auc)\n",
    "plt.plot([0, 1], [0, 1],'r--')\n",
    "plt.xlim([0.0, 1.0])\n",
    "plt.ylim([0.0, 1.05])\n",
    "plt.xlabel('False Positive Rate')\n",
    "plt.ylabel('True Positive Rate')\n",
    "plt.title('Receiver operating characteristic')\n",
    "plt.legend(loc=\"lower right\")\n",
    "plt.savefig('Log_ROC')\n",
    "plt.show()"
   ]
  },
  {
   "cell_type": "markdown",
   "metadata": {},
   "source": [
    " <p><a name=\"naive\"></a></p>\n",
    " \n",
    " ### Naive Bayes Classifier"
   ]
  },
  {
   "cell_type": "code",
   "execution_count": 228,
   "metadata": {
    "scrolled": true
   },
   "outputs": [],
   "source": [
    "from sklearn.naive_bayes import GaussianNB\n",
    "\n",
    "#Create a Gaussian Classifier\n",
    "model = GaussianNB()\n",
    "\n",
    "# Train the model using the training sets\n",
    "model.fit(X_train, y_train)\n",
    "\n",
    "#Predict Output\n",
    "y_pred = model.predict(X_test) "
   ]
  },
  {
   "cell_type": "code",
   "execution_count": 229,
   "metadata": {},
   "outputs": [
    {
     "name": "stdout",
     "output_type": "stream",
     "text": [
      "[[4089 1482]\n",
      " [  10  401]]\n",
      "              precision    recall  f1-score   support\n",
      "\n",
      "           0       1.00      0.73      0.85      5571\n",
      "           1       0.21      0.98      0.35       411\n",
      "\n",
      "    accuracy                           0.75      5982\n",
      "   macro avg       0.61      0.85      0.60      5982\n",
      "weighted avg       0.94      0.75      0.81      5982\n",
      "\n"
     ]
    },
    {
     "data": {
      "image/png": "[encoded data removed]",
      "text/plain": [
       "<Figure size 432x288 with 1 Axes>"
      ]
     },
     "metadata": {
      "needs_background": "light"
     },
     "output_type": "display_data"
    }
   ],
   "source": [
    "from sklearn.metrics import confusion_matrix\n",
    "\n",
    "confusion_matrix = confusion_matrix(y_test, y_pred)\n",
    "print(confusion_matrix)\n",
    "print(classification_report(y_test, y_pred))\n",
    "logit_roc_auc = roc_auc_score(y_test, logreg.predict(X_test))\n",
    "fpr, tpr, thresholds = roc_curve(y_test, logreg.predict_proba(X_test)[:,1])\n",
    "plt.figure()\n",
    "plt.plot(fpr, tpr, label='Logistic Regression (area = %0.2f)' % logit_roc_auc)\n",
    "plt.plot([0, 1], [0, 1],'r--')\n",
    "plt.xlim([0.0, 1.0])\n",
    "plt.ylim([0.0, 1.05])\n",
    "plt.xlabel('False Positive Rate')\n",
    "plt.ylabel('True Positive Rate')\n",
    "plt.title('Receiver operating characteristic')\n",
    "plt.legend(loc=\"lower right\")\n",
    "plt.savefig('Log_ROC')\n",
    "plt.show()"
   ]
  },
  {
   "cell_type": "markdown",
   "metadata": {},
   "source": [
    " <p><a name=\"neighbor\"></a></p>\n",
    " \n",
    " ### Nearest Neighbor"
   ]
  },
  {
   "cell_type": "code",
   "execution_count": 230,
   "metadata": {},
   "outputs": [],
   "source": [
    "from sklearn import preprocessing"
   ]
  },
  {
   "cell_type": "code",
   "execution_count": 238,
   "metadata": {},
   "outputs": [],
   "source": [
    "scaler = preprocessing.MinMaxScaler()\n",
    "X_train_scaler  = scaler.fit_transform(X_train)\n",
    "X_test_scaler  = scaler.fit_transform(X_test)"
   ]
  },
  {
   "cell_type": "code",
   "execution_count": 239,
   "metadata": {},
   "outputs": [],
   "source": [
    "from sklearn.decomposition import PCA\n",
    "\n",
    "pca_model = PCA(n_components=2)\n",
    "pca_model.fit(X_train_scaler)\n",
    "X_train = pca_model.transform(X_train_scaler)\n",
    "X_test = pca_model.transform(X_test_scaler)"
   ]
  },
  {
   "cell_type": "code",
   "execution_count": 240,
   "metadata": {},
   "outputs": [
    {
     "data": {
      "text/plain": [
       "KNeighborsClassifier(algorithm='auto', leaf_size=30, metric='minkowski',\n",
       "                     metric_params=None, n_jobs=None, n_neighbors=2, p=2,\n",
       "                     weights='uniform')"
      ]
     },
     "execution_count": 240,
     "metadata": {},
     "output_type": "execute_result"
    }
   ],
   "source": [
    "from sklearn.neighbors import KNeighborsClassifier\n",
    "\n",
    "k = 2\n",
    "\n",
    "knn_model = KNeighborsClassifier(n_neighbors=k)\n",
    "knn_model.fit(X_train_scaler, y_train) "
   ]
  },
  {
   "cell_type": "code",
   "execution_count": 241,
   "metadata": {},
   "outputs": [],
   "source": [
    "y_pred = knn_model.predict(X_test_scaler)"
   ]
  },
  {
   "cell_type": "code",
   "execution_count": 242,
   "metadata": {},
   "outputs": [
    {
     "name": "stdout",
     "output_type": "stream",
     "text": [
      "[[5438  133]\n",
      " [ 319   92]]\n",
      "              precision    recall  f1-score   support\n",
      "\n",
      "           0       0.94      0.98      0.96      5571\n",
      "           1       0.41      0.22      0.29       411\n",
      "\n",
      "    accuracy                           0.92      5982\n",
      "   macro avg       0.68      0.60      0.62      5982\n",
      "weighted avg       0.91      0.92      0.91      5982\n",
      "\n"
     ]
    }
   ],
   "source": [
    "from sklearn.metrics import confusion_matrix\n",
    "\n",
    "confusion_matrix = confusion_matrix(y_test, y_pred)\n",
    "print(confusion_matrix)\n",
    "print(classification_report(y_test, y_pred))\n"
   ]
  },
  {
   "cell_type": "code",
   "execution_count": 244,
   "metadata": {},
   "outputs": [
    {
     "data": {
      "image/png": "[encoded data removed]",
      "text/plain": [
       "<Figure size 432x288 with 1 Axes>"
      ]
     },
     "metadata": {
      "needs_background": "light"
     },
     "output_type": "display_data"
    }
   ],
   "source": [
    "from sklearn.metrics import roc_curve, auc\n",
    "import matplotlib.pyplot as plt\n",
    "plt.style.use('ggplot')\n",
    "%matplotlib inline\n",
    "\n",
    "y_predict_probabilities = knn_model.predict_proba(X_test_scaler)[:,1]\n",
    "\n",
    "fpr, tpr, _ = roc_curve(y_test, y_predict_probabilities)\n",
    "roc_auc = auc(fpr, tpr)\n",
    "\n",
    "plt.figure()\n",
    "plt.plot(fpr, tpr, color='darkorange',\n",
    "         lw=2, label='ROC curve (area = %0.2f)' % roc_auc)\n",
    "plt.plot([0, 1], [0, 1], color='navy', lw=2, linestyle='--')\n",
    "plt.xlim([0.0, 1.0])\n",
    "plt.ylim([0.0, 1.05])\n",
    "plt.xlabel('False Positive Rate')\n",
    "plt.ylabel('True Positive Rate')\n",
    "plt.title('ROC Curve')\n",
    "plt.legend(loc=\"lower right\")\n",
    "plt.show()"
   ]
  }
 ],
 "metadata": {
  "kernelspec": {
   "display_name": "Python 3",
   "language": "python",
   "name": "python3"
  },
  "language_info": {
   "codemirror_mode": {
    "name": "ipython",
    "version": 3
   },
   "file_extension": ".py",
   "mimetype": "text/x-python",
   "name": "python",
   "nbconvert_exporter": "python",
   "pygments_lexer": "ipython3",
   "version": "3.7.3"
  }
 },
 "nbformat": 4,
 "nbformat_minor": 2
}
